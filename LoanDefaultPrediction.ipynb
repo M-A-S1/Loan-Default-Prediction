{
 "cells": [
  {
   "attachments": {
    "COUR_IPO.png": {
     "image/png": "[encoded data removed]"
    }
   },
   "cell_type": "markdown",
   "metadata": {},
   "source": [
    "![COUR_IPO.png](attachment:COUR_IPO.png)"
   ]
  },
  {
   "cell_type": "markdown",
   "metadata": {},
   "source": [
    "# Welcome to the Data Science Coding Challange!\n",
    "\n",
    "Test your skills in a real-world coding challenge. Coding Challenges provide CS & DS Coding Competitions with Prizes and achievement badges!\n",
    "\n",
    "CS & DS learners want to be challenged as a way to evaluate if they’re job ready. So, why not create fun challenges and give winners something truly valuable such as complimentary access to select Data Science courses, or the ability to receive an achievement badge on their Coursera Skills Profile - highlighting their performance to recruiters."
   ]
  },
  {
   "cell_type": "markdown",
   "metadata": {},
   "source": [
    "## Introduction\n",
    "\n",
    "In this challenge, you'll get the opportunity to tackle one of the most industry-relevant machine learning problems with a unique dataset that will put your modeling skills to the test. Financial loan services are leveraged by companies across many industries, from big banks to financial institutions to government loans. One of the primary objectives of companies with financial loan services is to decrease payment defaults and ensure that individuals are paying back their loans as expected. In order to do this efficiently and systematically, many companies employ machine learning to predict which individuals are at the highest risk of defaulting on their loans, so that proper interventions can be effectively deployed to the right audience.\n",
    "\n",
    "In this challenge, we will be tackling the loan default prediction problem on a very unique and interesting group of individuals who have taken financial loans. \n",
    "\n",
    "Imagine that you are a new data scientist at a major financial institution and you are tasked with building a model that can predict which individuals will default on their loan payments. We have provided a dataset that is a sample of individuals who received loans in 2021. \n",
    "\n",
    "This financial institution has a vested interest in understanding the likelihood of each individual to default on their loan payments so that resources can be allocated appropriately to support these borrowers. In this challenge, you will use your machine learning toolkit to do just that!"
   ]
  },
  {
   "cell_type": "markdown",
   "metadata": {},
   "source": [
    "## Understanding the Datasets"
   ]
  },
  {
   "cell_type": "markdown",
   "metadata": {},
   "source": [
    "### Train vs. Test\n",
    "In this competition, you’ll gain access to two datasets that are samples of past borrowers of a financial institution that contain information about the individual and the specific loan. One dataset is titled `train.csv` and the other is titled `test.csv`.\n",
    "\n",
    "`train.csv` contains 70% of the overall sample (255,347 borrowers to be exact) and importantly, will reveal whether or not the borrower has defaulted on their loan payments (the “ground truth”).\n",
    "\n",
    "The `test.csv` dataset contains the exact same information about the remaining segment of the overall sample (109,435 borrowers to be exact), but does not disclose the “ground truth” for each borrower. It’s your job to predict this outcome!\n",
    "\n",
    "Using the patterns you find in the `train.csv` data, predict whether the borrowers in `test.csv` will default on their loan payments, or not."
   ]
  },
  {
   "cell_type": "markdown",
   "metadata": {},
   "source": [
    "### Dataset descriptions\n",
    "Both `train.csv` and `test.csv` contain one row for each unique Loan. For each Loan, a single observation (`LoanID`) is included during which the loan was active. \n",
    "\n",
    "In addition to this identifier column, the `train.csv` dataset also contains the target label for the task, a binary column `Default` which indicates if a borrower has defaulted on payments.\n",
    "\n",
    "Besides that column, both datasets have an identical set of features that can be used to train your model to make predictions. Below you can see descriptions of each feature. Familiarize yourself with them so that you can harness them most effectively for this machine learning task!"
   ]
  },
  {
   "cell_type": "code",
   "execution_count": 1,
   "metadata": {},
   "outputs": [
    {
     "data": {
      "text/html": [
       "<div>\n",
       "<style scoped>\n",
       "    .dataframe tbody tr th:only-of-type {\n",
       "        vertical-align: middle;\n",
       "    }\n",
       "\n",
       "    .dataframe tbody tr th {\n",
       "        vertical-align: top;\n",
       "    }\n",
       "\n",
       "    .dataframe thead th {\n",
       "        text-align: right;\n",
       "    }\n",
       "</style>\n",
       "<table border=\"1\" class=\"dataframe\">\n",
       "  <thead>\n",
       "    <tr style=\"text-align: right;\">\n",
       "      <th></th>\n",
       "      <th>Column_name</th>\n",
       "      <th>Column_type</th>\n",
       "      <th>Data_type</th>\n",
       "      <th>Description</th>\n",
       "    </tr>\n",
       "  </thead>\n",
       "  <tbody>\n",
       "    <tr>\n",
       "      <th>0</th>\n",
       "      <td>LoanID</td>\n",
       "      <td>Identifier</td>\n",
       "      <td>string</td>\n",
       "      <td>A unique identifier for each loan.</td>\n",
       "    </tr>\n",
       "    <tr>\n",
       "      <th>1</th>\n",
       "      <td>Age</td>\n",
       "      <td>Feature</td>\n",
       "      <td>integer</td>\n",
       "      <td>The age of the borrower.</td>\n",
       "    </tr>\n",
       "    <tr>\n",
       "      <th>2</th>\n",
       "      <td>Income</td>\n",
       "      <td>Feature</td>\n",
       "      <td>integer</td>\n",
       "      <td>The annual income of the borrower.</td>\n",
       "    </tr>\n",
       "    <tr>\n",
       "      <th>3</th>\n",
       "      <td>LoanAmount</td>\n",
       "      <td>Feature</td>\n",
       "      <td>integer</td>\n",
       "      <td>The amount of money being borrowed.</td>\n",
       "    </tr>\n",
       "    <tr>\n",
       "      <th>4</th>\n",
       "      <td>CreditScore</td>\n",
       "      <td>Feature</td>\n",
       "      <td>integer</td>\n",
       "      <td>The credit score of the borrower, indicating their creditworthiness.</td>\n",
       "    </tr>\n",
       "    <tr>\n",
       "      <th>5</th>\n",
       "      <td>MonthsEmployed</td>\n",
       "      <td>Feature</td>\n",
       "      <td>integer</td>\n",
       "      <td>The number of months the borrower has been employed.</td>\n",
       "    </tr>\n",
       "    <tr>\n",
       "      <th>6</th>\n",
       "      <td>NumCreditLines</td>\n",
       "      <td>Feature</td>\n",
       "      <td>integer</td>\n",
       "      <td>The number of credit lines the borrower has open.</td>\n",
       "    </tr>\n",
       "    <tr>\n",
       "      <th>7</th>\n",
       "      <td>InterestRate</td>\n",
       "      <td>Feature</td>\n",
       "      <td>float</td>\n",
       "      <td>The interest rate for the loan.</td>\n",
       "    </tr>\n",
       "    <tr>\n",
       "      <th>8</th>\n",
       "      <td>LoanTerm</td>\n",
       "      <td>Feature</td>\n",
       "      <td>integer</td>\n",
       "      <td>The term length of the loan in months.</td>\n",
       "    </tr>\n",
       "    <tr>\n",
       "      <th>9</th>\n",
       "      <td>DTIRatio</td>\n",
       "      <td>Feature</td>\n",
       "      <td>float</td>\n",
       "      <td>The Debt-to-Income ratio, indicating the borrower's debt compared to their income.</td>\n",
       "    </tr>\n",
       "    <tr>\n",
       "      <th>10</th>\n",
       "      <td>Education</td>\n",
       "      <td>Feature</td>\n",
       "      <td>string</td>\n",
       "      <td>The highest level of education attained by the borrower (PhD, Master's, Bachelor's, High School).</td>\n",
       "    </tr>\n",
       "    <tr>\n",
       "      <th>11</th>\n",
       "      <td>EmploymentType</td>\n",
       "      <td>Feature</td>\n",
       "      <td>string</td>\n",
       "      <td>The type of employment status of the borrower (Full-time, Part-time, Self-employed, Unemployed).</td>\n",
       "    </tr>\n",
       "    <tr>\n",
       "      <th>12</th>\n",
       "      <td>MaritalStatus</td>\n",
       "      <td>Feature</td>\n",
       "      <td>string</td>\n",
       "      <td>The marital status of the borrower (Single, Married, Divorced).</td>\n",
       "    </tr>\n",
       "    <tr>\n",
       "      <th>13</th>\n",
       "      <td>HasMortgage</td>\n",
       "      <td>Feature</td>\n",
       "      <td>string</td>\n",
       "      <td>Whether the borrower has a mortgage (Yes or No).</td>\n",
       "    </tr>\n",
       "    <tr>\n",
       "      <th>14</th>\n",
       "      <td>HasDependents</td>\n",
       "      <td>Feature</td>\n",
       "      <td>string</td>\n",
       "      <td>Whether the borrower has dependents (Yes or No).</td>\n",
       "    </tr>\n",
       "    <tr>\n",
       "      <th>15</th>\n",
       "      <td>LoanPurpose</td>\n",
       "      <td>Feature</td>\n",
       "      <td>string</td>\n",
       "      <td>The purpose of the loan (Home, Auto, Education, Business, Other).</td>\n",
       "    </tr>\n",
       "    <tr>\n",
       "      <th>16</th>\n",
       "      <td>HasCoSigner</td>\n",
       "      <td>Feature</td>\n",
       "      <td>string</td>\n",
       "      <td>Whether the loan has a co-signer (Yes or No).</td>\n",
       "    </tr>\n",
       "    <tr>\n",
       "      <th>17</th>\n",
       "      <td>Default</td>\n",
       "      <td>Target</td>\n",
       "      <td>integer</td>\n",
       "      <td>The binary target variable indicating whether the loan defaulted (1) or not (0).</td>\n",
       "    </tr>\n",
       "  </tbody>\n",
       "</table>\n",
       "</div>"
      ],
      "text/plain": [
       "       Column_name Column_type Data_type  \\\n",
       "0           LoanID  Identifier    string   \n",
       "1              Age     Feature   integer   \n",
       "2           Income     Feature   integer   \n",
       "3       LoanAmount     Feature   integer   \n",
       "4      CreditScore     Feature   integer   \n",
       "5   MonthsEmployed     Feature   integer   \n",
       "6   NumCreditLines     Feature   integer   \n",
       "7     InterestRate     Feature     float   \n",
       "8         LoanTerm     Feature   integer   \n",
       "9         DTIRatio     Feature     float   \n",
       "10       Education     Feature    string   \n",
       "11  EmploymentType     Feature    string   \n",
       "12   MaritalStatus     Feature    string   \n",
       "13     HasMortgage     Feature    string   \n",
       "14   HasDependents     Feature    string   \n",
       "15     LoanPurpose     Feature    string   \n",
       "16     HasCoSigner     Feature    string   \n",
       "17         Default      Target   integer   \n",
       "\n",
       "                                                                                          Description  \n",
       "0                                                                  A unique identifier for each loan.  \n",
       "1                                                                            The age of the borrower.  \n",
       "2                                                                  The annual income of the borrower.  \n",
       "3                                                                 The amount of money being borrowed.  \n",
       "4                                The credit score of the borrower, indicating their creditworthiness.  \n",
       "5                                                The number of months the borrower has been employed.  \n",
       "6                                                   The number of credit lines the borrower has open.  \n",
       "7                                                                     The interest rate for the loan.  \n",
       "8                                                              The term length of the loan in months.  \n",
       "9                  The Debt-to-Income ratio, indicating the borrower's debt compared to their income.  \n",
       "10  The highest level of education attained by the borrower (PhD, Master's, Bachelor's, High School).  \n",
       "11   The type of employment status of the borrower (Full-time, Part-time, Self-employed, Unemployed).  \n",
       "12                                    The marital status of the borrower (Single, Married, Divorced).  \n",
       "13                                                   Whether the borrower has a mortgage (Yes or No).  \n",
       "14                                                   Whether the borrower has dependents (Yes or No).  \n",
       "15                                  The purpose of the loan (Home, Auto, Education, Business, Other).  \n",
       "16                                                      Whether the loan has a co-signer (Yes or No).  \n",
       "17                   The binary target variable indicating whether the loan defaulted (1) or not (0).  "
      ]
     },
     "execution_count": 1,
     "metadata": {},
     "output_type": "execute_result"
    }
   ],
   "source": [
    "import pandas as pd\n",
    "data_descriptions = pd.read_csv('data_descriptions.csv')\n",
    "pd.set_option('display.max_colwidth', None)\n",
    "data_descriptions"
   ]
  },
  {
   "cell_type": "markdown",
   "metadata": {},
   "source": [
    "## How to Submit your Predictions to Coursera\n",
    "Submission Format:\n",
    "\n",
    "In this notebook you should follow the steps below to explore the data, train a model using the data in `train.csv`, and then score your model using the data in `test.csv`. Your final submission should be a dataframe (call it `prediction_df` with two columns and exactly 109,435 rows (plus a header row). The first column should be `LoanID` so that we know which prediction belongs to which observation. The second column should be called `predicted_probability` and should be a numeric column representing the __likelihood that the borrower will default__.\n",
    "\n",
    "Your submission will show an error if you have extra columns (beyond `LoanID` and `predicted_probability`) or extra rows. The order of the rows does not matter.\n",
    "\n",
    "The naming convention of the dataframe and columns are critical for our autograding, so please make sure to use the exact naming conventions of `prediction_df` with column names `LoanID` and `predicted_probability`!\n",
    "\n",
    "To determine your final score, we will compare your `predicted_probability` predictions to the source of truth labels for the observations in `test.csv` and calculate the [ROC AUC](https://scikit-learn.org/stable/modules/generated/sklearn.metrics.roc_auc_score.html). We choose this metric because we not only want to be able to predict which loans will default, but also want a well-calibrated likelihood score that can be used to target interventions and support most accurately."
   ]
  },
  {
   "cell_type": "markdown",
   "metadata": {},
   "source": [
    "## Import Python Modules\n",
    "\n",
    "First, import the primary modules that will be used in this project. Remember as this is an open-ended project please feel free to make use of any of your favorite libraries that you feel may be useful for this challenge. For example some of the following popular packages may be useful:\n",
    "\n",
    "- pandas\n",
    "- numpy\n",
    "- Scipy\n",
    "- Scikit-learn\n",
    "- keras\n",
    "- maplotlib\n",
    "- seaborn\n",
    "- etc, etc"
   ]
  },
  {
   "cell_type": "code",
   "execution_count": 2,
   "metadata": {},
   "outputs": [],
   "source": [
    "# Import required packages\n",
    "\n",
    "# Data packages\n",
    "import pandas as pd\n",
    "import numpy as np\n",
    "\n",
    "# Machine Learning / Classification packages\n",
    "from sklearn.metrics import roc_auc_score\n",
    "from sklearn.model_selection import train_test_split\n",
    "from sklearn.dummy import DummyClassifier\n",
    "\n",
    "# Visualization Packages\n",
    "from matplotlib import pyplot as plt\n",
    "import seaborn as sns\n",
    "%matplotlib inline"
   ]
  },
  {
   "cell_type": "code",
   "execution_count": 3,
   "metadata": {},
   "outputs": [
    {
     "name": "stdout",
     "output_type": "stream",
     "text": [
      "Requirement already satisfied: xgboost in /opt/conda/lib/python3.7/site-packages (1.6.2)\r\n",
      "Requirement already satisfied: numpy in /opt/conda/lib/python3.7/site-packages (from xgboost) (1.18.4)\r\n",
      "Requirement already satisfied: scipy in /opt/conda/lib/python3.7/site-packages (from xgboost) (1.4.1)\r\n"
     ]
    }
   ],
   "source": [
    "# Import any other packages you may want to use\n",
    "from sklearn.impute import SimpleImputer\n",
    "from sklearn.preprocessing import OneHotEncoder\n",
    "from sklearn.compose import ColumnTransformer\n",
    "from sklearn.pipeline import Pipeline\n",
    "from sklearn.ensemble import RandomForestClassifier\n",
    "from sklearn.model_selection import cross_val_score\n",
    "\n",
    "!pip install xgboost\n",
    "from sklearn.tree import DecisionTreeClassifier\n",
    "from sklearn.ensemble import RandomForestClassifier\n",
    "from sklearn.model_selection import train_test_split\n",
    "from sklearn.metrics import accuracy_score\n",
    "\n",
    "import matplotlib.pyplot as plt\n",
    "import seaborn as sns\n",
    "\n",
    "RANDOM_STATE = 55"
   ]
  },
  {
   "cell_type": "code",
   "execution_count": 4,
   "metadata": {},
   "outputs": [],
   "source": [
    "from sklearn.impute import SimpleImputer\n",
    "from sklearn.preprocessing import OneHotEncoder\n",
    "from sklearn.compose import ColumnTransformer\n",
    "from sklearn.pipeline import Pipeline\n",
    "from sklearn.ensemble import RandomForestClassifier\n",
    "from sklearn.model_selection import cross_val_score"
   ]
  },
  {
   "cell_type": "code",
   "execution_count": 5,
   "metadata": {},
   "outputs": [],
   "source": [
    "# Ignore warnings\n",
    "import warnings\n",
    "warnings.filterwarnings('ignore')\n",
    "\n",
    "import sklearn\n",
    "from sklearn import metrics\n",
    "from sklearn.svm import SVC\n",
    "from sklearn.linear_model import LogisticRegression\n",
    "from sklearn.ensemble import RandomForestClassifier\n",
    "from sklearn.tree import export_graphviz, DecisionTreeClassifier\n",
    "from sklearn.preprocessing import StandardScaler\n",
    "from sklearn.model_selection import cross_val_score, train_test_split\n",
    "from sklearn.exceptions import NotFittedError\n",
    "\n",
    "import tensorflow as tf\n",
    "from tensorflow.keras import Sequential\n",
    "from tensorflow.keras.layers import Dense, Dropout\n",
    "from tensorflow.keras import optimizers\n",
    "from tensorflow.keras.wrappers.scikit_learn import KerasClassifier\n",
    "\n",
    "from IPython.display import display\n"
   ]
  },
  {
   "cell_type": "markdown",
   "metadata": {},
   "source": [
    "## Load the Data\n",
    "\n",
    "Let's start by loading the dataset `train.csv` into a dataframe `train_df`, and `test.csv` into a dataframe `test_df` and display the shape of the dataframes."
   ]
  },
  {
   "cell_type": "code",
   "execution_count": 6,
   "metadata": {},
   "outputs": [
    {
     "name": "stdout",
     "output_type": "stream",
     "text": [
      "train_df Shape: (255347, 18)\n"
     ]
    },
    {
     "data": {
      "text/html": [
       "<div>\n",
       "<style scoped>\n",
       "    .dataframe tbody tr th:only-of-type {\n",
       "        vertical-align: middle;\n",
       "    }\n",
       "\n",
       "    .dataframe tbody tr th {\n",
       "        vertical-align: top;\n",
       "    }\n",
       "\n",
       "    .dataframe thead th {\n",
       "        text-align: right;\n",
       "    }\n",
       "</style>\n",
       "<table border=\"1\" class=\"dataframe\">\n",
       "  <thead>\n",
       "    <tr style=\"text-align: right;\">\n",
       "      <th></th>\n",
       "      <th>LoanID</th>\n",
       "      <th>Age</th>\n",
       "      <th>Income</th>\n",
       "      <th>LoanAmount</th>\n",
       "      <th>CreditScore</th>\n",
       "      <th>MonthsEmployed</th>\n",
       "      <th>NumCreditLines</th>\n",
       "      <th>InterestRate</th>\n",
       "      <th>LoanTerm</th>\n",
       "      <th>DTIRatio</th>\n",
       "      <th>Education</th>\n",
       "      <th>EmploymentType</th>\n",
       "      <th>MaritalStatus</th>\n",
       "      <th>HasMortgage</th>\n",
       "      <th>HasDependents</th>\n",
       "      <th>LoanPurpose</th>\n",
       "      <th>HasCoSigner</th>\n",
       "      <th>Default</th>\n",
       "    </tr>\n",
       "  </thead>\n",
       "  <tbody>\n",
       "    <tr>\n",
       "      <th>0</th>\n",
       "      <td>I38PQUQS96</td>\n",
       "      <td>56</td>\n",
       "      <td>85994</td>\n",
       "      <td>50587</td>\n",
       "      <td>520</td>\n",
       "      <td>80</td>\n",
       "      <td>4</td>\n",
       "      <td>15.23</td>\n",
       "      <td>36</td>\n",
       "      <td>0.44</td>\n",
       "      <td>Bachelor's</td>\n",
       "      <td>Full-time</td>\n",
       "      <td>Divorced</td>\n",
       "      <td>Yes</td>\n",
       "      <td>Yes</td>\n",
       "      <td>Other</td>\n",
       "      <td>Yes</td>\n",
       "      <td>0</td>\n",
       "    </tr>\n",
       "    <tr>\n",
       "      <th>1</th>\n",
       "      <td>HPSK72WA7R</td>\n",
       "      <td>69</td>\n",
       "      <td>50432</td>\n",
       "      <td>124440</td>\n",
       "      <td>458</td>\n",
       "      <td>15</td>\n",
       "      <td>1</td>\n",
       "      <td>4.81</td>\n",
       "      <td>60</td>\n",
       "      <td>0.68</td>\n",
       "      <td>Master's</td>\n",
       "      <td>Full-time</td>\n",
       "      <td>Married</td>\n",
       "      <td>No</td>\n",
       "      <td>No</td>\n",
       "      <td>Other</td>\n",
       "      <td>Yes</td>\n",
       "      <td>0</td>\n",
       "    </tr>\n",
       "    <tr>\n",
       "      <th>2</th>\n",
       "      <td>C1OZ6DPJ8Y</td>\n",
       "      <td>46</td>\n",
       "      <td>84208</td>\n",
       "      <td>129188</td>\n",
       "      <td>451</td>\n",
       "      <td>26</td>\n",
       "      <td>3</td>\n",
       "      <td>21.17</td>\n",
       "      <td>24</td>\n",
       "      <td>0.31</td>\n",
       "      <td>Master's</td>\n",
       "      <td>Unemployed</td>\n",
       "      <td>Divorced</td>\n",
       "      <td>Yes</td>\n",
       "      <td>Yes</td>\n",
       "      <td>Auto</td>\n",
       "      <td>No</td>\n",
       "      <td>1</td>\n",
       "    </tr>\n",
       "    <tr>\n",
       "      <th>3</th>\n",
       "      <td>V2KKSFM3UN</td>\n",
       "      <td>32</td>\n",
       "      <td>31713</td>\n",
       "      <td>44799</td>\n",
       "      <td>743</td>\n",
       "      <td>0</td>\n",
       "      <td>3</td>\n",
       "      <td>7.07</td>\n",
       "      <td>24</td>\n",
       "      <td>0.23</td>\n",
       "      <td>High School</td>\n",
       "      <td>Full-time</td>\n",
       "      <td>Married</td>\n",
       "      <td>No</td>\n",
       "      <td>No</td>\n",
       "      <td>Business</td>\n",
       "      <td>No</td>\n",
       "      <td>0</td>\n",
       "    </tr>\n",
       "    <tr>\n",
       "      <th>4</th>\n",
       "      <td>EY08JDHTZP</td>\n",
       "      <td>60</td>\n",
       "      <td>20437</td>\n",
       "      <td>9139</td>\n",
       "      <td>633</td>\n",
       "      <td>8</td>\n",
       "      <td>4</td>\n",
       "      <td>6.51</td>\n",
       "      <td>48</td>\n",
       "      <td>0.73</td>\n",
       "      <td>Bachelor's</td>\n",
       "      <td>Unemployed</td>\n",
       "      <td>Divorced</td>\n",
       "      <td>No</td>\n",
       "      <td>Yes</td>\n",
       "      <td>Auto</td>\n",
       "      <td>No</td>\n",
       "      <td>0</td>\n",
       "    </tr>\n",
       "  </tbody>\n",
       "</table>\n",
       "</div>"
      ],
      "text/plain": [
       "       LoanID  Age  Income  LoanAmount  CreditScore  MonthsEmployed  \\\n",
       "0  I38PQUQS96   56   85994       50587          520              80   \n",
       "1  HPSK72WA7R   69   50432      124440          458              15   \n",
       "2  C1OZ6DPJ8Y   46   84208      129188          451              26   \n",
       "3  V2KKSFM3UN   32   31713       44799          743               0   \n",
       "4  EY08JDHTZP   60   20437        9139          633               8   \n",
       "\n",
       "   NumCreditLines  InterestRate  LoanTerm  DTIRatio    Education  \\\n",
       "0               4         15.23        36      0.44   Bachelor's   \n",
       "1               1          4.81        60      0.68     Master's   \n",
       "2               3         21.17        24      0.31     Master's   \n",
       "3               3          7.07        24      0.23  High School   \n",
       "4               4          6.51        48      0.73   Bachelor's   \n",
       "\n",
       "  EmploymentType MaritalStatus HasMortgage HasDependents LoanPurpose  \\\n",
       "0      Full-time      Divorced         Yes           Yes       Other   \n",
       "1      Full-time       Married          No            No       Other   \n",
       "2     Unemployed      Divorced         Yes           Yes        Auto   \n",
       "3      Full-time       Married          No            No    Business   \n",
       "4     Unemployed      Divorced          No           Yes        Auto   \n",
       "\n",
       "  HasCoSigner  Default  \n",
       "0         Yes        0  \n",
       "1         Yes        0  \n",
       "2          No        1  \n",
       "3          No        0  \n",
       "4          No        0  "
      ]
     },
     "execution_count": 6,
     "metadata": {},
     "output_type": "execute_result"
    }
   ],
   "source": [
    "train_df = pd.read_csv(\"train.csv\")\n",
    "print('train_df Shape:', train_df.shape)\n",
    "train_df.head()"
   ]
  },
  {
   "cell_type": "code",
   "execution_count": 7,
   "metadata": {},
   "outputs": [
    {
     "name": "stdout",
     "output_type": "stream",
     "text": [
      "test_df Shape: (109435, 17)\n"
     ]
    },
    {
     "data": {
      "text/html": [
       "<div>\n",
       "<style scoped>\n",
       "    .dataframe tbody tr th:only-of-type {\n",
       "        vertical-align: middle;\n",
       "    }\n",
       "\n",
       "    .dataframe tbody tr th {\n",
       "        vertical-align: top;\n",
       "    }\n",
       "\n",
       "    .dataframe thead th {\n",
       "        text-align: right;\n",
       "    }\n",
       "</style>\n",
       "<table border=\"1\" class=\"dataframe\">\n",
       "  <thead>\n",
       "    <tr style=\"text-align: right;\">\n",
       "      <th></th>\n",
       "      <th>LoanID</th>\n",
       "      <th>Age</th>\n",
       "      <th>Income</th>\n",
       "      <th>LoanAmount</th>\n",
       "      <th>CreditScore</th>\n",
       "      <th>MonthsEmployed</th>\n",
       "      <th>NumCreditLines</th>\n",
       "      <th>InterestRate</th>\n",
       "      <th>LoanTerm</th>\n",
       "      <th>DTIRatio</th>\n",
       "      <th>Education</th>\n",
       "      <th>EmploymentType</th>\n",
       "      <th>MaritalStatus</th>\n",
       "      <th>HasMortgage</th>\n",
       "      <th>HasDependents</th>\n",
       "      <th>LoanPurpose</th>\n",
       "      <th>HasCoSigner</th>\n",
       "    </tr>\n",
       "  </thead>\n",
       "  <tbody>\n",
       "    <tr>\n",
       "      <th>0</th>\n",
       "      <td>7RYZGMKJIR</td>\n",
       "      <td>32</td>\n",
       "      <td>131645</td>\n",
       "      <td>43797</td>\n",
       "      <td>802</td>\n",
       "      <td>23</td>\n",
       "      <td>2</td>\n",
       "      <td>6.10</td>\n",
       "      <td>24</td>\n",
       "      <td>0.13</td>\n",
       "      <td>High School</td>\n",
       "      <td>Full-time</td>\n",
       "      <td>Divorced</td>\n",
       "      <td>Yes</td>\n",
       "      <td>No</td>\n",
       "      <td>Other</td>\n",
       "      <td>No</td>\n",
       "    </tr>\n",
       "    <tr>\n",
       "      <th>1</th>\n",
       "      <td>JDL5RH07AM</td>\n",
       "      <td>61</td>\n",
       "      <td>134312</td>\n",
       "      <td>18402</td>\n",
       "      <td>369</td>\n",
       "      <td>87</td>\n",
       "      <td>2</td>\n",
       "      <td>12.99</td>\n",
       "      <td>60</td>\n",
       "      <td>0.59</td>\n",
       "      <td>High School</td>\n",
       "      <td>Self-employed</td>\n",
       "      <td>Single</td>\n",
       "      <td>No</td>\n",
       "      <td>No</td>\n",
       "      <td>Business</td>\n",
       "      <td>Yes</td>\n",
       "    </tr>\n",
       "    <tr>\n",
       "      <th>2</th>\n",
       "      <td>STAL716Y79</td>\n",
       "      <td>55</td>\n",
       "      <td>115809</td>\n",
       "      <td>151774</td>\n",
       "      <td>563</td>\n",
       "      <td>3</td>\n",
       "      <td>3</td>\n",
       "      <td>5.51</td>\n",
       "      <td>48</td>\n",
       "      <td>0.82</td>\n",
       "      <td>Bachelor's</td>\n",
       "      <td>Full-time</td>\n",
       "      <td>Single</td>\n",
       "      <td>Yes</td>\n",
       "      <td>Yes</td>\n",
       "      <td>Other</td>\n",
       "      <td>Yes</td>\n",
       "    </tr>\n",
       "    <tr>\n",
       "      <th>3</th>\n",
       "      <td>SO0KKJ3IQB</td>\n",
       "      <td>58</td>\n",
       "      <td>94970</td>\n",
       "      <td>55789</td>\n",
       "      <td>337</td>\n",
       "      <td>24</td>\n",
       "      <td>1</td>\n",
       "      <td>23.93</td>\n",
       "      <td>36</td>\n",
       "      <td>0.77</td>\n",
       "      <td>Bachelor's</td>\n",
       "      <td>Unemployed</td>\n",
       "      <td>Divorced</td>\n",
       "      <td>No</td>\n",
       "      <td>No</td>\n",
       "      <td>Business</td>\n",
       "      <td>No</td>\n",
       "    </tr>\n",
       "    <tr>\n",
       "      <th>4</th>\n",
       "      <td>T99CWTYDCP</td>\n",
       "      <td>63</td>\n",
       "      <td>71727</td>\n",
       "      <td>189798</td>\n",
       "      <td>451</td>\n",
       "      <td>52</td>\n",
       "      <td>3</td>\n",
       "      <td>22.05</td>\n",
       "      <td>48</td>\n",
       "      <td>0.44</td>\n",
       "      <td>PhD</td>\n",
       "      <td>Unemployed</td>\n",
       "      <td>Single</td>\n",
       "      <td>Yes</td>\n",
       "      <td>No</td>\n",
       "      <td>Auto</td>\n",
       "      <td>No</td>\n",
       "    </tr>\n",
       "  </tbody>\n",
       "</table>\n",
       "</div>"
      ],
      "text/plain": [
       "       LoanID  Age  Income  LoanAmount  CreditScore  MonthsEmployed  \\\n",
       "0  7RYZGMKJIR   32  131645       43797          802              23   \n",
       "1  JDL5RH07AM   61  134312       18402          369              87   \n",
       "2  STAL716Y79   55  115809      151774          563               3   \n",
       "3  SO0KKJ3IQB   58   94970       55789          337              24   \n",
       "4  T99CWTYDCP   63   71727      189798          451              52   \n",
       "\n",
       "   NumCreditLines  InterestRate  LoanTerm  DTIRatio    Education  \\\n",
       "0               2          6.10        24      0.13  High School   \n",
       "1               2         12.99        60      0.59  High School   \n",
       "2               3          5.51        48      0.82   Bachelor's   \n",
       "3               1         23.93        36      0.77   Bachelor's   \n",
       "4               3         22.05        48      0.44          PhD   \n",
       "\n",
       "  EmploymentType MaritalStatus HasMortgage HasDependents LoanPurpose  \\\n",
       "0      Full-time      Divorced         Yes            No       Other   \n",
       "1  Self-employed        Single          No            No    Business   \n",
       "2      Full-time        Single         Yes           Yes       Other   \n",
       "3     Unemployed      Divorced          No            No    Business   \n",
       "4     Unemployed        Single         Yes            No        Auto   \n",
       "\n",
       "  HasCoSigner  \n",
       "0          No  \n",
       "1         Yes  \n",
       "2         Yes  \n",
       "3          No  \n",
       "4          No  "
      ]
     },
     "execution_count": 7,
     "metadata": {},
     "output_type": "execute_result"
    }
   ],
   "source": [
    "test_df = pd.read_csv(\"test.csv\")\n",
    "print('test_df Shape:', test_df.shape)\n",
    "test_df.head()"
   ]
  },
  {
   "cell_type": "markdown",
   "metadata": {},
   "source": [
    "## Explore, Clean, Validate, and Visualize the Data (optional)\n",
    "\n",
    "Feel free to explore, clean, validate, and visualize the data however you see fit for this competition to help determine or optimize your predictive model. Please note - the final autograding will only be on the accuracy of the `prediction_df` predictions."
   ]
  },
  {
   "cell_type": "code",
   "execution_count": 8,
   "metadata": {},
   "outputs": [],
   "source": [
    "# your code here (optional)\n",
    "def plot_missing_data(dataset, title):          #function to plot heatmap of missing data of a dataset\n",
    "    fig, ax = plt.subplots(figsize=(5,5))\n",
    "    plt.title(title)  \n",
    "    sns.heatmap(dataset.isnull(), cbar=False)"
   ]
  },
  {
   "cell_type": "code",
   "execution_count": 9,
   "metadata": {},
   "outputs": [
    {
     "name": "stdout",
     "output_type": "stream",
     "text": [
      "<class 'pandas.core.frame.DataFrame'>\n",
      "RangeIndex: 255347 entries, 0 to 255346\n",
      "Data columns (total 18 columns):\n",
      " #   Column          Non-Null Count   Dtype  \n",
      "---  ------          --------------   -----  \n",
      " 0   LoanID          255347 non-null  object \n",
      " 1   Age             255347 non-null  int64  \n",
      " 2   Income          255347 non-null  int64  \n",
      " 3   LoanAmount      255347 non-null  int64  \n",
      " 4   CreditScore     255347 non-null  int64  \n",
      " 5   MonthsEmployed  255347 non-null  int64  \n",
      " 6   NumCreditLines  255347 non-null  int64  \n",
      " 7   InterestRate    255347 non-null  float64\n",
      " 8   LoanTerm        255347 non-null  int64  \n",
      " 9   DTIRatio        255347 non-null  float64\n",
      " 10  Education       255347 non-null  object \n",
      " 11  EmploymentType  255347 non-null  object \n",
      " 12  MaritalStatus   255347 non-null  object \n",
      " 13  HasMortgage     255347 non-null  object \n",
      " 14  HasDependents   255347 non-null  object \n",
      " 15  LoanPurpose     255347 non-null  object \n",
      " 16  HasCoSigner     255347 non-null  object \n",
      " 17  Default         255347 non-null  int64  \n",
      "dtypes: float64(2), int64(8), object(8)\n",
      "memory usage: 35.1+ MB\n"
     ]
    }
   ],
   "source": [
    "train_df.info()"
   ]
  },
  {
   "cell_type": "code",
   "execution_count": 10,
   "metadata": {},
   "outputs": [
    {
     "data": {
      "image/png": "[encoded data removed]",
      "text/plain": [
       "<Figure size 360x360 with 1 Axes>"
      ]
     },
     "metadata": {
      "needs_background": "light"
     },
     "output_type": "display_data"
    }
   ],
   "source": [
    "plot_missing_data(train_df, \"Training Dataset\")"
   ]
  },
  {
   "cell_type": "markdown",
   "metadata": {},
   "source": [
    "So no data is missing"
   ]
  },
  {
   "cell_type": "code",
   "execution_count": 11,
   "metadata": {},
   "outputs": [
    {
     "name": "stdout",
     "output_type": "stream",
     "text": [
      "<class 'pandas.core.frame.DataFrame'>\n",
      "RangeIndex: 109435 entries, 0 to 109434\n",
      "Data columns (total 17 columns):\n",
      " #   Column          Non-Null Count   Dtype  \n",
      "---  ------          --------------   -----  \n",
      " 0   LoanID          109435 non-null  object \n",
      " 1   Age             109435 non-null  int64  \n",
      " 2   Income          109435 non-null  int64  \n",
      " 3   LoanAmount      109435 non-null  int64  \n",
      " 4   CreditScore     109435 non-null  int64  \n",
      " 5   MonthsEmployed  109435 non-null  int64  \n",
      " 6   NumCreditLines  109435 non-null  int64  \n",
      " 7   InterestRate    109435 non-null  float64\n",
      " 8   LoanTerm        109435 non-null  int64  \n",
      " 9   DTIRatio        109435 non-null  float64\n",
      " 10  Education       109435 non-null  object \n",
      " 11  EmploymentType  109435 non-null  object \n",
      " 12  MaritalStatus   109435 non-null  object \n",
      " 13  HasMortgage     109435 non-null  object \n",
      " 14  HasDependents   109435 non-null  object \n",
      " 15  LoanPurpose     109435 non-null  object \n",
      " 16  HasCoSigner     109435 non-null  object \n",
      "dtypes: float64(2), int64(7), object(8)\n",
      "memory usage: 14.2+ MB\n"
     ]
    }
   ],
   "source": [
    "test_df.info()"
   ]
  },
  {
   "cell_type": "markdown",
   "metadata": {},
   "source": [
    "Question 1: How many Defaulted?"
   ]
  },
  {
   "cell_type": "code",
   "execution_count": 12,
   "metadata": {},
   "outputs": [
    {
     "data": {
      "text/plain": [
       "0    225694\n",
       "1     29653\n",
       "Name: Default, dtype: int64"
      ]
     },
     "execution_count": 12,
     "metadata": {},
     "output_type": "execute_result"
    }
   ],
   "source": [
    "train_df['Default'].value_counts()"
   ]
  },
  {
   "cell_type": "code",
   "execution_count": 13,
   "metadata": {},
   "outputs": [
    {
     "data": {
      "text/plain": [
       "0    0.883872\n",
       "1    0.116128\n",
       "Name: Default, dtype: float64"
      ]
     },
     "execution_count": 13,
     "metadata": {},
     "output_type": "execute_result"
    }
   ],
   "source": [
    "train_df['Default'].value_counts(normalize=True)"
   ]
  },
  {
   "cell_type": "code",
   "execution_count": 14,
   "metadata": {},
   "outputs": [],
   "source": [
    "def bar_chart_stacked(dataset, feature, stacked = True): #Function that plots a bar chart of survived and died based on feature provided\n",
    "    default = dataset[dataset['Default']==1][feature].value_counts()\n",
    "    not_default = dataset[dataset['Default']==0][feature].value_counts()\n",
    "    df_not_default_default = pd.DataFrame([not_default,default])\n",
    "    df_not_default_default.index = ['Did not Default','Defaulted']\n",
    "    ax = df_not_default_default.plot(kind='bar',stacked=stacked, figsize=(5,5))"
   ]
  },
  {
   "cell_type": "code",
   "execution_count": 15,
   "metadata": {},
   "outputs": [
    {
     "data": {
      "image/png": "[encoded data removed]",
      "text/plain": [
       "<Figure size 360x360 with 1 Axes>"
      ]
     },
     "metadata": {
      "needs_background": "light"
     },
     "output_type": "display_data"
    }
   ],
   "source": [
    "bar_chart_stacked(train_df, \"Default\")"
   ]
  },
  {
   "cell_type": "markdown",
   "metadata": {},
   "source": [
    "Question 2: Is the likelihood of default dependent on Age?"
   ]
  },
  {
   "cell_type": "code",
   "execution_count": 16,
   "metadata": {},
   "outputs": [],
   "source": [
    "def plot_distribution(dataset, feature, title, bins = 30, hist = True, fsize = (5,5)):\n",
    "    fig, ax = plt.subplots(figsize=fsize)\n",
    "    ax.set_title(title)\n",
    "    sns.distplot(train_df[feature], color='g', bins=bins, ax=ax)"
   ]
  },
  {
   "cell_type": "code",
   "execution_count": 17,
   "metadata": {},
   "outputs": [],
   "source": [
    "def plot_kernel_density_estimate_defaulters(dataset, feature1, title, fsize = (5,5)):\n",
    "    fig, ax = plt.subplots(figsize=fsize)\n",
    "    ax.set_title(title) \n",
    "    sns.kdeplot(dataset[feature1].loc[train_df[\"Default\"] == 1],\n",
    "                shade= True, ax=ax, label='Defaulted').set_xlabel(feature1)\n",
    "    sns.kdeplot(dataset[feature1].loc[train_df[\"Default\"] == 0],\n",
    "                shade=True, ax=ax, label=\"Did Not Default\")"
   ]
  },
  {
   "cell_type": "code",
   "execution_count": 18,
   "metadata": {},
   "outputs": [
    {
     "data": {
      "image/png": "[encoded data removed]",
      "text/plain": [
       "<Figure size 360x360 with 1 Axes>"
      ]
     },
     "metadata": {
      "needs_background": "light"
     },
     "output_type": "display_data"
    }
   ],
   "source": [
    "plot_distribution(train_df, \"Age\", \"Age Distribution Individuals\")"
   ]
  },
  {
   "cell_type": "code",
   "execution_count": 19,
   "metadata": {},
   "outputs": [
    {
     "data": {
      "image/png": "[encoded data removed]",
      "text/plain": [
       "<Figure size 360x360 with 1 Axes>"
      ]
     },
     "metadata": {
      "needs_background": "light"
     },
     "output_type": "display_data"
    }
   ],
   "source": [
    "plot_kernel_density_estimate_defaulters(train_df, \"Age\", \"Age Distribution of Non-Defaulter vs Defaulters\")"
   ]
  },
  {
   "cell_type": "markdown",
   "metadata": {},
   "source": [
    "So looks like young folks defaulted more than old"
   ]
  },
  {
   "cell_type": "markdown",
   "metadata": {},
   "source": [
    "Question 3: Did income play a role default?"
   ]
  },
  {
   "cell_type": "code",
   "execution_count": 20,
   "metadata": {},
   "outputs": [
    {
     "data": {
      "text/plain": [
       "count    255347.000000\n",
       "mean      82499.304597\n",
       "std       38963.013729\n",
       "min       15000.000000\n",
       "25%       48825.500000\n",
       "50%       82466.000000\n",
       "75%      116219.000000\n",
       "max      149999.000000\n",
       "Name: Income, dtype: float64"
      ]
     },
     "execution_count": 20,
     "metadata": {},
     "output_type": "execute_result"
    }
   ],
   "source": [
    "train_df.Income.describe()"
   ]
  },
  {
   "cell_type": "code",
   "execution_count": 21,
   "metadata": {},
   "outputs": [
    {
     "data": {
      "image/png": "[encoded data removed]",
      "text/plain": [
       "<Figure size 360x360 with 1 Axes>"
      ]
     },
     "metadata": {
      "needs_background": "light"
     },
     "output_type": "display_data"
    }
   ],
   "source": [
    "plot_distribution(train_df, \"Income\", \"Income Distribution\")"
   ]
  },
  {
   "cell_type": "code",
   "execution_count": 22,
   "metadata": {},
   "outputs": [],
   "source": [
    "def plot_quartiles(dataset, feature, title, categories):\n",
    "    fig, axarr = plt.subplots(figsize=(5,5))\n",
    "    income_ranges = pd.qcut(dataset[feature], len(categories), labels = categories) #. [0, .25, .5, .75, 1.]\n",
    "    axarr.set_title(title)\n",
    "    sns.barplot(x=income_ranges, y=dataset.Default, ci=None, ax=axarr).set_ylabel('Default rate')"
   ]
  },
  {
   "cell_type": "code",
   "execution_count": 23,
   "metadata": {},
   "outputs": [
    {
     "data": {
      "image/png": "[encoded data removed]",
      "text/plain": [
       "<Figure size 360x360 with 1 Axes>"
      ]
     },
     "metadata": {
      "needs_background": "light"
     },
     "output_type": "display_data"
    }
   ],
   "source": [
    "categories = ['Below Avg', 'Avg', 'Above Avg', 'High']\n",
    "\n",
    "plot_quartiles(train_df, \"Income\", \"Default Rate by Income Ranges/Categories\", categories)"
   ]
  },
  {
   "cell_type": "markdown",
   "metadata": {},
   "source": [
    "So people with Below Avg income defaulted much more often"
   ]
  },
  {
   "cell_type": "markdown",
   "metadata": {},
   "source": [
    "Does loan amount effect default?"
   ]
  },
  {
   "cell_type": "code",
   "execution_count": 24,
   "metadata": {},
   "outputs": [
    {
     "data": {
      "image/png": "[encoded data removed]",
      "text/plain": [
       "<Figure size 360x360 with 1 Axes>"
      ]
     },
     "metadata": {
      "needs_background": "light"
     },
     "output_type": "display_data"
    }
   ],
   "source": [
    "plot_quartiles(train_df, \"LoanAmount\", \"Loan Amount Ranges/Categories\", categories)"
   ]
  },
  {
   "cell_type": "markdown",
   "metadata": {},
   "source": [
    "Default rate increases as Loan amount increases"
   ]
  },
  {
   "cell_type": "markdown",
   "metadata": {},
   "source": [
    "Does credit score relates to Default"
   ]
  },
  {
   "cell_type": "code",
   "execution_count": 25,
   "metadata": {},
   "outputs": [
    {
     "data": {
      "image/png": "[encoded data removed]",
      "text/plain": [
       "<Figure size 360x360 with 1 Axes>"
      ]
     },
     "metadata": {
      "needs_background": "light"
     },
     "output_type": "display_data"
    }
   ],
   "source": [
    "plot_quartiles(train_df, \"CreditScore\", \"Credit Score Ranges/Categories\", categories)"
   ]
  },
  {
   "cell_type": "markdown",
   "metadata": {},
   "source": [
    "Credit score is inversely proportional to Default"
   ]
  },
  {
   "cell_type": "code",
   "execution_count": 26,
   "metadata": {},
   "outputs": [
    {
     "data": {
      "image/png": "[encoded data removed]",
      "text/plain": [
       "<Figure size 360x360 with 1 Axes>"
      ]
     },
     "metadata": {
      "needs_background": "light"
     },
     "output_type": "display_data"
    }
   ],
   "source": [
    "plot_quartiles(train_df, \"MonthsEmployed\", \"Months Employed Ranges/Categories\", categories)"
   ]
  },
  {
   "cell_type": "markdown",
   "metadata": {},
   "source": [
    "Service period is also inversely proportional to Default"
   ]
  },
  {
   "cell_type": "code",
   "execution_count": 27,
   "metadata": {},
   "outputs": [],
   "source": [
    "def show_countplot(dataset, feature, title, fsize = (5,5)):\n",
    "    fig, ax = plt.subplots(figsize=fsize)\n",
    "    sns.countplot(x=dataset[feature], ax=ax).set_title(title)"
   ]
  },
  {
   "cell_type": "code",
   "execution_count": 28,
   "metadata": {},
   "outputs": [
    {
     "data": {
      "image/png": "[encoded data removed]",
      "text/plain": [
       "<Figure size 360x360 with 1 Axes>"
      ]
     },
     "metadata": {
      "needs_background": "light"
     },
     "output_type": "display_data"
    }
   ],
   "source": [
    "show_countplot(train_df, \"NumCreditLines\", 'Individuals count by Num Credit Lines')"
   ]
  },
  {
   "cell_type": "code",
   "execution_count": 29,
   "metadata": {},
   "outputs": [],
   "source": [
    "def show_compare_countplot(dataset, feature1, feature2, title):\n",
    "    fig, ax = plt.subplots(figsize=(5,5))\n",
    "    p = sns.countplot(x = feature1, hue = feature2, data = dataset, ax=ax).set_title(title)   "
   ]
  },
  {
   "cell_type": "code",
   "execution_count": 30,
   "metadata": {},
   "outputs": [
    {
     "data": {
      "image/png": "[encoded data removed]",
      "text/plain": [
       "<Figure size 360x360 with 1 Axes>"
      ]
     },
     "metadata": {
      "needs_background": "light"
     },
     "output_type": "display_data"
    }
   ],
   "source": [
    "bar_chart_stacked(train_df, 'NumCreditLines') "
   ]
  },
  {
   "cell_type": "code",
   "execution_count": 31,
   "metadata": {},
   "outputs": [
    {
     "data": {
      "image/png": "[encoded data removed]",
      "text/plain": [
       "<Figure size 360x360 with 1 Axes>"
      ]
     },
     "metadata": {
      "needs_background": "light"
     },
     "output_type": "display_data"
    }
   ],
   "source": [
    "show_compare_countplot(train_df, \"NumCreditLines\", \"Default\", \"Default count by Num Credit Lines\")"
   ]
  },
  {
   "cell_type": "code",
   "execution_count": 32,
   "metadata": {},
   "outputs": [
    {
     "data": {
      "text/html": [
       "<div>\n",
       "<style scoped>\n",
       "    .dataframe tbody tr th:only-of-type {\n",
       "        vertical-align: middle;\n",
       "    }\n",
       "\n",
       "    .dataframe tbody tr th {\n",
       "        vertical-align: top;\n",
       "    }\n",
       "\n",
       "    .dataframe thead th {\n",
       "        text-align: right;\n",
       "    }\n",
       "</style>\n",
       "<table border=\"1\" class=\"dataframe\">\n",
       "  <thead>\n",
       "    <tr style=\"text-align: right;\">\n",
       "      <th>NumCreditLines</th>\n",
       "      <th>1</th>\n",
       "      <th>2</th>\n",
       "      <th>3</th>\n",
       "      <th>4</th>\n",
       "    </tr>\n",
       "    <tr>\n",
       "      <th>Default</th>\n",
       "      <th></th>\n",
       "      <th></th>\n",
       "      <th></th>\n",
       "      <th></th>\n",
       "    </tr>\n",
       "  </thead>\n",
       "  <tbody>\n",
       "    <tr>\n",
       "      <th>0</th>\n",
       "      <td>56866</td>\n",
       "      <td>57038</td>\n",
       "      <td>56222</td>\n",
       "      <td>55568</td>\n",
       "    </tr>\n",
       "    <tr>\n",
       "      <th>1</th>\n",
       "      <td>6688</td>\n",
       "      <td>7092</td>\n",
       "      <td>7612</td>\n",
       "      <td>8261</td>\n",
       "    </tr>\n",
       "  </tbody>\n",
       "</table>\n",
       "</div>"
      ],
      "text/plain": [
       "NumCreditLines      1      2      3      4\n",
       "Default                                   \n",
       "0               56866  57038  56222  55568\n",
       "1                6688   7092   7612   8261"
      ]
     },
     "execution_count": 32,
     "metadata": {},
     "output_type": "execute_result"
    }
   ],
   "source": [
    "pd.pivot_table(train_df, index = 'Default', columns = 'NumCreditLines', values = 'LoanID' ,aggfunc ='count')"
   ]
  },
  {
   "cell_type": "markdown",
   "metadata": {},
   "source": [
    "Default increases somewhat if Num Credit Lines increase"
   ]
  },
  {
   "cell_type": "code",
   "execution_count": 33,
   "metadata": {},
   "outputs": [
    {
     "data": {
      "image/png": "[encoded data removed]",
      "text/plain": [
       "<Figure size 360x360 with 1 Axes>"
      ]
     },
     "metadata": {
      "needs_background": "light"
     },
     "output_type": "display_data"
    }
   ],
   "source": [
    "plot_quartiles(train_df, \"InterestRate\", \"Default Rate by Interest Rate Ranges/Categories\", categories)"
   ]
  },
  {
   "cell_type": "markdown",
   "metadata": {},
   "source": [
    "Default rate increases significantly if Loan Rate increases"
   ]
  },
  {
   "cell_type": "code",
   "execution_count": 34,
   "metadata": {},
   "outputs": [
    {
     "data": {
      "image/png": "[encoded data removed]",
      "text/plain": [
       "<Figure size 360x360 with 1 Axes>"
      ]
     },
     "metadata": {
      "needs_background": "light"
     },
     "output_type": "display_data"
    }
   ],
   "source": [
    "plot_quartiles(train_df, \"LoanTerm\", \"Default Rate by Loan Term Ranges/Categories\", categories)"
   ]
  },
  {
   "cell_type": "code",
   "execution_count": 35,
   "metadata": {},
   "outputs": [
    {
     "data": {
      "text/html": [
       "<div>\n",
       "<style scoped>\n",
       "    .dataframe tbody tr th:only-of-type {\n",
       "        vertical-align: middle;\n",
       "    }\n",
       "\n",
       "    .dataframe tbody tr th {\n",
       "        vertical-align: top;\n",
       "    }\n",
       "\n",
       "    .dataframe thead th {\n",
       "        text-align: right;\n",
       "    }\n",
       "</style>\n",
       "<table border=\"1\" class=\"dataframe\">\n",
       "  <thead>\n",
       "    <tr style=\"text-align: right;\">\n",
       "      <th>LoanTerm</th>\n",
       "      <th>12</th>\n",
       "      <th>24</th>\n",
       "      <th>36</th>\n",
       "      <th>48</th>\n",
       "      <th>60</th>\n",
       "    </tr>\n",
       "    <tr>\n",
       "      <th>Default</th>\n",
       "      <th></th>\n",
       "      <th></th>\n",
       "      <th></th>\n",
       "      <th></th>\n",
       "      <th></th>\n",
       "    </tr>\n",
       "  </thead>\n",
       "  <tbody>\n",
       "    <tr>\n",
       "      <th>0</th>\n",
       "      <td>45037</td>\n",
       "      <td>45088</td>\n",
       "      <td>45154</td>\n",
       "      <td>45244</td>\n",
       "      <td>45171</td>\n",
       "    </tr>\n",
       "    <tr>\n",
       "      <th>1</th>\n",
       "      <td>5920</td>\n",
       "      <td>5921</td>\n",
       "      <td>5907</td>\n",
       "      <td>5922</td>\n",
       "      <td>5983</td>\n",
       "    </tr>\n",
       "  </tbody>\n",
       "</table>\n",
       "</div>"
      ],
      "text/plain": [
       "LoanTerm     12     24     36     48     60\n",
       "Default                                    \n",
       "0         45037  45088  45154  45244  45171\n",
       "1          5920   5921   5907   5922   5983"
      ]
     },
     "execution_count": 35,
     "metadata": {},
     "output_type": "execute_result"
    }
   ],
   "source": [
    "pd.pivot_table(train_df, index = 'Default', columns = 'LoanTerm', values = 'LoanID' ,aggfunc ='count')"
   ]
  },
  {
   "cell_type": "markdown",
   "metadata": {},
   "source": [
    "Loan term has little effect on default rate"
   ]
  },
  {
   "cell_type": "code",
   "execution_count": 36,
   "metadata": {},
   "outputs": [
    {
     "data": {
      "image/png": "[encoded data removed]",
      "text/plain": [
       "<Figure size 360x360 with 1 Axes>"
      ]
     },
     "metadata": {
      "needs_background": "light"
     },
     "output_type": "display_data"
    }
   ],
   "source": [
    "plot_quartiles(train_df, \"DTIRatio\", \"Default Rate by DTI Ratio Ranges/Categories\", categories)"
   ]
  },
  {
   "cell_type": "markdown",
   "metadata": {},
   "source": [
    "Default is proportional to DTI Ratio"
   ]
  },
  {
   "cell_type": "code",
   "execution_count": 37,
   "metadata": {},
   "outputs": [
    {
     "data": {
      "image/png": "[encoded data removed]",
      "text/plain": [
       "<Figure size 360x360 with 1 Axes>"
      ]
     },
     "metadata": {
      "needs_background": "light"
     },
     "output_type": "display_data"
    }
   ],
   "source": [
    "show_compare_countplot(train_df, \"Education\", \"Default\", \"Default count by Education level\")"
   ]
  },
  {
   "cell_type": "code",
   "execution_count": 38,
   "metadata": {},
   "outputs": [
    {
     "data": {
      "text/html": [
       "<div>\n",
       "<style scoped>\n",
       "    .dataframe tbody tr th:only-of-type {\n",
       "        vertical-align: middle;\n",
       "    }\n",
       "\n",
       "    .dataframe tbody tr th {\n",
       "        vertical-align: top;\n",
       "    }\n",
       "\n",
       "    .dataframe thead th {\n",
       "        text-align: right;\n",
       "    }\n",
       "</style>\n",
       "<table border=\"1\" class=\"dataframe\">\n",
       "  <thead>\n",
       "    <tr style=\"text-align: right;\">\n",
       "      <th>Education</th>\n",
       "      <th>Bachelor's</th>\n",
       "      <th>High School</th>\n",
       "      <th>Master's</th>\n",
       "      <th>PhD</th>\n",
       "    </tr>\n",
       "    <tr>\n",
       "      <th>Default</th>\n",
       "      <th></th>\n",
       "      <th></th>\n",
       "      <th></th>\n",
       "      <th></th>\n",
       "    </tr>\n",
       "  </thead>\n",
       "  <tbody>\n",
       "    <tr>\n",
       "      <th>0</th>\n",
       "      <td>56577</td>\n",
       "      <td>55673</td>\n",
       "      <td>56633</td>\n",
       "      <td>56811</td>\n",
       "    </tr>\n",
       "    <tr>\n",
       "      <th>1</th>\n",
       "      <td>7789</td>\n",
       "      <td>8230</td>\n",
       "      <td>6908</td>\n",
       "      <td>6726</td>\n",
       "    </tr>\n",
       "  </tbody>\n",
       "</table>\n",
       "</div>"
      ],
      "text/plain": [
       "Education  Bachelor's  High School  Master's    PhD\n",
       "Default                                            \n",
       "0               56577        55673     56633  56811\n",
       "1                7789         8230      6908   6726"
      ]
     },
     "execution_count": 38,
     "metadata": {},
     "output_type": "execute_result"
    }
   ],
   "source": [
    "pd.pivot_table(train_df, index = 'Default', columns = 'Education', values = 'LoanID' ,aggfunc ='count')"
   ]
  },
  {
   "cell_type": "markdown",
   "metadata": {},
   "source": [
    "Default is less if Education is higher"
   ]
  },
  {
   "cell_type": "code",
   "execution_count": 39,
   "metadata": {},
   "outputs": [
    {
     "data": {
      "image/png": "[encoded data removed]",
      "text/plain": [
       "<Figure size 360x360 with 1 Axes>"
      ]
     },
     "metadata": {
      "needs_background": "light"
     },
     "output_type": "display_data"
    }
   ],
   "source": [
    "show_compare_countplot(train_df, \"EmploymentType\", \"Default\", \"Default count by Employment Type\")"
   ]
  },
  {
   "cell_type": "code",
   "execution_count": 40,
   "metadata": {},
   "outputs": [
    {
     "data": {
      "text/html": [
       "<div>\n",
       "<style scoped>\n",
       "    .dataframe tbody tr th:only-of-type {\n",
       "        vertical-align: middle;\n",
       "    }\n",
       "\n",
       "    .dataframe tbody tr th {\n",
       "        vertical-align: top;\n",
       "    }\n",
       "\n",
       "    .dataframe thead th {\n",
       "        text-align: right;\n",
       "    }\n",
       "</style>\n",
       "<table border=\"1\" class=\"dataframe\">\n",
       "  <thead>\n",
       "    <tr style=\"text-align: right;\">\n",
       "      <th>EmploymentType</th>\n",
       "      <th>Full-time</th>\n",
       "      <th>Part-time</th>\n",
       "      <th>Self-employed</th>\n",
       "      <th>Unemployed</th>\n",
       "    </tr>\n",
       "    <tr>\n",
       "      <th>Default</th>\n",
       "      <th></th>\n",
       "      <th></th>\n",
       "      <th></th>\n",
       "      <th></th>\n",
       "    </tr>\n",
       "  </thead>\n",
       "  <tbody>\n",
       "    <tr>\n",
       "      <th>0</th>\n",
       "      <td>57632</td>\n",
       "      <td>56484</td>\n",
       "      <td>56404</td>\n",
       "      <td>55174</td>\n",
       "    </tr>\n",
       "    <tr>\n",
       "      <th>1</th>\n",
       "      <td>6024</td>\n",
       "      <td>7677</td>\n",
       "      <td>7302</td>\n",
       "      <td>8650</td>\n",
       "    </tr>\n",
       "  </tbody>\n",
       "</table>\n",
       "</div>"
      ],
      "text/plain": [
       "EmploymentType  Full-time  Part-time  Self-employed  Unemployed\n",
       "Default                                                        \n",
       "0                   57632      56484          56404       55174\n",
       "1                    6024       7677           7302        8650"
      ]
     },
     "execution_count": 40,
     "metadata": {},
     "output_type": "execute_result"
    }
   ],
   "source": [
    "pd.pivot_table(train_df, index = 'Default', columns = 'EmploymentType', values = 'LoanID' ,aggfunc ='count')"
   ]
  },
  {
   "cell_type": "markdown",
   "metadata": {},
   "source": [
    "Default is less if Employment is better"
   ]
  },
  {
   "cell_type": "code",
   "execution_count": 41,
   "metadata": {},
   "outputs": [
    {
     "data": {
      "image/png": "[encoded data removed]",
      "text/plain": [
       "<Figure size 360x360 with 1 Axes>"
      ]
     },
     "metadata": {
      "needs_background": "light"
     },
     "output_type": "display_data"
    }
   ],
   "source": [
    "show_compare_countplot(train_df, \"MaritalStatus\", \"Default\", \"Default count by Marital Status\")"
   ]
  },
  {
   "cell_type": "code",
   "execution_count": 42,
   "metadata": {},
   "outputs": [
    {
     "data": {
      "text/html": [
       "<div>\n",
       "<style scoped>\n",
       "    .dataframe tbody tr th:only-of-type {\n",
       "        vertical-align: middle;\n",
       "    }\n",
       "\n",
       "    .dataframe tbody tr th {\n",
       "        vertical-align: top;\n",
       "    }\n",
       "\n",
       "    .dataframe thead th {\n",
       "        text-align: right;\n",
       "    }\n",
       "</style>\n",
       "<table border=\"1\" class=\"dataframe\">\n",
       "  <thead>\n",
       "    <tr style=\"text-align: right;\">\n",
       "      <th>MaritalStatus</th>\n",
       "      <th>Divorced</th>\n",
       "      <th>Married</th>\n",
       "      <th>Single</th>\n",
       "    </tr>\n",
       "    <tr>\n",
       "      <th>Default</th>\n",
       "      <th></th>\n",
       "      <th></th>\n",
       "      <th></th>\n",
       "    </tr>\n",
       "  </thead>\n",
       "  <tbody>\n",
       "    <tr>\n",
       "      <th>0</th>\n",
       "      <td>74376</td>\n",
       "      <td>76433</td>\n",
       "      <td>74885</td>\n",
       "    </tr>\n",
       "    <tr>\n",
       "      <th>1</th>\n",
       "      <td>10657</td>\n",
       "      <td>8869</td>\n",
       "      <td>10127</td>\n",
       "    </tr>\n",
       "  </tbody>\n",
       "</table>\n",
       "</div>"
      ],
      "text/plain": [
       "MaritalStatus  Divorced  Married  Single\n",
       "Default                                 \n",
       "0                 74376    76433   74885\n",
       "1                 10657     8869   10127"
      ]
     },
     "execution_count": 42,
     "metadata": {},
     "output_type": "execute_result"
    }
   ],
   "source": [
    "pd.pivot_table(train_df, index = 'Default', columns = 'MaritalStatus', values = 'LoanID' ,aggfunc ='count')"
   ]
  },
  {
   "cell_type": "markdown",
   "metadata": {},
   "source": [
    "Default is less if one is Married"
   ]
  },
  {
   "cell_type": "code",
   "execution_count": 43,
   "metadata": {},
   "outputs": [
    {
     "data": {
      "text/html": [
       "<div>\n",
       "<style scoped>\n",
       "    .dataframe tbody tr th:only-of-type {\n",
       "        vertical-align: middle;\n",
       "    }\n",
       "\n",
       "    .dataframe tbody tr th {\n",
       "        vertical-align: top;\n",
       "    }\n",
       "\n",
       "    .dataframe thead th {\n",
       "        text-align: right;\n",
       "    }\n",
       "</style>\n",
       "<table border=\"1\" class=\"dataframe\">\n",
       "  <thead>\n",
       "    <tr style=\"text-align: right;\">\n",
       "      <th>HasMortgage</th>\n",
       "      <th>No</th>\n",
       "      <th>Yes</th>\n",
       "    </tr>\n",
       "    <tr>\n",
       "      <th>Default</th>\n",
       "      <th></th>\n",
       "      <th></th>\n",
       "    </tr>\n",
       "  </thead>\n",
       "  <tbody>\n",
       "    <tr>\n",
       "      <th>0</th>\n",
       "      <td>111909</td>\n",
       "      <td>113785</td>\n",
       "    </tr>\n",
       "    <tr>\n",
       "      <th>1</th>\n",
       "      <td>15761</td>\n",
       "      <td>13892</td>\n",
       "    </tr>\n",
       "  </tbody>\n",
       "</table>\n",
       "</div>"
      ],
      "text/plain": [
       "HasMortgage      No     Yes\n",
       "Default                    \n",
       "0            111909  113785\n",
       "1             15761   13892"
      ]
     },
     "execution_count": 43,
     "metadata": {},
     "output_type": "execute_result"
    }
   ],
   "source": [
    "pd.pivot_table(train_df, index = 'Default', columns = 'HasMortgage', values = 'LoanID' ,aggfunc ='count')"
   ]
  },
  {
   "cell_type": "markdown",
   "metadata": {},
   "source": [
    "Those with Mortgage Defaulted less"
   ]
  },
  {
   "cell_type": "code",
   "execution_count": 44,
   "metadata": {},
   "outputs": [
    {
     "data": {
      "text/html": [
       "<div>\n",
       "<style scoped>\n",
       "    .dataframe tbody tr th:only-of-type {\n",
       "        vertical-align: middle;\n",
       "    }\n",
       "\n",
       "    .dataframe tbody tr th {\n",
       "        vertical-align: top;\n",
       "    }\n",
       "\n",
       "    .dataframe thead th {\n",
       "        text-align: right;\n",
       "    }\n",
       "</style>\n",
       "<table border=\"1\" class=\"dataframe\">\n",
       "  <thead>\n",
       "    <tr style=\"text-align: right;\">\n",
       "      <th>HasDependents</th>\n",
       "      <th>No</th>\n",
       "      <th>Yes</th>\n",
       "    </tr>\n",
       "    <tr>\n",
       "      <th>Default</th>\n",
       "      <th></th>\n",
       "      <th></th>\n",
       "    </tr>\n",
       "  </thead>\n",
       "  <tbody>\n",
       "    <tr>\n",
       "      <th>0</th>\n",
       "      <td>111368</td>\n",
       "      <td>114326</td>\n",
       "    </tr>\n",
       "    <tr>\n",
       "      <th>1</th>\n",
       "      <td>16237</td>\n",
       "      <td>13416</td>\n",
       "    </tr>\n",
       "  </tbody>\n",
       "</table>\n",
       "</div>"
      ],
      "text/plain": [
       "HasDependents      No     Yes\n",
       "Default                      \n",
       "0              111368  114326\n",
       "1               16237   13416"
      ]
     },
     "execution_count": 44,
     "metadata": {},
     "output_type": "execute_result"
    }
   ],
   "source": [
    "pd.pivot_table(train_df, index = 'Default', columns = 'HasDependents', values = 'LoanID' ,aggfunc ='count')"
   ]
  },
  {
   "cell_type": "markdown",
   "metadata": {},
   "source": [
    "Those with Dependants Defaulted less"
   ]
  },
  {
   "cell_type": "code",
   "execution_count": 45,
   "metadata": {},
   "outputs": [],
   "source": [
    "def bar_chart_compare(dataset, feature1, feature2=None, title = \"Default rate by Loan Reason'\"):\n",
    "    plt.figure(figsize = [5,5])\n",
    "    plt.title(title)\n",
    "    g = sns.barplot(x=feature1, y='Default', hue=feature2, ci=None, data=dataset).set_ylabel('Defaule rate')"
   ]
  },
  {
   "cell_type": "code",
   "execution_count": 46,
   "metadata": {},
   "outputs": [
    {
     "data": {
      "image/png": "[encoded data removed]",
      "text/plain": [
       "<Figure size 360x360 with 1 Axes>"
      ]
     },
     "metadata": {
      "needs_background": "light"
     },
     "output_type": "display_data"
    }
   ],
   "source": [
    "bar_chart_compare(train_df, \"LoanPurpose\", title = \"Default rate by Loan Purpose\")"
   ]
  },
  {
   "cell_type": "code",
   "execution_count": 47,
   "metadata": {},
   "outputs": [
    {
     "data": {
      "text/html": [
       "<div>\n",
       "<style scoped>\n",
       "    .dataframe tbody tr th:only-of-type {\n",
       "        vertical-align: middle;\n",
       "    }\n",
       "\n",
       "    .dataframe tbody tr th {\n",
       "        vertical-align: top;\n",
       "    }\n",
       "\n",
       "    .dataframe thead th {\n",
       "        text-align: right;\n",
       "    }\n",
       "</style>\n",
       "<table border=\"1\" class=\"dataframe\">\n",
       "  <thead>\n",
       "    <tr style=\"text-align: right;\">\n",
       "      <th>LoanPurpose</th>\n",
       "      <th>Auto</th>\n",
       "      <th>Business</th>\n",
       "      <th>Education</th>\n",
       "      <th>Home</th>\n",
       "      <th>Other</th>\n",
       "    </tr>\n",
       "    <tr>\n",
       "      <th>Default</th>\n",
       "      <th></th>\n",
       "      <th></th>\n",
       "      <th></th>\n",
       "      <th></th>\n",
       "      <th></th>\n",
       "    </tr>\n",
       "  </thead>\n",
       "  <tbody>\n",
       "    <tr>\n",
       "      <th>0</th>\n",
       "      <td>44803</td>\n",
       "      <td>44975</td>\n",
       "      <td>44967</td>\n",
       "      <td>46037</td>\n",
       "      <td>44912</td>\n",
       "    </tr>\n",
       "    <tr>\n",
       "      <th>1</th>\n",
       "      <td>6041</td>\n",
       "      <td>6323</td>\n",
       "      <td>6038</td>\n",
       "      <td>5249</td>\n",
       "      <td>6002</td>\n",
       "    </tr>\n",
       "  </tbody>\n",
       "</table>\n",
       "</div>"
      ],
      "text/plain": [
       "LoanPurpose   Auto  Business  Education   Home  Other\n",
       "Default                                              \n",
       "0            44803     44975      44967  46037  44912\n",
       "1             6041      6323       6038   5249   6002"
      ]
     },
     "execution_count": 47,
     "metadata": {},
     "output_type": "execute_result"
    }
   ],
   "source": [
    "pd.pivot_table(train_df, index = 'Default', columns = 'LoanPurpose', values = 'LoanID' ,aggfunc ='count')"
   ]
  },
  {
   "cell_type": "markdown",
   "metadata": {},
   "source": [
    "Buiness loans defaulted more then Auto/Education then Home Loans"
   ]
  },
  {
   "cell_type": "code",
   "execution_count": 48,
   "metadata": {},
   "outputs": [
    {
     "data": {
      "text/html": [
       "<div>\n",
       "<style scoped>\n",
       "    .dataframe tbody tr th:only-of-type {\n",
       "        vertical-align: middle;\n",
       "    }\n",
       "\n",
       "    .dataframe tbody tr th {\n",
       "        vertical-align: top;\n",
       "    }\n",
       "\n",
       "    .dataframe thead th {\n",
       "        text-align: right;\n",
       "    }\n",
       "</style>\n",
       "<table border=\"1\" class=\"dataframe\">\n",
       "  <thead>\n",
       "    <tr style=\"text-align: right;\">\n",
       "      <th>HasCoSigner</th>\n",
       "      <th>No</th>\n",
       "      <th>Yes</th>\n",
       "    </tr>\n",
       "    <tr>\n",
       "      <th>Default</th>\n",
       "      <th></th>\n",
       "      <th></th>\n",
       "    </tr>\n",
       "  </thead>\n",
       "  <tbody>\n",
       "    <tr>\n",
       "      <th>0</th>\n",
       "      <td>111223</td>\n",
       "      <td>114471</td>\n",
       "    </tr>\n",
       "    <tr>\n",
       "      <th>1</th>\n",
       "      <td>16423</td>\n",
       "      <td>13230</td>\n",
       "    </tr>\n",
       "  </tbody>\n",
       "</table>\n",
       "</div>"
      ],
      "text/plain": [
       "HasCoSigner      No     Yes\n",
       "Default                    \n",
       "0            111223  114471\n",
       "1             16423   13230"
      ]
     },
     "execution_count": 48,
     "metadata": {},
     "output_type": "execute_result"
    }
   ],
   "source": [
    "pd.pivot_table(train_df, index = 'Default', columns = 'HasCoSigner', values = 'LoanID' ,aggfunc ='count')"
   ]
  },
  {
   "cell_type": "markdown",
   "metadata": {},
   "source": [
    "No co signer increases default rate"
   ]
  },
  {
   "cell_type": "markdown",
   "metadata": {},
   "source": [
    "# Feature Engineering"
   ]
  },
  {
   "cell_type": "code",
   "execution_count": 49,
   "metadata": {},
   "outputs": [
    {
     "data": {
      "text/html": [
       "<div>\n",
       "<style scoped>\n",
       "    .dataframe tbody tr th:only-of-type {\n",
       "        vertical-align: middle;\n",
       "    }\n",
       "\n",
       "    .dataframe tbody tr th {\n",
       "        vertical-align: top;\n",
       "    }\n",
       "\n",
       "    .dataframe thead th {\n",
       "        text-align: right;\n",
       "    }\n",
       "</style>\n",
       "<table border=\"1\" class=\"dataframe\">\n",
       "  <thead>\n",
       "    <tr style=\"text-align: right;\">\n",
       "      <th></th>\n",
       "      <th>LoanID</th>\n",
       "      <th>Age</th>\n",
       "      <th>Income</th>\n",
       "      <th>LoanAmount</th>\n",
       "      <th>CreditScore</th>\n",
       "      <th>MonthsEmployed</th>\n",
       "      <th>NumCreditLines</th>\n",
       "      <th>InterestRate</th>\n",
       "      <th>LoanTerm</th>\n",
       "      <th>DTIRatio</th>\n",
       "      <th>Education</th>\n",
       "      <th>EmploymentType</th>\n",
       "      <th>MaritalStatus</th>\n",
       "      <th>HasMortgage</th>\n",
       "      <th>HasDependents</th>\n",
       "      <th>LoanPurpose</th>\n",
       "      <th>HasCoSigner</th>\n",
       "      <th>Default</th>\n",
       "      <th>Fam</th>\n",
       "    </tr>\n",
       "  </thead>\n",
       "  <tbody>\n",
       "    <tr>\n",
       "      <th>0</th>\n",
       "      <td>I38PQUQS96</td>\n",
       "      <td>56</td>\n",
       "      <td>85994</td>\n",
       "      <td>50587</td>\n",
       "      <td>520</td>\n",
       "      <td>80</td>\n",
       "      <td>4</td>\n",
       "      <td>15.23</td>\n",
       "      <td>36</td>\n",
       "      <td>0.44</td>\n",
       "      <td>Bachelor's</td>\n",
       "      <td>Full-time</td>\n",
       "      <td>Divorced</td>\n",
       "      <td>Yes</td>\n",
       "      <td>Yes</td>\n",
       "      <td>Other</td>\n",
       "      <td>Yes</td>\n",
       "      <td>0</td>\n",
       "      <td>True</td>\n",
       "    </tr>\n",
       "    <tr>\n",
       "      <th>1</th>\n",
       "      <td>HPSK72WA7R</td>\n",
       "      <td>69</td>\n",
       "      <td>50432</td>\n",
       "      <td>124440</td>\n",
       "      <td>458</td>\n",
       "      <td>15</td>\n",
       "      <td>1</td>\n",
       "      <td>4.81</td>\n",
       "      <td>60</td>\n",
       "      <td>0.68</td>\n",
       "      <td>Master's</td>\n",
       "      <td>Full-time</td>\n",
       "      <td>Married</td>\n",
       "      <td>No</td>\n",
       "      <td>No</td>\n",
       "      <td>Other</td>\n",
       "      <td>Yes</td>\n",
       "      <td>0</td>\n",
       "      <td>True</td>\n",
       "    </tr>\n",
       "    <tr>\n",
       "      <th>2</th>\n",
       "      <td>C1OZ6DPJ8Y</td>\n",
       "      <td>46</td>\n",
       "      <td>84208</td>\n",
       "      <td>129188</td>\n",
       "      <td>451</td>\n",
       "      <td>26</td>\n",
       "      <td>3</td>\n",
       "      <td>21.17</td>\n",
       "      <td>24</td>\n",
       "      <td>0.31</td>\n",
       "      <td>Master's</td>\n",
       "      <td>Unemployed</td>\n",
       "      <td>Divorced</td>\n",
       "      <td>Yes</td>\n",
       "      <td>Yes</td>\n",
       "      <td>Auto</td>\n",
       "      <td>No</td>\n",
       "      <td>1</td>\n",
       "      <td>True</td>\n",
       "    </tr>\n",
       "    <tr>\n",
       "      <th>3</th>\n",
       "      <td>V2KKSFM3UN</td>\n",
       "      <td>32</td>\n",
       "      <td>31713</td>\n",
       "      <td>44799</td>\n",
       "      <td>743</td>\n",
       "      <td>0</td>\n",
       "      <td>3</td>\n",
       "      <td>7.07</td>\n",
       "      <td>24</td>\n",
       "      <td>0.23</td>\n",
       "      <td>High School</td>\n",
       "      <td>Full-time</td>\n",
       "      <td>Married</td>\n",
       "      <td>No</td>\n",
       "      <td>No</td>\n",
       "      <td>Business</td>\n",
       "      <td>No</td>\n",
       "      <td>0</td>\n",
       "      <td>True</td>\n",
       "    </tr>\n",
       "    <tr>\n",
       "      <th>4</th>\n",
       "      <td>EY08JDHTZP</td>\n",
       "      <td>60</td>\n",
       "      <td>20437</td>\n",
       "      <td>9139</td>\n",
       "      <td>633</td>\n",
       "      <td>8</td>\n",
       "      <td>4</td>\n",
       "      <td>6.51</td>\n",
       "      <td>48</td>\n",
       "      <td>0.73</td>\n",
       "      <td>Bachelor's</td>\n",
       "      <td>Unemployed</td>\n",
       "      <td>Divorced</td>\n",
       "      <td>No</td>\n",
       "      <td>Yes</td>\n",
       "      <td>Auto</td>\n",
       "      <td>No</td>\n",
       "      <td>0</td>\n",
       "      <td>True</td>\n",
       "    </tr>\n",
       "    <tr>\n",
       "      <th>5</th>\n",
       "      <td>A9S62RQ7US</td>\n",
       "      <td>25</td>\n",
       "      <td>90298</td>\n",
       "      <td>90448</td>\n",
       "      <td>720</td>\n",
       "      <td>18</td>\n",
       "      <td>2</td>\n",
       "      <td>22.72</td>\n",
       "      <td>24</td>\n",
       "      <td>0.10</td>\n",
       "      <td>High School</td>\n",
       "      <td>Unemployed</td>\n",
       "      <td>Single</td>\n",
       "      <td>Yes</td>\n",
       "      <td>No</td>\n",
       "      <td>Business</td>\n",
       "      <td>Yes</td>\n",
       "      <td>1</td>\n",
       "      <td>False</td>\n",
       "    </tr>\n",
       "    <tr>\n",
       "      <th>6</th>\n",
       "      <td>H8GXPAOS71</td>\n",
       "      <td>38</td>\n",
       "      <td>111188</td>\n",
       "      <td>177025</td>\n",
       "      <td>429</td>\n",
       "      <td>80</td>\n",
       "      <td>1</td>\n",
       "      <td>19.11</td>\n",
       "      <td>12</td>\n",
       "      <td>0.16</td>\n",
       "      <td>Bachelor's</td>\n",
       "      <td>Unemployed</td>\n",
       "      <td>Single</td>\n",
       "      <td>Yes</td>\n",
       "      <td>No</td>\n",
       "      <td>Home</td>\n",
       "      <td>Yes</td>\n",
       "      <td>0</td>\n",
       "      <td>False</td>\n",
       "    </tr>\n",
       "    <tr>\n",
       "      <th>7</th>\n",
       "      <td>0HGZQKJ36W</td>\n",
       "      <td>56</td>\n",
       "      <td>126802</td>\n",
       "      <td>155511</td>\n",
       "      <td>531</td>\n",
       "      <td>67</td>\n",
       "      <td>4</td>\n",
       "      <td>8.15</td>\n",
       "      <td>60</td>\n",
       "      <td>0.43</td>\n",
       "      <td>PhD</td>\n",
       "      <td>Full-time</td>\n",
       "      <td>Married</td>\n",
       "      <td>No</td>\n",
       "      <td>No</td>\n",
       "      <td>Home</td>\n",
       "      <td>Yes</td>\n",
       "      <td>0</td>\n",
       "      <td>True</td>\n",
       "    </tr>\n",
       "    <tr>\n",
       "      <th>8</th>\n",
       "      <td>1R0N3LGNRJ</td>\n",
       "      <td>36</td>\n",
       "      <td>42053</td>\n",
       "      <td>92357</td>\n",
       "      <td>827</td>\n",
       "      <td>83</td>\n",
       "      <td>1</td>\n",
       "      <td>23.94</td>\n",
       "      <td>48</td>\n",
       "      <td>0.20</td>\n",
       "      <td>Bachelor's</td>\n",
       "      <td>Self-employed</td>\n",
       "      <td>Divorced</td>\n",
       "      <td>Yes</td>\n",
       "      <td>No</td>\n",
       "      <td>Education</td>\n",
       "      <td>No</td>\n",
       "      <td>1</td>\n",
       "      <td>False</td>\n",
       "    </tr>\n",
       "    <tr>\n",
       "      <th>9</th>\n",
       "      <td>CM9L1GTT2P</td>\n",
       "      <td>40</td>\n",
       "      <td>132784</td>\n",
       "      <td>228510</td>\n",
       "      <td>480</td>\n",
       "      <td>114</td>\n",
       "      <td>4</td>\n",
       "      <td>9.09</td>\n",
       "      <td>48</td>\n",
       "      <td>0.33</td>\n",
       "      <td>High School</td>\n",
       "      <td>Self-employed</td>\n",
       "      <td>Married</td>\n",
       "      <td>Yes</td>\n",
       "      <td>No</td>\n",
       "      <td>Other</td>\n",
       "      <td>Yes</td>\n",
       "      <td>0</td>\n",
       "      <td>True</td>\n",
       "    </tr>\n",
       "  </tbody>\n",
       "</table>\n",
       "</div>"
      ],
      "text/plain": [
       "       LoanID  Age  Income  LoanAmount  CreditScore  MonthsEmployed  \\\n",
       "0  I38PQUQS96   56   85994       50587          520              80   \n",
       "1  HPSK72WA7R   69   50432      124440          458              15   \n",
       "2  C1OZ6DPJ8Y   46   84208      129188          451              26   \n",
       "3  V2KKSFM3UN   32   31713       44799          743               0   \n",
       "4  EY08JDHTZP   60   20437        9139          633               8   \n",
       "5  A9S62RQ7US   25   90298       90448          720              18   \n",
       "6  H8GXPAOS71   38  111188      177025          429              80   \n",
       "7  0HGZQKJ36W   56  126802      155511          531              67   \n",
       "8  1R0N3LGNRJ   36   42053       92357          827              83   \n",
       "9  CM9L1GTT2P   40  132784      228510          480             114   \n",
       "\n",
       "   NumCreditLines  InterestRate  LoanTerm  DTIRatio    Education  \\\n",
       "0               4         15.23        36      0.44   Bachelor's   \n",
       "1               1          4.81        60      0.68     Master's   \n",
       "2               3         21.17        24      0.31     Master's   \n",
       "3               3          7.07        24      0.23  High School   \n",
       "4               4          6.51        48      0.73   Bachelor's   \n",
       "5               2         22.72        24      0.10  High School   \n",
       "6               1         19.11        12      0.16   Bachelor's   \n",
       "7               4          8.15        60      0.43          PhD   \n",
       "8               1         23.94        48      0.20   Bachelor's   \n",
       "9               4          9.09        48      0.33  High School   \n",
       "\n",
       "  EmploymentType MaritalStatus HasMortgage HasDependents LoanPurpose  \\\n",
       "0      Full-time      Divorced         Yes           Yes       Other   \n",
       "1      Full-time       Married          No            No       Other   \n",
       "2     Unemployed      Divorced         Yes           Yes        Auto   \n",
       "3      Full-time       Married          No            No    Business   \n",
       "4     Unemployed      Divorced          No           Yes        Auto   \n",
       "5     Unemployed        Single         Yes            No    Business   \n",
       "6     Unemployed        Single         Yes            No        Home   \n",
       "7      Full-time       Married          No            No        Home   \n",
       "8  Self-employed      Divorced         Yes            No   Education   \n",
       "9  Self-employed       Married         Yes            No       Other   \n",
       "\n",
       "  HasCoSigner  Default    Fam  \n",
       "0         Yes        0   True  \n",
       "1         Yes        0   True  \n",
       "2          No        1   True  \n",
       "3          No        0   True  \n",
       "4          No        0   True  \n",
       "5         Yes        1  False  \n",
       "6         Yes        0  False  \n",
       "7         Yes        0   True  \n",
       "8          No        1  False  \n",
       "9         Yes        0   True  "
      ]
     },
     "execution_count": 49,
     "metadata": {},
     "output_type": "execute_result"
    }
   ],
   "source": [
    "train_df['Fam'] = (train_df['MaritalStatus'] == 'Married') | (train_df['HasDependents'] == 'Yes') \n",
    "train_df.head(10)"
   ]
  },
  {
   "cell_type": "code",
   "execution_count": 50,
   "metadata": {},
   "outputs": [
    {
     "data": {
      "text/html": [
       "<div>\n",
       "<style scoped>\n",
       "    .dataframe tbody tr th:only-of-type {\n",
       "        vertical-align: middle;\n",
       "    }\n",
       "\n",
       "    .dataframe tbody tr th {\n",
       "        vertical-align: top;\n",
       "    }\n",
       "\n",
       "    .dataframe thead th {\n",
       "        text-align: right;\n",
       "    }\n",
       "</style>\n",
       "<table border=\"1\" class=\"dataframe\">\n",
       "  <thead>\n",
       "    <tr style=\"text-align: right;\">\n",
       "      <th></th>\n",
       "      <th>LoanID</th>\n",
       "      <th>Age</th>\n",
       "      <th>Income</th>\n",
       "      <th>LoanAmount</th>\n",
       "      <th>CreditScore</th>\n",
       "      <th>MonthsEmployed</th>\n",
       "      <th>NumCreditLines</th>\n",
       "      <th>InterestRate</th>\n",
       "      <th>LoanTerm</th>\n",
       "      <th>DTIRatio</th>\n",
       "      <th>Education</th>\n",
       "      <th>EmploymentType</th>\n",
       "      <th>HasMortgage</th>\n",
       "      <th>LoanPurpose</th>\n",
       "      <th>HasCoSigner</th>\n",
       "      <th>Default</th>\n",
       "      <th>Fam</th>\n",
       "    </tr>\n",
       "  </thead>\n",
       "  <tbody>\n",
       "    <tr>\n",
       "      <th>0</th>\n",
       "      <td>I38PQUQS96</td>\n",
       "      <td>56</td>\n",
       "      <td>85994</td>\n",
       "      <td>50587</td>\n",
       "      <td>520</td>\n",
       "      <td>80</td>\n",
       "      <td>4</td>\n",
       "      <td>15.23</td>\n",
       "      <td>36</td>\n",
       "      <td>0.44</td>\n",
       "      <td>Bachelor's</td>\n",
       "      <td>Full-time</td>\n",
       "      <td>Yes</td>\n",
       "      <td>Other</td>\n",
       "      <td>Yes</td>\n",
       "      <td>0</td>\n",
       "      <td>True</td>\n",
       "    </tr>\n",
       "    <tr>\n",
       "      <th>1</th>\n",
       "      <td>HPSK72WA7R</td>\n",
       "      <td>69</td>\n",
       "      <td>50432</td>\n",
       "      <td>124440</td>\n",
       "      <td>458</td>\n",
       "      <td>15</td>\n",
       "      <td>1</td>\n",
       "      <td>4.81</td>\n",
       "      <td>60</td>\n",
       "      <td>0.68</td>\n",
       "      <td>Master's</td>\n",
       "      <td>Full-time</td>\n",
       "      <td>No</td>\n",
       "      <td>Other</td>\n",
       "      <td>Yes</td>\n",
       "      <td>0</td>\n",
       "      <td>True</td>\n",
       "    </tr>\n",
       "    <tr>\n",
       "      <th>2</th>\n",
       "      <td>C1OZ6DPJ8Y</td>\n",
       "      <td>46</td>\n",
       "      <td>84208</td>\n",
       "      <td>129188</td>\n",
       "      <td>451</td>\n",
       "      <td>26</td>\n",
       "      <td>3</td>\n",
       "      <td>21.17</td>\n",
       "      <td>24</td>\n",
       "      <td>0.31</td>\n",
       "      <td>Master's</td>\n",
       "      <td>Unemployed</td>\n",
       "      <td>Yes</td>\n",
       "      <td>Auto</td>\n",
       "      <td>No</td>\n",
       "      <td>1</td>\n",
       "      <td>True</td>\n",
       "    </tr>\n",
       "    <tr>\n",
       "      <th>3</th>\n",
       "      <td>V2KKSFM3UN</td>\n",
       "      <td>32</td>\n",
       "      <td>31713</td>\n",
       "      <td>44799</td>\n",
       "      <td>743</td>\n",
       "      <td>0</td>\n",
       "      <td>3</td>\n",
       "      <td>7.07</td>\n",
       "      <td>24</td>\n",
       "      <td>0.23</td>\n",
       "      <td>High School</td>\n",
       "      <td>Full-time</td>\n",
       "      <td>No</td>\n",
       "      <td>Business</td>\n",
       "      <td>No</td>\n",
       "      <td>0</td>\n",
       "      <td>True</td>\n",
       "    </tr>\n",
       "    <tr>\n",
       "      <th>4</th>\n",
       "      <td>EY08JDHTZP</td>\n",
       "      <td>60</td>\n",
       "      <td>20437</td>\n",
       "      <td>9139</td>\n",
       "      <td>633</td>\n",
       "      <td>8</td>\n",
       "      <td>4</td>\n",
       "      <td>6.51</td>\n",
       "      <td>48</td>\n",
       "      <td>0.73</td>\n",
       "      <td>Bachelor's</td>\n",
       "      <td>Unemployed</td>\n",
       "      <td>No</td>\n",
       "      <td>Auto</td>\n",
       "      <td>No</td>\n",
       "      <td>0</td>\n",
       "      <td>True</td>\n",
       "    </tr>\n",
       "  </tbody>\n",
       "</table>\n",
       "</div>"
      ],
      "text/plain": [
       "       LoanID  Age  Income  LoanAmount  CreditScore  MonthsEmployed  \\\n",
       "0  I38PQUQS96   56   85994       50587          520              80   \n",
       "1  HPSK72WA7R   69   50432      124440          458              15   \n",
       "2  C1OZ6DPJ8Y   46   84208      129188          451              26   \n",
       "3  V2KKSFM3UN   32   31713       44799          743               0   \n",
       "4  EY08JDHTZP   60   20437        9139          633               8   \n",
       "\n",
       "   NumCreditLines  InterestRate  LoanTerm  DTIRatio    Education  \\\n",
       "0               4         15.23        36      0.44   Bachelor's   \n",
       "1               1          4.81        60      0.68     Master's   \n",
       "2               3         21.17        24      0.31     Master's   \n",
       "3               3          7.07        24      0.23  High School   \n",
       "4               4          6.51        48      0.73   Bachelor's   \n",
       "\n",
       "  EmploymentType HasMortgage LoanPurpose HasCoSigner  Default   Fam  \n",
       "0      Full-time         Yes       Other         Yes        0  True  \n",
       "1      Full-time          No       Other         Yes        0  True  \n",
       "2     Unemployed         Yes        Auto          No        1  True  \n",
       "3      Full-time          No    Business          No        0  True  \n",
       "4     Unemployed          No        Auto          No        0  True  "
      ]
     },
     "execution_count": 50,
     "metadata": {},
     "output_type": "execute_result"
    }
   ],
   "source": [
    "train_df = train_df.drop('MaritalStatus', axis=1)\n",
    "train_df = train_df.drop('HasDependents', axis=1)\n",
    "train_df.head()"
   ]
  },
  {
   "cell_type": "code",
   "execution_count": 51,
   "metadata": {},
   "outputs": [
    {
     "data": {
      "text/html": [
       "<div>\n",
       "<style scoped>\n",
       "    .dataframe tbody tr th:only-of-type {\n",
       "        vertical-align: middle;\n",
       "    }\n",
       "\n",
       "    .dataframe tbody tr th {\n",
       "        vertical-align: top;\n",
       "    }\n",
       "\n",
       "    .dataframe thead th {\n",
       "        text-align: right;\n",
       "    }\n",
       "</style>\n",
       "<table border=\"1\" class=\"dataframe\">\n",
       "  <thead>\n",
       "    <tr style=\"text-align: right;\">\n",
       "      <th></th>\n",
       "      <th>LoanID</th>\n",
       "      <th>Age</th>\n",
       "      <th>Income</th>\n",
       "      <th>LoanAmount</th>\n",
       "      <th>CreditScore</th>\n",
       "      <th>MonthsEmployed</th>\n",
       "      <th>NumCreditLines</th>\n",
       "      <th>InterestRate</th>\n",
       "      <th>LoanTerm</th>\n",
       "      <th>DTIRatio</th>\n",
       "      <th>Education</th>\n",
       "      <th>EmploymentType</th>\n",
       "      <th>HasMortgage</th>\n",
       "      <th>LoanPurpose</th>\n",
       "      <th>HasCoSigner</th>\n",
       "      <th>Fam</th>\n",
       "    </tr>\n",
       "  </thead>\n",
       "  <tbody>\n",
       "    <tr>\n",
       "      <th>0</th>\n",
       "      <td>7RYZGMKJIR</td>\n",
       "      <td>32</td>\n",
       "      <td>131645</td>\n",
       "      <td>43797</td>\n",
       "      <td>802</td>\n",
       "      <td>23</td>\n",
       "      <td>2</td>\n",
       "      <td>6.10</td>\n",
       "      <td>24</td>\n",
       "      <td>0.13</td>\n",
       "      <td>High School</td>\n",
       "      <td>Full-time</td>\n",
       "      <td>Yes</td>\n",
       "      <td>Other</td>\n",
       "      <td>No</td>\n",
       "      <td>False</td>\n",
       "    </tr>\n",
       "    <tr>\n",
       "      <th>1</th>\n",
       "      <td>JDL5RH07AM</td>\n",
       "      <td>61</td>\n",
       "      <td>134312</td>\n",
       "      <td>18402</td>\n",
       "      <td>369</td>\n",
       "      <td>87</td>\n",
       "      <td>2</td>\n",
       "      <td>12.99</td>\n",
       "      <td>60</td>\n",
       "      <td>0.59</td>\n",
       "      <td>High School</td>\n",
       "      <td>Self-employed</td>\n",
       "      <td>No</td>\n",
       "      <td>Business</td>\n",
       "      <td>Yes</td>\n",
       "      <td>False</td>\n",
       "    </tr>\n",
       "    <tr>\n",
       "      <th>2</th>\n",
       "      <td>STAL716Y79</td>\n",
       "      <td>55</td>\n",
       "      <td>115809</td>\n",
       "      <td>151774</td>\n",
       "      <td>563</td>\n",
       "      <td>3</td>\n",
       "      <td>3</td>\n",
       "      <td>5.51</td>\n",
       "      <td>48</td>\n",
       "      <td>0.82</td>\n",
       "      <td>Bachelor's</td>\n",
       "      <td>Full-time</td>\n",
       "      <td>Yes</td>\n",
       "      <td>Other</td>\n",
       "      <td>Yes</td>\n",
       "      <td>True</td>\n",
       "    </tr>\n",
       "    <tr>\n",
       "      <th>3</th>\n",
       "      <td>SO0KKJ3IQB</td>\n",
       "      <td>58</td>\n",
       "      <td>94970</td>\n",
       "      <td>55789</td>\n",
       "      <td>337</td>\n",
       "      <td>24</td>\n",
       "      <td>1</td>\n",
       "      <td>23.93</td>\n",
       "      <td>36</td>\n",
       "      <td>0.77</td>\n",
       "      <td>Bachelor's</td>\n",
       "      <td>Unemployed</td>\n",
       "      <td>No</td>\n",
       "      <td>Business</td>\n",
       "      <td>No</td>\n",
       "      <td>False</td>\n",
       "    </tr>\n",
       "    <tr>\n",
       "      <th>4</th>\n",
       "      <td>T99CWTYDCP</td>\n",
       "      <td>63</td>\n",
       "      <td>71727</td>\n",
       "      <td>189798</td>\n",
       "      <td>451</td>\n",
       "      <td>52</td>\n",
       "      <td>3</td>\n",
       "      <td>22.05</td>\n",
       "      <td>48</td>\n",
       "      <td>0.44</td>\n",
       "      <td>PhD</td>\n",
       "      <td>Unemployed</td>\n",
       "      <td>Yes</td>\n",
       "      <td>Auto</td>\n",
       "      <td>No</td>\n",
       "      <td>False</td>\n",
       "    </tr>\n",
       "  </tbody>\n",
       "</table>\n",
       "</div>"
      ],
      "text/plain": [
       "       LoanID  Age  Income  LoanAmount  CreditScore  MonthsEmployed  \\\n",
       "0  7RYZGMKJIR   32  131645       43797          802              23   \n",
       "1  JDL5RH07AM   61  134312       18402          369              87   \n",
       "2  STAL716Y79   55  115809      151774          563               3   \n",
       "3  SO0KKJ3IQB   58   94970       55789          337              24   \n",
       "4  T99CWTYDCP   63   71727      189798          451              52   \n",
       "\n",
       "   NumCreditLines  InterestRate  LoanTerm  DTIRatio    Education  \\\n",
       "0               2          6.10        24      0.13  High School   \n",
       "1               2         12.99        60      0.59  High School   \n",
       "2               3          5.51        48      0.82   Bachelor's   \n",
       "3               1         23.93        36      0.77   Bachelor's   \n",
       "4               3         22.05        48      0.44          PhD   \n",
       "\n",
       "  EmploymentType HasMortgage LoanPurpose HasCoSigner    Fam  \n",
       "0      Full-time         Yes       Other          No  False  \n",
       "1  Self-employed          No    Business         Yes  False  \n",
       "2      Full-time         Yes       Other         Yes   True  \n",
       "3     Unemployed          No    Business          No  False  \n",
       "4     Unemployed         Yes        Auto          No  False  "
      ]
     },
     "execution_count": 51,
     "metadata": {},
     "output_type": "execute_result"
    }
   ],
   "source": [
    "test_df['Fam'] = (test_df['MaritalStatus'] == 'Married') | (test_df['HasDependents'] == 'Yes') \n",
    "test_df = test_df.drop('MaritalStatus', axis=1)\n",
    "test_df = test_df.drop('HasDependents', axis=1)\n",
    "test_df.head()"
   ]
  },
  {
   "cell_type": "code",
   "execution_count": 52,
   "metadata": {},
   "outputs": [
    {
     "data": {
      "text/html": [
       "<div>\n",
       "<style scoped>\n",
       "    .dataframe tbody tr th:only-of-type {\n",
       "        vertical-align: middle;\n",
       "    }\n",
       "\n",
       "    .dataframe tbody tr th {\n",
       "        vertical-align: top;\n",
       "    }\n",
       "\n",
       "    .dataframe thead th {\n",
       "        text-align: right;\n",
       "    }\n",
       "</style>\n",
       "<table border=\"1\" class=\"dataframe\">\n",
       "  <thead>\n",
       "    <tr style=\"text-align: right;\">\n",
       "      <th></th>\n",
       "      <th>LoanID</th>\n",
       "      <th>Age</th>\n",
       "      <th>Income</th>\n",
       "      <th>LoanAmount</th>\n",
       "      <th>CreditScore</th>\n",
       "      <th>MonthsEmployed</th>\n",
       "      <th>NumCreditLines</th>\n",
       "      <th>InterestRate</th>\n",
       "      <th>DTIRatio</th>\n",
       "      <th>Education</th>\n",
       "      <th>EmploymentType</th>\n",
       "      <th>HasMortgage</th>\n",
       "      <th>LoanPurpose</th>\n",
       "      <th>HasCoSigner</th>\n",
       "      <th>Default</th>\n",
       "      <th>Fam</th>\n",
       "    </tr>\n",
       "  </thead>\n",
       "  <tbody>\n",
       "    <tr>\n",
       "      <th>0</th>\n",
       "      <td>I38PQUQS96</td>\n",
       "      <td>56</td>\n",
       "      <td>85994</td>\n",
       "      <td>50587</td>\n",
       "      <td>520</td>\n",
       "      <td>80</td>\n",
       "      <td>4</td>\n",
       "      <td>15.23</td>\n",
       "      <td>0.44</td>\n",
       "      <td>Bachelor's</td>\n",
       "      <td>Full-time</td>\n",
       "      <td>Yes</td>\n",
       "      <td>Other</td>\n",
       "      <td>Yes</td>\n",
       "      <td>0</td>\n",
       "      <td>True</td>\n",
       "    </tr>\n",
       "    <tr>\n",
       "      <th>1</th>\n",
       "      <td>HPSK72WA7R</td>\n",
       "      <td>69</td>\n",
       "      <td>50432</td>\n",
       "      <td>124440</td>\n",
       "      <td>458</td>\n",
       "      <td>15</td>\n",
       "      <td>1</td>\n",
       "      <td>4.81</td>\n",
       "      <td>0.68</td>\n",
       "      <td>Master's</td>\n",
       "      <td>Full-time</td>\n",
       "      <td>No</td>\n",
       "      <td>Other</td>\n",
       "      <td>Yes</td>\n",
       "      <td>0</td>\n",
       "      <td>True</td>\n",
       "    </tr>\n",
       "    <tr>\n",
       "      <th>2</th>\n",
       "      <td>C1OZ6DPJ8Y</td>\n",
       "      <td>46</td>\n",
       "      <td>84208</td>\n",
       "      <td>129188</td>\n",
       "      <td>451</td>\n",
       "      <td>26</td>\n",
       "      <td>3</td>\n",
       "      <td>21.17</td>\n",
       "      <td>0.31</td>\n",
       "      <td>Master's</td>\n",
       "      <td>Unemployed</td>\n",
       "      <td>Yes</td>\n",
       "      <td>Auto</td>\n",
       "      <td>No</td>\n",
       "      <td>1</td>\n",
       "      <td>True</td>\n",
       "    </tr>\n",
       "    <tr>\n",
       "      <th>3</th>\n",
       "      <td>V2KKSFM3UN</td>\n",
       "      <td>32</td>\n",
       "      <td>31713</td>\n",
       "      <td>44799</td>\n",
       "      <td>743</td>\n",
       "      <td>0</td>\n",
       "      <td>3</td>\n",
       "      <td>7.07</td>\n",
       "      <td>0.23</td>\n",
       "      <td>High School</td>\n",
       "      <td>Full-time</td>\n",
       "      <td>No</td>\n",
       "      <td>Business</td>\n",
       "      <td>No</td>\n",
       "      <td>0</td>\n",
       "      <td>True</td>\n",
       "    </tr>\n",
       "    <tr>\n",
       "      <th>4</th>\n",
       "      <td>EY08JDHTZP</td>\n",
       "      <td>60</td>\n",
       "      <td>20437</td>\n",
       "      <td>9139</td>\n",
       "      <td>633</td>\n",
       "      <td>8</td>\n",
       "      <td>4</td>\n",
       "      <td>6.51</td>\n",
       "      <td>0.73</td>\n",
       "      <td>Bachelor's</td>\n",
       "      <td>Unemployed</td>\n",
       "      <td>No</td>\n",
       "      <td>Auto</td>\n",
       "      <td>No</td>\n",
       "      <td>0</td>\n",
       "      <td>True</td>\n",
       "    </tr>\n",
       "  </tbody>\n",
       "</table>\n",
       "</div>"
      ],
      "text/plain": [
       "       LoanID  Age  Income  LoanAmount  CreditScore  MonthsEmployed  \\\n",
       "0  I38PQUQS96   56   85994       50587          520              80   \n",
       "1  HPSK72WA7R   69   50432      124440          458              15   \n",
       "2  C1OZ6DPJ8Y   46   84208      129188          451              26   \n",
       "3  V2KKSFM3UN   32   31713       44799          743               0   \n",
       "4  EY08JDHTZP   60   20437        9139          633               8   \n",
       "\n",
       "   NumCreditLines  InterestRate  DTIRatio    Education EmploymentType  \\\n",
       "0               4         15.23      0.44   Bachelor's      Full-time   \n",
       "1               1          4.81      0.68     Master's      Full-time   \n",
       "2               3         21.17      0.31     Master's     Unemployed   \n",
       "3               3          7.07      0.23  High School      Full-time   \n",
       "4               4          6.51      0.73   Bachelor's     Unemployed   \n",
       "\n",
       "  HasMortgage LoanPurpose HasCoSigner  Default   Fam  \n",
       "0         Yes       Other         Yes        0  True  \n",
       "1          No       Other         Yes        0  True  \n",
       "2         Yes        Auto          No        1  True  \n",
       "3          No    Business          No        0  True  \n",
       "4          No        Auto          No        0  True  "
      ]
     },
     "execution_count": 52,
     "metadata": {},
     "output_type": "execute_result"
    }
   ],
   "source": [
    "train_df = train_df.drop('LoanTerm', axis=1)\n",
    "train_df.head()"
   ]
  },
  {
   "cell_type": "code",
   "execution_count": 53,
   "metadata": {},
   "outputs": [
    {
     "data": {
      "text/html": [
       "<div>\n",
       "<style scoped>\n",
       "    .dataframe tbody tr th:only-of-type {\n",
       "        vertical-align: middle;\n",
       "    }\n",
       "\n",
       "    .dataframe tbody tr th {\n",
       "        vertical-align: top;\n",
       "    }\n",
       "\n",
       "    .dataframe thead th {\n",
       "        text-align: right;\n",
       "    }\n",
       "</style>\n",
       "<table border=\"1\" class=\"dataframe\">\n",
       "  <thead>\n",
       "    <tr style=\"text-align: right;\">\n",
       "      <th></th>\n",
       "      <th>LoanID</th>\n",
       "      <th>Age</th>\n",
       "      <th>Income</th>\n",
       "      <th>LoanAmount</th>\n",
       "      <th>CreditScore</th>\n",
       "      <th>MonthsEmployed</th>\n",
       "      <th>NumCreditLines</th>\n",
       "      <th>InterestRate</th>\n",
       "      <th>DTIRatio</th>\n",
       "      <th>Education</th>\n",
       "      <th>EmploymentType</th>\n",
       "      <th>HasMortgage</th>\n",
       "      <th>LoanPurpose</th>\n",
       "      <th>HasCoSigner</th>\n",
       "      <th>Fam</th>\n",
       "    </tr>\n",
       "  </thead>\n",
       "  <tbody>\n",
       "    <tr>\n",
       "      <th>0</th>\n",
       "      <td>7RYZGMKJIR</td>\n",
       "      <td>32</td>\n",
       "      <td>131645</td>\n",
       "      <td>43797</td>\n",
       "      <td>802</td>\n",
       "      <td>23</td>\n",
       "      <td>2</td>\n",
       "      <td>6.10</td>\n",
       "      <td>0.13</td>\n",
       "      <td>High School</td>\n",
       "      <td>Full-time</td>\n",
       "      <td>Yes</td>\n",
       "      <td>Other</td>\n",
       "      <td>No</td>\n",
       "      <td>False</td>\n",
       "    </tr>\n",
       "    <tr>\n",
       "      <th>1</th>\n",
       "      <td>JDL5RH07AM</td>\n",
       "      <td>61</td>\n",
       "      <td>134312</td>\n",
       "      <td>18402</td>\n",
       "      <td>369</td>\n",
       "      <td>87</td>\n",
       "      <td>2</td>\n",
       "      <td>12.99</td>\n",
       "      <td>0.59</td>\n",
       "      <td>High School</td>\n",
       "      <td>Self-employed</td>\n",
       "      <td>No</td>\n",
       "      <td>Business</td>\n",
       "      <td>Yes</td>\n",
       "      <td>False</td>\n",
       "    </tr>\n",
       "    <tr>\n",
       "      <th>2</th>\n",
       "      <td>STAL716Y79</td>\n",
       "      <td>55</td>\n",
       "      <td>115809</td>\n",
       "      <td>151774</td>\n",
       "      <td>563</td>\n",
       "      <td>3</td>\n",
       "      <td>3</td>\n",
       "      <td>5.51</td>\n",
       "      <td>0.82</td>\n",
       "      <td>Bachelor's</td>\n",
       "      <td>Full-time</td>\n",
       "      <td>Yes</td>\n",
       "      <td>Other</td>\n",
       "      <td>Yes</td>\n",
       "      <td>True</td>\n",
       "    </tr>\n",
       "    <tr>\n",
       "      <th>3</th>\n",
       "      <td>SO0KKJ3IQB</td>\n",
       "      <td>58</td>\n",
       "      <td>94970</td>\n",
       "      <td>55789</td>\n",
       "      <td>337</td>\n",
       "      <td>24</td>\n",
       "      <td>1</td>\n",
       "      <td>23.93</td>\n",
       "      <td>0.77</td>\n",
       "      <td>Bachelor's</td>\n",
       "      <td>Unemployed</td>\n",
       "      <td>No</td>\n",
       "      <td>Business</td>\n",
       "      <td>No</td>\n",
       "      <td>False</td>\n",
       "    </tr>\n",
       "    <tr>\n",
       "      <th>4</th>\n",
       "      <td>T99CWTYDCP</td>\n",
       "      <td>63</td>\n",
       "      <td>71727</td>\n",
       "      <td>189798</td>\n",
       "      <td>451</td>\n",
       "      <td>52</td>\n",
       "      <td>3</td>\n",
       "      <td>22.05</td>\n",
       "      <td>0.44</td>\n",
       "      <td>PhD</td>\n",
       "      <td>Unemployed</td>\n",
       "      <td>Yes</td>\n",
       "      <td>Auto</td>\n",
       "      <td>No</td>\n",
       "      <td>False</td>\n",
       "    </tr>\n",
       "  </tbody>\n",
       "</table>\n",
       "</div>"
      ],
      "text/plain": [
       "       LoanID  Age  Income  LoanAmount  CreditScore  MonthsEmployed  \\\n",
       "0  7RYZGMKJIR   32  131645       43797          802              23   \n",
       "1  JDL5RH07AM   61  134312       18402          369              87   \n",
       "2  STAL716Y79   55  115809      151774          563               3   \n",
       "3  SO0KKJ3IQB   58   94970       55789          337              24   \n",
       "4  T99CWTYDCP   63   71727      189798          451              52   \n",
       "\n",
       "   NumCreditLines  InterestRate  DTIRatio    Education EmploymentType  \\\n",
       "0               2          6.10      0.13  High School      Full-time   \n",
       "1               2         12.99      0.59  High School  Self-employed   \n",
       "2               3          5.51      0.82   Bachelor's      Full-time   \n",
       "3               1         23.93      0.77   Bachelor's     Unemployed   \n",
       "4               3         22.05      0.44          PhD     Unemployed   \n",
       "\n",
       "  HasMortgage LoanPurpose HasCoSigner    Fam  \n",
       "0         Yes       Other          No  False  \n",
       "1          No    Business         Yes  False  \n",
       "2         Yes       Other         Yes   True  \n",
       "3          No    Business          No  False  \n",
       "4         Yes        Auto          No  False  "
      ]
     },
     "execution_count": 53,
     "metadata": {},
     "output_type": "execute_result"
    }
   ],
   "source": [
    "test_df = test_df.drop('LoanTerm', axis=1)\n",
    "test_df.head()"
   ]
  },
  {
   "cell_type": "code",
   "execution_count": 54,
   "metadata": {},
   "outputs": [
    {
     "data": {
      "text/html": [
       "<div>\n",
       "<style scoped>\n",
       "    .dataframe tbody tr th:only-of-type {\n",
       "        vertical-align: middle;\n",
       "    }\n",
       "\n",
       "    .dataframe tbody tr th {\n",
       "        vertical-align: top;\n",
       "    }\n",
       "\n",
       "    .dataframe thead th {\n",
       "        text-align: right;\n",
       "    }\n",
       "</style>\n",
       "<table border=\"1\" class=\"dataframe\">\n",
       "  <thead>\n",
       "    <tr style=\"text-align: right;\">\n",
       "      <th></th>\n",
       "      <th>LoanID</th>\n",
       "      <th>Age</th>\n",
       "      <th>Income</th>\n",
       "      <th>LoanAmount</th>\n",
       "      <th>CreditScore</th>\n",
       "      <th>MonthsEmployed</th>\n",
       "      <th>NumCreditLines</th>\n",
       "      <th>InterestRate</th>\n",
       "      <th>DTIRatio</th>\n",
       "      <th>Education</th>\n",
       "      <th>EmploymentType</th>\n",
       "      <th>HasMortgage</th>\n",
       "      <th>LoanPurpose</th>\n",
       "      <th>HasCoSigner</th>\n",
       "      <th>Default</th>\n",
       "      <th>Fam</th>\n",
       "    </tr>\n",
       "  </thead>\n",
       "  <tbody>\n",
       "    <tr>\n",
       "      <th>0</th>\n",
       "      <td>I38PQUQS96</td>\n",
       "      <td>56</td>\n",
       "      <td>85994</td>\n",
       "      <td>50587</td>\n",
       "      <td>520</td>\n",
       "      <td>80</td>\n",
       "      <td>4</td>\n",
       "      <td>15.23</td>\n",
       "      <td>0.44</td>\n",
       "      <td>Bachelor's</td>\n",
       "      <td>Full-time</td>\n",
       "      <td>Yes</td>\n",
       "      <td>Other</td>\n",
       "      <td>Yes</td>\n",
       "      <td>0</td>\n",
       "      <td>True</td>\n",
       "    </tr>\n",
       "    <tr>\n",
       "      <th>1</th>\n",
       "      <td>HPSK72WA7R</td>\n",
       "      <td>69</td>\n",
       "      <td>50432</td>\n",
       "      <td>124440</td>\n",
       "      <td>458</td>\n",
       "      <td>15</td>\n",
       "      <td>1</td>\n",
       "      <td>4.81</td>\n",
       "      <td>0.68</td>\n",
       "      <td>Master's</td>\n",
       "      <td>Full-time</td>\n",
       "      <td>No</td>\n",
       "      <td>Other</td>\n",
       "      <td>Yes</td>\n",
       "      <td>0</td>\n",
       "      <td>True</td>\n",
       "    </tr>\n",
       "    <tr>\n",
       "      <th>2</th>\n",
       "      <td>C1OZ6DPJ8Y</td>\n",
       "      <td>46</td>\n",
       "      <td>84208</td>\n",
       "      <td>129188</td>\n",
       "      <td>451</td>\n",
       "      <td>26</td>\n",
       "      <td>3</td>\n",
       "      <td>21.17</td>\n",
       "      <td>0.31</td>\n",
       "      <td>Master's</td>\n",
       "      <td>Unemployed</td>\n",
       "      <td>Yes</td>\n",
       "      <td>Auto</td>\n",
       "      <td>No</td>\n",
       "      <td>1</td>\n",
       "      <td>True</td>\n",
       "    </tr>\n",
       "    <tr>\n",
       "      <th>3</th>\n",
       "      <td>V2KKSFM3UN</td>\n",
       "      <td>32</td>\n",
       "      <td>31713</td>\n",
       "      <td>44799</td>\n",
       "      <td>743</td>\n",
       "      <td>0</td>\n",
       "      <td>3</td>\n",
       "      <td>7.07</td>\n",
       "      <td>0.23</td>\n",
       "      <td>High School</td>\n",
       "      <td>Full-time</td>\n",
       "      <td>No</td>\n",
       "      <td>Business</td>\n",
       "      <td>No</td>\n",
       "      <td>0</td>\n",
       "      <td>True</td>\n",
       "    </tr>\n",
       "    <tr>\n",
       "      <th>4</th>\n",
       "      <td>EY08JDHTZP</td>\n",
       "      <td>60</td>\n",
       "      <td>20437</td>\n",
       "      <td>9139</td>\n",
       "      <td>633</td>\n",
       "      <td>8</td>\n",
       "      <td>4</td>\n",
       "      <td>6.51</td>\n",
       "      <td>0.73</td>\n",
       "      <td>Bachelor's</td>\n",
       "      <td>Unemployed</td>\n",
       "      <td>No</td>\n",
       "      <td>Auto</td>\n",
       "      <td>No</td>\n",
       "      <td>0</td>\n",
       "      <td>True</td>\n",
       "    </tr>\n",
       "  </tbody>\n",
       "</table>\n",
       "</div>"
      ],
      "text/plain": [
       "       LoanID  Age  Income  LoanAmount  CreditScore  MonthsEmployed  \\\n",
       "0  I38PQUQS96   56   85994       50587          520              80   \n",
       "1  HPSK72WA7R   69   50432      124440          458              15   \n",
       "2  C1OZ6DPJ8Y   46   84208      129188          451              26   \n",
       "3  V2KKSFM3UN   32   31713       44799          743               0   \n",
       "4  EY08JDHTZP   60   20437        9139          633               8   \n",
       "\n",
       "   NumCreditLines  InterestRate  DTIRatio    Education EmploymentType  \\\n",
       "0               4         15.23      0.44   Bachelor's      Full-time   \n",
       "1               1          4.81      0.68     Master's      Full-time   \n",
       "2               3         21.17      0.31     Master's     Unemployed   \n",
       "3               3          7.07      0.23  High School      Full-time   \n",
       "4               4          6.51      0.73   Bachelor's     Unemployed   \n",
       "\n",
       "  HasMortgage LoanPurpose HasCoSigner  Default   Fam  \n",
       "0         Yes       Other         Yes        0  True  \n",
       "1          No       Other         Yes        0  True  \n",
       "2         Yes        Auto          No        1  True  \n",
       "3          No    Business          No        0  True  \n",
       "4          No        Auto          No        0  True  "
      ]
     },
     "execution_count": 54,
     "metadata": {},
     "output_type": "execute_result"
    }
   ],
   "source": [
    "train_df.head()"
   ]
  },
  {
   "cell_type": "code",
   "execution_count": 55,
   "metadata": {},
   "outputs": [
    {
     "data": {
      "text/html": [
       "<div>\n",
       "<style scoped>\n",
       "    .dataframe tbody tr th:only-of-type {\n",
       "        vertical-align: middle;\n",
       "    }\n",
       "\n",
       "    .dataframe tbody tr th {\n",
       "        vertical-align: top;\n",
       "    }\n",
       "\n",
       "    .dataframe thead th {\n",
       "        text-align: right;\n",
       "    }\n",
       "</style>\n",
       "<table border=\"1\" class=\"dataframe\">\n",
       "  <thead>\n",
       "    <tr style=\"text-align: right;\">\n",
       "      <th></th>\n",
       "      <th>Age</th>\n",
       "      <th>Income</th>\n",
       "      <th>LoanAmount</th>\n",
       "      <th>CreditScore</th>\n",
       "      <th>MonthsEmployed</th>\n",
       "      <th>InterestRate</th>\n",
       "      <th>Education</th>\n",
       "      <th>EmploymentType</th>\n",
       "      <th>HasMortgage</th>\n",
       "      <th>LoanPurpose</th>\n",
       "      <th>HasCoSigner</th>\n",
       "      <th>Fam</th>\n",
       "    </tr>\n",
       "  </thead>\n",
       "  <tbody>\n",
       "    <tr>\n",
       "      <th>0</th>\n",
       "      <td>56</td>\n",
       "      <td>85994</td>\n",
       "      <td>50587</td>\n",
       "      <td>520</td>\n",
       "      <td>80</td>\n",
       "      <td>15.23</td>\n",
       "      <td>Bachelor's</td>\n",
       "      <td>Full-time</td>\n",
       "      <td>Yes</td>\n",
       "      <td>Other</td>\n",
       "      <td>Yes</td>\n",
       "      <td>True</td>\n",
       "    </tr>\n",
       "    <tr>\n",
       "      <th>1</th>\n",
       "      <td>69</td>\n",
       "      <td>50432</td>\n",
       "      <td>124440</td>\n",
       "      <td>458</td>\n",
       "      <td>15</td>\n",
       "      <td>4.81</td>\n",
       "      <td>Master's</td>\n",
       "      <td>Full-time</td>\n",
       "      <td>No</td>\n",
       "      <td>Other</td>\n",
       "      <td>Yes</td>\n",
       "      <td>True</td>\n",
       "    </tr>\n",
       "    <tr>\n",
       "      <th>2</th>\n",
       "      <td>46</td>\n",
       "      <td>84208</td>\n",
       "      <td>129188</td>\n",
       "      <td>451</td>\n",
       "      <td>26</td>\n",
       "      <td>21.17</td>\n",
       "      <td>Master's</td>\n",
       "      <td>Unemployed</td>\n",
       "      <td>Yes</td>\n",
       "      <td>Auto</td>\n",
       "      <td>No</td>\n",
       "      <td>True</td>\n",
       "    </tr>\n",
       "    <tr>\n",
       "      <th>3</th>\n",
       "      <td>32</td>\n",
       "      <td>31713</td>\n",
       "      <td>44799</td>\n",
       "      <td>743</td>\n",
       "      <td>0</td>\n",
       "      <td>7.07</td>\n",
       "      <td>High School</td>\n",
       "      <td>Full-time</td>\n",
       "      <td>No</td>\n",
       "      <td>Business</td>\n",
       "      <td>No</td>\n",
       "      <td>True</td>\n",
       "    </tr>\n",
       "    <tr>\n",
       "      <th>4</th>\n",
       "      <td>60</td>\n",
       "      <td>20437</td>\n",
       "      <td>9139</td>\n",
       "      <td>633</td>\n",
       "      <td>8</td>\n",
       "      <td>6.51</td>\n",
       "      <td>Bachelor's</td>\n",
       "      <td>Unemployed</td>\n",
       "      <td>No</td>\n",
       "      <td>Auto</td>\n",
       "      <td>No</td>\n",
       "      <td>True</td>\n",
       "    </tr>\n",
       "  </tbody>\n",
       "</table>\n",
       "</div>"
      ],
      "text/plain": [
       "   Age  Income  LoanAmount  CreditScore  MonthsEmployed  InterestRate  \\\n",
       "0   56   85994       50587          520              80         15.23   \n",
       "1   69   50432      124440          458              15          4.81   \n",
       "2   46   84208      129188          451              26         21.17   \n",
       "3   32   31713       44799          743               0          7.07   \n",
       "4   60   20437        9139          633               8          6.51   \n",
       "\n",
       "     Education EmploymentType HasMortgage LoanPurpose HasCoSigner   Fam  \n",
       "0   Bachelor's      Full-time         Yes       Other         Yes  True  \n",
       "1     Master's      Full-time          No       Other         Yes  True  \n",
       "2     Master's     Unemployed         Yes        Auto          No  True  \n",
       "3  High School      Full-time          No    Business          No  True  \n",
       "4   Bachelor's     Unemployed          No        Auto          No  True  "
      ]
     },
     "execution_count": 55,
     "metadata": {},
     "output_type": "execute_result"
    }
   ],
   "source": [
    "y = train_df['Default']\n",
    "X = train_df.drop('Default', axis=1)\n",
    "X = X.drop('LoanID', axis=1)\n",
    "X = X.drop('NumCreditLines', axis=1)\n",
    "X = X.drop('DTIRatio', axis=1)\n",
    "X.head()"
   ]
  },
  {
   "cell_type": "code",
   "execution_count": 56,
   "metadata": {},
   "outputs": [
    {
     "data": {
      "text/html": [
       "<div>\n",
       "<style scoped>\n",
       "    .dataframe tbody tr th:only-of-type {\n",
       "        vertical-align: middle;\n",
       "    }\n",
       "\n",
       "    .dataframe tbody tr th {\n",
       "        vertical-align: top;\n",
       "    }\n",
       "\n",
       "    .dataframe thead th {\n",
       "        text-align: right;\n",
       "    }\n",
       "</style>\n",
       "<table border=\"1\" class=\"dataframe\">\n",
       "  <thead>\n",
       "    <tr style=\"text-align: right;\">\n",
       "      <th></th>\n",
       "      <th>Age</th>\n",
       "      <th>Income</th>\n",
       "      <th>LoanAmount</th>\n",
       "      <th>CreditScore</th>\n",
       "      <th>MonthsEmployed</th>\n",
       "      <th>InterestRate</th>\n",
       "      <th>Education</th>\n",
       "      <th>EmploymentType</th>\n",
       "      <th>HasMortgage</th>\n",
       "      <th>LoanPurpose</th>\n",
       "      <th>HasCoSigner</th>\n",
       "      <th>Fam</th>\n",
       "    </tr>\n",
       "  </thead>\n",
       "  <tbody>\n",
       "    <tr>\n",
       "      <th>0</th>\n",
       "      <td>56</td>\n",
       "      <td>85994</td>\n",
       "      <td>50587</td>\n",
       "      <td>520</td>\n",
       "      <td>80</td>\n",
       "      <td>15.23</td>\n",
       "      <td>1</td>\n",
       "      <td>3</td>\n",
       "      <td>1</td>\n",
       "      <td>3</td>\n",
       "      <td>1</td>\n",
       "      <td>1</td>\n",
       "    </tr>\n",
       "    <tr>\n",
       "      <th>1</th>\n",
       "      <td>69</td>\n",
       "      <td>50432</td>\n",
       "      <td>124440</td>\n",
       "      <td>458</td>\n",
       "      <td>15</td>\n",
       "      <td>4.81</td>\n",
       "      <td>2</td>\n",
       "      <td>3</td>\n",
       "      <td>0</td>\n",
       "      <td>3</td>\n",
       "      <td>1</td>\n",
       "      <td>1</td>\n",
       "    </tr>\n",
       "    <tr>\n",
       "      <th>2</th>\n",
       "      <td>46</td>\n",
       "      <td>84208</td>\n",
       "      <td>129188</td>\n",
       "      <td>451</td>\n",
       "      <td>26</td>\n",
       "      <td>21.17</td>\n",
       "      <td>2</td>\n",
       "      <td>0</td>\n",
       "      <td>1</td>\n",
       "      <td>1</td>\n",
       "      <td>0</td>\n",
       "      <td>1</td>\n",
       "    </tr>\n",
       "    <tr>\n",
       "      <th>3</th>\n",
       "      <td>32</td>\n",
       "      <td>31713</td>\n",
       "      <td>44799</td>\n",
       "      <td>743</td>\n",
       "      <td>0</td>\n",
       "      <td>7.07</td>\n",
       "      <td>0</td>\n",
       "      <td>3</td>\n",
       "      <td>0</td>\n",
       "      <td>0</td>\n",
       "      <td>0</td>\n",
       "      <td>1</td>\n",
       "    </tr>\n",
       "    <tr>\n",
       "      <th>4</th>\n",
       "      <td>60</td>\n",
       "      <td>20437</td>\n",
       "      <td>9139</td>\n",
       "      <td>633</td>\n",
       "      <td>8</td>\n",
       "      <td>6.51</td>\n",
       "      <td>1</td>\n",
       "      <td>0</td>\n",
       "      <td>0</td>\n",
       "      <td>1</td>\n",
       "      <td>0</td>\n",
       "      <td>1</td>\n",
       "    </tr>\n",
       "  </tbody>\n",
       "</table>\n",
       "</div>"
      ],
      "text/plain": [
       "   Age  Income  LoanAmount  CreditScore  MonthsEmployed  InterestRate  \\\n",
       "0   56   85994       50587          520              80         15.23   \n",
       "1   69   50432      124440          458              15          4.81   \n",
       "2   46   84208      129188          451              26         21.17   \n",
       "3   32   31713       44799          743               0          7.07   \n",
       "4   60   20437        9139          633               8          6.51   \n",
       "\n",
       "   Education  EmploymentType  HasMortgage  LoanPurpose  HasCoSigner  Fam  \n",
       "0          1               3            1            3            1    1  \n",
       "1          2               3            0            3            1    1  \n",
       "2          2               0            1            1            0    1  \n",
       "3          0               3            0            0            0    1  \n",
       "4          1               0            0            1            0    1  "
      ]
     },
     "execution_count": 56,
     "metadata": {},
     "output_type": "execute_result"
    }
   ],
   "source": [
    "# Transform categorical variables to numeric variables\n",
    "X['Education'] = X['Education'].map({\"High School\": 0, \"Bachelor's\": 1, \"Master's\": 2, \"PhD\": 3 }).astype(int)\n",
    "X['EmploymentType'] = X['EmploymentType'].map({'Unemployed': 0, 'Part-time': 1, 'Self-employed': 2, 'Full-time': 3}).astype(int)\n",
    "X['HasMortgage'] = X['HasMortgage'].map({'No': 0, 'Yes': 1}).astype(int)\n",
    "X['LoanPurpose'] = X['LoanPurpose'].map({'Business': 0, 'Auto': 1, 'Education': 2, 'Other': 3, 'Home': 4 }).astype(int)\n",
    "X['HasCoSigner'] = X['HasCoSigner'].map({'No': 0, 'Yes': 1}).astype(int)\n",
    "X[\"Fam\"] = X[\"Fam\"].astype(int)\n",
    "X.head()"
   ]
  },
  {
   "cell_type": "code",
   "execution_count": 57,
   "metadata": {},
   "outputs": [
    {
     "data": {
      "text/html": [
       "<div>\n",
       "<style scoped>\n",
       "    .dataframe tbody tr th:only-of-type {\n",
       "        vertical-align: middle;\n",
       "    }\n",
       "\n",
       "    .dataframe tbody tr th {\n",
       "        vertical-align: top;\n",
       "    }\n",
       "\n",
       "    .dataframe thead th {\n",
       "        text-align: right;\n",
       "    }\n",
       "</style>\n",
       "<table border=\"1\" class=\"dataframe\">\n",
       "  <thead>\n",
       "    <tr style=\"text-align: right;\">\n",
       "      <th></th>\n",
       "      <th>Age</th>\n",
       "      <th>Income</th>\n",
       "      <th>LoanAmount</th>\n",
       "      <th>CreditScore</th>\n",
       "      <th>MonthsEmployed</th>\n",
       "      <th>InterestRate</th>\n",
       "      <th>Education</th>\n",
       "      <th>EmploymentType</th>\n",
       "      <th>HasMortgage</th>\n",
       "      <th>LoanPurpose</th>\n",
       "      <th>HasCoSigner</th>\n",
       "      <th>Fam</th>\n",
       "    </tr>\n",
       "  </thead>\n",
       "  <tbody>\n",
       "    <tr>\n",
       "      <th>0</th>\n",
       "      <td>0.833990</td>\n",
       "      <td>0.089693</td>\n",
       "      <td>-1.086833</td>\n",
       "      <td>-0.341492</td>\n",
       "      <td>0.590533</td>\n",
       "      <td>0.261771</td>\n",
       "      <td>-0.444173</td>\n",
       "      <td>1.344137</td>\n",
       "      <td>0.999973</td>\n",
       "      <td>0.706012</td>\n",
       "      <td>0.999785</td>\n",
       "      <td>0.706642</td>\n",
       "    </tr>\n",
       "    <tr>\n",
       "      <th>1</th>\n",
       "      <td>1.701221</td>\n",
       "      <td>-0.823021</td>\n",
       "      <td>-0.044309</td>\n",
       "      <td>-0.731666</td>\n",
       "      <td>-1.285731</td>\n",
       "      <td>-1.308350</td>\n",
       "      <td>0.450914</td>\n",
       "      <td>1.344137</td>\n",
       "      <td>-1.000027</td>\n",
       "      <td>0.706012</td>\n",
       "      <td>0.999785</td>\n",
       "      <td>0.706642</td>\n",
       "    </tr>\n",
       "    <tr>\n",
       "      <th>2</th>\n",
       "      <td>0.166888</td>\n",
       "      <td>0.043854</td>\n",
       "      <td>0.022715</td>\n",
       "      <td>-0.775718</td>\n",
       "      <td>-0.968209</td>\n",
       "      <td>1.156831</td>\n",
       "      <td>0.450914</td>\n",
       "      <td>-1.340776</td>\n",
       "      <td>0.999973</td>\n",
       "      <td>-0.706267</td>\n",
       "      <td>-1.000215</td>\n",
       "      <td>0.706642</td>\n",
       "    </tr>\n",
       "    <tr>\n",
       "      <th>3</th>\n",
       "      <td>-0.767053</td>\n",
       "      <td>-1.303452</td>\n",
       "      <td>-1.168538</td>\n",
       "      <td>1.061875</td>\n",
       "      <td>-1.718715</td>\n",
       "      <td>-0.967805</td>\n",
       "      <td>-1.339261</td>\n",
       "      <td>1.344137</td>\n",
       "      <td>-1.000027</td>\n",
       "      <td>-1.412406</td>\n",
       "      <td>-1.000215</td>\n",
       "      <td>0.706642</td>\n",
       "    </tr>\n",
       "    <tr>\n",
       "      <th>4</th>\n",
       "      <td>1.100830</td>\n",
       "      <td>-1.592855</td>\n",
       "      <td>-1.671921</td>\n",
       "      <td>0.369631</td>\n",
       "      <td>-1.487790</td>\n",
       "      <td>-1.052188</td>\n",
       "      <td>-0.444173</td>\n",
       "      <td>-1.340776</td>\n",
       "      <td>-1.000027</td>\n",
       "      <td>-0.706267</td>\n",
       "      <td>-1.000215</td>\n",
       "      <td>0.706642</td>\n",
       "    </tr>\n",
       "  </tbody>\n",
       "</table>\n",
       "</div>"
      ],
      "text/plain": [
       "        Age    Income  LoanAmount  CreditScore  MonthsEmployed  InterestRate  \\\n",
       "0  0.833990  0.089693   -1.086833    -0.341492        0.590533      0.261771   \n",
       "1  1.701221 -0.823021   -0.044309    -0.731666       -1.285731     -1.308350   \n",
       "2  0.166888  0.043854    0.022715    -0.775718       -0.968209      1.156831   \n",
       "3 -0.767053 -1.303452   -1.168538     1.061875       -1.718715     -0.967805   \n",
       "4  1.100830 -1.592855   -1.671921     0.369631       -1.487790     -1.052188   \n",
       "\n",
       "   Education  EmploymentType  HasMortgage  LoanPurpose  HasCoSigner       Fam  \n",
       "0  -0.444173        1.344137     0.999973     0.706012     0.999785  0.706642  \n",
       "1   0.450914        1.344137    -1.000027     0.706012     0.999785  0.706642  \n",
       "2   0.450914       -1.340776     0.999973    -0.706267    -1.000215  0.706642  \n",
       "3  -1.339261        1.344137    -1.000027    -1.412406    -1.000215  0.706642  \n",
       "4  -0.444173       -1.340776    -1.000027    -0.706267    -1.000215  0.706642  "
      ]
     },
     "execution_count": 57,
     "metadata": {},
     "output_type": "execute_result"
    }
   ],
   "source": [
    "# We scale our data, it is essential for a smooth working of the models. Scaling means that each columns as a 0 mean and a 1 variance\n",
    "sc = StandardScaler()\n",
    "X = pd.DataFrame(sc.fit_transform(X.values), index=X.index, columns=X.columns)\n",
    "X.head()"
   ]
  },
  {
   "cell_type": "code",
   "execution_count": 76,
   "metadata": {},
   "outputs": [
    {
     "data": {
      "text/html": [
       "<div>\n",
       "<style scoped>\n",
       "    .dataframe tbody tr th:only-of-type {\n",
       "        vertical-align: middle;\n",
       "    }\n",
       "\n",
       "    .dataframe tbody tr th {\n",
       "        vertical-align: top;\n",
       "    }\n",
       "\n",
       "    .dataframe thead th {\n",
       "        text-align: right;\n",
       "    }\n",
       "</style>\n",
       "<table border=\"1\" class=\"dataframe\">\n",
       "  <thead>\n",
       "    <tr style=\"text-align: right;\">\n",
       "      <th></th>\n",
       "      <th>Age</th>\n",
       "      <th>Income</th>\n",
       "      <th>LoanAmount</th>\n",
       "      <th>CreditScore</th>\n",
       "      <th>MonthsEmployed</th>\n",
       "      <th>InterestRate</th>\n",
       "      <th>Education</th>\n",
       "      <th>EmploymentType</th>\n",
       "      <th>HasMortgage</th>\n",
       "      <th>LoanPurpose</th>\n",
       "      <th>HasCoSigner</th>\n",
       "      <th>Fam</th>\n",
       "    </tr>\n",
       "  </thead>\n",
       "  <tbody>\n",
       "    <tr>\n",
       "      <th>0</th>\n",
       "      <td>32</td>\n",
       "      <td>131645</td>\n",
       "      <td>43797</td>\n",
       "      <td>802</td>\n",
       "      <td>23</td>\n",
       "      <td>6.10</td>\n",
       "      <td>High School</td>\n",
       "      <td>Full-time</td>\n",
       "      <td>Yes</td>\n",
       "      <td>Other</td>\n",
       "      <td>No</td>\n",
       "      <td>False</td>\n",
       "    </tr>\n",
       "    <tr>\n",
       "      <th>1</th>\n",
       "      <td>61</td>\n",
       "      <td>134312</td>\n",
       "      <td>18402</td>\n",
       "      <td>369</td>\n",
       "      <td>87</td>\n",
       "      <td>12.99</td>\n",
       "      <td>High School</td>\n",
       "      <td>Self-employed</td>\n",
       "      <td>No</td>\n",
       "      <td>Business</td>\n",
       "      <td>Yes</td>\n",
       "      <td>False</td>\n",
       "    </tr>\n",
       "    <tr>\n",
       "      <th>2</th>\n",
       "      <td>55</td>\n",
       "      <td>115809</td>\n",
       "      <td>151774</td>\n",
       "      <td>563</td>\n",
       "      <td>3</td>\n",
       "      <td>5.51</td>\n",
       "      <td>Bachelor's</td>\n",
       "      <td>Full-time</td>\n",
       "      <td>Yes</td>\n",
       "      <td>Other</td>\n",
       "      <td>Yes</td>\n",
       "      <td>True</td>\n",
       "    </tr>\n",
       "    <tr>\n",
       "      <th>3</th>\n",
       "      <td>58</td>\n",
       "      <td>94970</td>\n",
       "      <td>55789</td>\n",
       "      <td>337</td>\n",
       "      <td>24</td>\n",
       "      <td>23.93</td>\n",
       "      <td>Bachelor's</td>\n",
       "      <td>Unemployed</td>\n",
       "      <td>No</td>\n",
       "      <td>Business</td>\n",
       "      <td>No</td>\n",
       "      <td>False</td>\n",
       "    </tr>\n",
       "    <tr>\n",
       "      <th>4</th>\n",
       "      <td>63</td>\n",
       "      <td>71727</td>\n",
       "      <td>189798</td>\n",
       "      <td>451</td>\n",
       "      <td>52</td>\n",
       "      <td>22.05</td>\n",
       "      <td>PhD</td>\n",
       "      <td>Unemployed</td>\n",
       "      <td>Yes</td>\n",
       "      <td>Auto</td>\n",
       "      <td>No</td>\n",
       "      <td>False</td>\n",
       "    </tr>\n",
       "  </tbody>\n",
       "</table>\n",
       "</div>"
      ],
      "text/plain": [
       "   Age  Income  LoanAmount  CreditScore  MonthsEmployed  InterestRate  \\\n",
       "0   32  131645       43797          802              23          6.10   \n",
       "1   61  134312       18402          369              87         12.99   \n",
       "2   55  115809      151774          563               3          5.51   \n",
       "3   58   94970       55789          337              24         23.93   \n",
       "4   63   71727      189798          451              52         22.05   \n",
       "\n",
       "     Education EmploymentType HasMortgage LoanPurpose HasCoSigner    Fam  \n",
       "0  High School      Full-time         Yes       Other          No  False  \n",
       "1  High School  Self-employed          No    Business         Yes  False  \n",
       "2   Bachelor's      Full-time         Yes       Other         Yes   True  \n",
       "3   Bachelor's     Unemployed          No    Business          No  False  \n",
       "4          PhD     Unemployed         Yes        Auto          No  False  "
      ]
     },
     "execution_count": 76,
     "metadata": {},
     "output_type": "execute_result"
    }
   ],
   "source": [
    "test_t=test_df\n",
    "test_t =test_t.drop('LoanID', axis=1)\n",
    "test_t = test_t.drop('NumCreditLines', axis=1)\n",
    "test_t = test_t.drop('DTIRatio', axis=1)\n",
    "test_t.head()"
   ]
  },
  {
   "cell_type": "code",
   "execution_count": 77,
   "metadata": {},
   "outputs": [
    {
     "data": {
      "text/html": [
       "<div>\n",
       "<style scoped>\n",
       "    .dataframe tbody tr th:only-of-type {\n",
       "        vertical-align: middle;\n",
       "    }\n",
       "\n",
       "    .dataframe tbody tr th {\n",
       "        vertical-align: top;\n",
       "    }\n",
       "\n",
       "    .dataframe thead th {\n",
       "        text-align: right;\n",
       "    }\n",
       "</style>\n",
       "<table border=\"1\" class=\"dataframe\">\n",
       "  <thead>\n",
       "    <tr style=\"text-align: right;\">\n",
       "      <th></th>\n",
       "      <th>Age</th>\n",
       "      <th>Income</th>\n",
       "      <th>LoanAmount</th>\n",
       "      <th>CreditScore</th>\n",
       "      <th>MonthsEmployed</th>\n",
       "      <th>InterestRate</th>\n",
       "      <th>Education</th>\n",
       "      <th>EmploymentType</th>\n",
       "      <th>HasMortgage</th>\n",
       "      <th>LoanPurpose</th>\n",
       "      <th>HasCoSigner</th>\n",
       "      <th>Fam</th>\n",
       "    </tr>\n",
       "  </thead>\n",
       "  <tbody>\n",
       "    <tr>\n",
       "      <th>0</th>\n",
       "      <td>32</td>\n",
       "      <td>131645</td>\n",
       "      <td>43797</td>\n",
       "      <td>802</td>\n",
       "      <td>23</td>\n",
       "      <td>6.10</td>\n",
       "      <td>0</td>\n",
       "      <td>3</td>\n",
       "      <td>1</td>\n",
       "      <td>3</td>\n",
       "      <td>0</td>\n",
       "      <td>0</td>\n",
       "    </tr>\n",
       "    <tr>\n",
       "      <th>1</th>\n",
       "      <td>61</td>\n",
       "      <td>134312</td>\n",
       "      <td>18402</td>\n",
       "      <td>369</td>\n",
       "      <td>87</td>\n",
       "      <td>12.99</td>\n",
       "      <td>0</td>\n",
       "      <td>2</td>\n",
       "      <td>0</td>\n",
       "      <td>0</td>\n",
       "      <td>1</td>\n",
       "      <td>0</td>\n",
       "    </tr>\n",
       "    <tr>\n",
       "      <th>2</th>\n",
       "      <td>55</td>\n",
       "      <td>115809</td>\n",
       "      <td>151774</td>\n",
       "      <td>563</td>\n",
       "      <td>3</td>\n",
       "      <td>5.51</td>\n",
       "      <td>1</td>\n",
       "      <td>3</td>\n",
       "      <td>1</td>\n",
       "      <td>3</td>\n",
       "      <td>1</td>\n",
       "      <td>1</td>\n",
       "    </tr>\n",
       "    <tr>\n",
       "      <th>3</th>\n",
       "      <td>58</td>\n",
       "      <td>94970</td>\n",
       "      <td>55789</td>\n",
       "      <td>337</td>\n",
       "      <td>24</td>\n",
       "      <td>23.93</td>\n",
       "      <td>1</td>\n",
       "      <td>0</td>\n",
       "      <td>0</td>\n",
       "      <td>0</td>\n",
       "      <td>0</td>\n",
       "      <td>0</td>\n",
       "    </tr>\n",
       "    <tr>\n",
       "      <th>4</th>\n",
       "      <td>63</td>\n",
       "      <td>71727</td>\n",
       "      <td>189798</td>\n",
       "      <td>451</td>\n",
       "      <td>52</td>\n",
       "      <td>22.05</td>\n",
       "      <td>3</td>\n",
       "      <td>0</td>\n",
       "      <td>1</td>\n",
       "      <td>1</td>\n",
       "      <td>0</td>\n",
       "      <td>0</td>\n",
       "    </tr>\n",
       "  </tbody>\n",
       "</table>\n",
       "</div>"
      ],
      "text/plain": [
       "   Age  Income  LoanAmount  CreditScore  MonthsEmployed  InterestRate  \\\n",
       "0   32  131645       43797          802              23          6.10   \n",
       "1   61  134312       18402          369              87         12.99   \n",
       "2   55  115809      151774          563               3          5.51   \n",
       "3   58   94970       55789          337              24         23.93   \n",
       "4   63   71727      189798          451              52         22.05   \n",
       "\n",
       "   Education  EmploymentType  HasMortgage  LoanPurpose  HasCoSigner  Fam  \n",
       "0          0               3            1            3            0    0  \n",
       "1          0               2            0            0            1    0  \n",
       "2          1               3            1            3            1    1  \n",
       "3          1               0            0            0            0    0  \n",
       "4          3               0            1            1            0    0  "
      ]
     },
     "execution_count": 77,
     "metadata": {},
     "output_type": "execute_result"
    }
   ],
   "source": [
    "test_t['Education'] = test_t['Education'].map({\"High School\": 0, \"Bachelor's\": 1, \"Master's\": 2, \"PhD\": 3 }).astype(int)\n",
    "test_t['EmploymentType'] = test_t['EmploymentType'].map({'Unemployed': 0, 'Part-time': 1, 'Self-employed': 2, 'Full-time': 3}).astype(int)\n",
    "test_t['HasMortgage'] = test_t['HasMortgage'].map({'No': 0, 'Yes': 1}).astype(int)\n",
    "test_t['LoanPurpose'] = test_t['LoanPurpose'].map({'Business': 0, 'Auto': 1, 'Education': 2, 'Other': 3, 'Home': 4 }).astype(int)\n",
    "test_t['HasCoSigner'] = test_t['HasCoSigner'].map({'No': 0, 'Yes': 1}).astype(int)\n",
    "test_t[\"Fam\"] = test_t[\"Fam\"].astype(int)\n",
    "test_t.head()"
   ]
  },
  {
   "cell_type": "code",
   "execution_count": 78,
   "metadata": {},
   "outputs": [
    {
     "data": {
      "text/html": [
       "<div>\n",
       "<style scoped>\n",
       "    .dataframe tbody tr th:only-of-type {\n",
       "        vertical-align: middle;\n",
       "    }\n",
       "\n",
       "    .dataframe tbody tr th {\n",
       "        vertical-align: top;\n",
       "    }\n",
       "\n",
       "    .dataframe thead th {\n",
       "        text-align: right;\n",
       "    }\n",
       "</style>\n",
       "<table border=\"1\" class=\"dataframe\">\n",
       "  <thead>\n",
       "    <tr style=\"text-align: right;\">\n",
       "      <th></th>\n",
       "      <th>Age</th>\n",
       "      <th>Income</th>\n",
       "      <th>LoanAmount</th>\n",
       "      <th>CreditScore</th>\n",
       "      <th>MonthsEmployed</th>\n",
       "      <th>InterestRate</th>\n",
       "      <th>Education</th>\n",
       "      <th>EmploymentType</th>\n",
       "      <th>HasMortgage</th>\n",
       "      <th>LoanPurpose</th>\n",
       "      <th>HasCoSigner</th>\n",
       "      <th>Fam</th>\n",
       "    </tr>\n",
       "  </thead>\n",
       "  <tbody>\n",
       "    <tr>\n",
       "      <th>0</th>\n",
       "      <td>-0.768287</td>\n",
       "      <td>1.261556</td>\n",
       "      <td>-1.183681</td>\n",
       "      <td>1.431578</td>\n",
       "      <td>-1.058712</td>\n",
       "      <td>-1.112663</td>\n",
       "      <td>-1.337656</td>\n",
       "      <td>1.336897</td>\n",
       "      <td>1.002479</td>\n",
       "      <td>0.710628</td>\n",
       "      <td>-1.001765</td>\n",
       "      <td>-1.409931</td>\n",
       "    </tr>\n",
       "    <tr>\n",
       "      <th>1</th>\n",
       "      <td>1.163005</td>\n",
       "      <td>1.330001</td>\n",
       "      <td>-1.542861</td>\n",
       "      <td>-1.295129</td>\n",
       "      <td>0.793787</td>\n",
       "      <td>-0.076152</td>\n",
       "      <td>-1.337656</td>\n",
       "      <td>0.443119</td>\n",
       "      <td>-0.997527</td>\n",
       "      <td>-1.408630</td>\n",
       "      <td>0.998238</td>\n",
       "      <td>-1.409931</td>\n",
       "    </tr>\n",
       "    <tr>\n",
       "      <th>2</th>\n",
       "      <td>0.763427</td>\n",
       "      <td>0.855149</td>\n",
       "      <td>0.343515</td>\n",
       "      <td>-0.073463</td>\n",
       "      <td>-1.637618</td>\n",
       "      <td>-1.201421</td>\n",
       "      <td>-0.440950</td>\n",
       "      <td>1.336897</td>\n",
       "      <td>1.002479</td>\n",
       "      <td>0.710628</td>\n",
       "      <td>0.998238</td>\n",
       "      <td>0.709255</td>\n",
       "    </tr>\n",
       "    <tr>\n",
       "      <th>3</th>\n",
       "      <td>0.963216</td>\n",
       "      <td>0.320347</td>\n",
       "      <td>-1.014070</td>\n",
       "      <td>-1.496641</td>\n",
       "      <td>-1.029767</td>\n",
       "      <td>1.569629</td>\n",
       "      <td>-0.440950</td>\n",
       "      <td>-1.344435</td>\n",
       "      <td>-0.997527</td>\n",
       "      <td>-1.408630</td>\n",
       "      <td>-1.001765</td>\n",
       "      <td>-1.409931</td>\n",
       "    </tr>\n",
       "    <tr>\n",
       "      <th>4</th>\n",
       "      <td>1.296197</td>\n",
       "      <td>-0.276149</td>\n",
       "      <td>0.881316</td>\n",
       "      <td>-0.778755</td>\n",
       "      <td>-0.219299</td>\n",
       "      <td>1.286807</td>\n",
       "      <td>1.352463</td>\n",
       "      <td>-1.344435</td>\n",
       "      <td>1.002479</td>\n",
       "      <td>-0.702211</td>\n",
       "      <td>-1.001765</td>\n",
       "      <td>-1.409931</td>\n",
       "    </tr>\n",
       "  </tbody>\n",
       "</table>\n",
       "</div>"
      ],
      "text/plain": [
       "        Age    Income  LoanAmount  CreditScore  MonthsEmployed  InterestRate  \\\n",
       "0 -0.768287  1.261556   -1.183681     1.431578       -1.058712     -1.112663   \n",
       "1  1.163005  1.330001   -1.542861    -1.295129        0.793787     -0.076152   \n",
       "2  0.763427  0.855149    0.343515    -0.073463       -1.637618     -1.201421   \n",
       "3  0.963216  0.320347   -1.014070    -1.496641       -1.029767      1.569629   \n",
       "4  1.296197 -0.276149    0.881316    -0.778755       -0.219299      1.286807   \n",
       "\n",
       "   Education  EmploymentType  HasMortgage  LoanPurpose  HasCoSigner       Fam  \n",
       "0  -1.337656        1.336897     1.002479     0.710628    -1.001765 -1.409931  \n",
       "1  -1.337656        0.443119    -0.997527    -1.408630     0.998238 -1.409931  \n",
       "2  -0.440950        1.336897     1.002479     0.710628     0.998238  0.709255  \n",
       "3  -0.440950       -1.344435    -0.997527    -1.408630    -1.001765 -1.409931  \n",
       "4   1.352463       -1.344435     1.002479    -0.702211    -1.001765 -1.409931  "
      ]
     },
     "execution_count": 78,
     "metadata": {},
     "output_type": "execute_result"
    }
   ],
   "source": [
    "sc = StandardScaler()\n",
    "test_t = pd.DataFrame(sc.fit_transform(test_t.values), index=test_t.index, columns=test_t.columns)\n",
    "test_t.head()"
   ]
  },
  {
   "cell_type": "markdown",
   "metadata": {},
   "source": [
    "## Make predictions (required)\n",
    "\n",
    "Remember you should create a dataframe named `prediction_df` with exactly 109,435 entries plus a header row attempting to predict the likelihood of borrowers to default on their loans in `test_df`. Your submission will throw an error if you have extra columns (beyond `LoanID` and `predicted_probaility`) or extra rows.\n",
    "\n",
    "The file should have exactly 2 columns:\n",
    "`LoanID` (sorted in any order)\n",
    "`predicted_probability` (contains your numeric predicted probabilities between 0 and 1, e.g. from `estimator.predict_proba(X, y)[:, 1]`)\n",
    "\n",
    "The naming convention of the dataframe and columns are critical for our autograding, so please make sure to use the exact naming conventions of `prediction_df` with column names `LoanID` and `predicted_probability`!"
   ]
  },
  {
   "cell_type": "markdown",
   "metadata": {},
   "source": [
    "### Example prediction submission:\n",
    "\n",
    "The code below is a very naive prediction method that simply predicts loan defaults using a Dummy Classifier. This is used as just an example showing the submission format required. Please change/alter/delete this code below and create your own improved prediction methods for generating `prediction_df`."
   ]
  },
  {
   "cell_type": "markdown",
   "metadata": {},
   "source": [
    "**PLEASE CHANGE CODE BELOW TO IMPLEMENT YOUR OWN PREDICTIONS**"
   ]
  },
  {
   "cell_type": "code",
   "execution_count": 58,
   "metadata": {},
   "outputs": [],
   "source": [
    "### PLEASE CHANGE THIS CODE TO IMPLEMENT YOUR OWN PREDICTIONS\n",
    "X_train, X_val, y_train, y_val = train_test_split(X, y, train_size = 0.8, random_state = RANDOM_STATE)"
   ]
  },
  {
   "cell_type": "markdown",
   "metadata": {},
   "source": [
    "# Trying classifiers"
   ]
  },
  {
   "cell_type": "markdown",
   "metadata": {},
   "source": [
    "## Logistic Reg"
   ]
  },
  {
   "cell_type": "code",
   "execution_count": 60,
   "metadata": {},
   "outputs": [
    {
     "data": {
      "text/plain": [
       "GridSearchCV(cv=5, error_score=nan,\n",
       "             estimator=LogisticRegression(C=1.0, class_weight=None, dual=False,\n",
       "                                          fit_intercept=True,\n",
       "                                          intercept_scaling=1, l1_ratio=None,\n",
       "                                          max_iter=100, multi_class='auto',\n",
       "                                          n_jobs=None, penalty='l2',\n",
       "                                          random_state=None, solver='lbfgs',\n",
       "                                          tol=0.0001, verbose=0,\n",
       "                                          warm_start=False),\n",
       "             iid='deprecated', n_jobs=None,\n",
       "             param_grid={'C': [1, 2, 3, 4, 5, 10, 15, 20],\n",
       "                         'max_iter': [100, 200],\n",
       "                         'penalty': ['l1', 'l2', 'elasticnet']},\n",
       "             pre_dispatch='2*n_jobs', refit=True, return_train_score=False,\n",
       "             scoring='accuracy', verbose=0)"
      ]
     },
     "execution_count": 60,
     "metadata": {},
     "output_type": "execute_result"
    }
   ],
   "source": [
    "from sklearn.linear_model import LogisticRegression\n",
    "from sklearn.model_selection import train_test_split, GridSearchCV\n",
    "\n",
    "lr = LogisticRegression()\n",
    "par = {'penalty':['l1','l2','elasticnet'], 'C':[1,2,3,4,5,10,15,20], 'max_iter':[100,200]}\n",
    "gcv = GridSearchCV(lr, param_grid = par, cv = 5, scoring = 'accuracy')\n",
    "gcv.fit(X_train, y_train)"
   ]
  },
  {
   "cell_type": "code",
   "execution_count": 61,
   "metadata": {},
   "outputs": [],
   "source": [
    "pred_lr = gcv.predict(X_val)\n",
    "score_lr = accuracy_score(y_val, pred_lr)"
   ]
  },
  {
   "cell_type": "code",
   "execution_count": 62,
   "metadata": {},
   "outputs": [
    {
     "data": {
      "text/plain": [
       "0.8853338554924614"
      ]
     },
     "execution_count": 62,
     "metadata": {},
     "output_type": "execute_result"
    }
   ],
   "source": [
    "score_lr"
   ]
  },
  {
   "cell_type": "markdown",
   "metadata": {},
   "source": [
    "## KN Classifier"
   ]
  },
  {
   "cell_type": "code",
   "execution_count": 92,
   "metadata": {},
   "outputs": [
    {
     "data": {
      "text/plain": [
       "0.8742706089680831"
      ]
     },
     "execution_count": 92,
     "metadata": {},
     "output_type": "execute_result"
    }
   ],
   "source": [
    "from sklearn.neighbors import KNeighborsClassifier\n",
    "kn = KNeighborsClassifier()\n",
    "kn.fit(X_train, y_train)\n",
    "pred_kn = kn.predict(X_val)\n",
    "score_kn = accuracy_score(y_val, pred_kn)\n",
    "score_kn"
   ]
  },
  {
   "cell_type": "code",
   "execution_count": 93,
   "metadata": {},
   "outputs": [
    {
     "data": {
      "text/plain": [
       "0.8835715684354807"
      ]
     },
     "execution_count": 93,
     "metadata": {},
     "output_type": "execute_result"
    }
   ],
   "source": [
    "kn_final = KNeighborsClassifier(n_neighbors=10)\n",
    "kn_final.fit(X_train, y_train)\n",
    "pred_kn_final = kn_final.predict(X_val)\n",
    "score_kn_final = accuracy_score(y_val, pred_kn_final)\n",
    "score_kn_final"
   ]
  },
  {
   "cell_type": "markdown",
   "metadata": {},
   "source": [
    "## Decicision Trees "
   ]
  },
  {
   "cell_type": "code",
   "execution_count": 94,
   "metadata": {},
   "outputs": [],
   "source": [
    "min_samples_split_list = [2,10, 30, 50, 100, 200, 300, 700] ## If the number is an integer, then it is the actual quantity of samples,\n",
    "max_depth_list = [1,2, 3, 4, 8, 16, 32, 64, None] # None means that there is no depth limit."
   ]
  },
  {
   "cell_type": "code",
   "execution_count": 95,
   "metadata": {},
   "outputs": [
    {
     "data": {
      "text/plain": [
       "<matplotlib.legend.Legend at 0x7f710c5af750>"
      ]
     },
     "execution_count": 95,
     "metadata": {},
     "output_type": "execute_result"
    },
    {
     "data": {
      "image/png": "[encoded data removed]",
      "text/plain": [
       "<Figure size 432x288 with 1 Axes>"
      ]
     },
     "metadata": {
      "needs_background": "light"
     },
     "output_type": "display_data"
    }
   ],
   "source": [
    "accuracy_list_train = []\n",
    "accuracy_list_val = []\n",
    "for min_samples_split in min_samples_split_list:\n",
    "    # You can fit the model at the same time you define it, because the fit function returns the fitted estimator.\n",
    "    model = DecisionTreeClassifier(min_samples_split = min_samples_split,\n",
    "                                   random_state = RANDOM_STATE).fit(X_train,y_train) \n",
    "    predictions_train = model.predict(X_train) ## The predicted values for the train dataset\n",
    "    predictions_val = model.predict(X_val) ## The predicted values for the test dataset\n",
    "    accuracy_train = accuracy_score(predictions_train,y_train)\n",
    "    accuracy_val = accuracy_score(predictions_val,y_val)\n",
    "    accuracy_list_train.append(accuracy_train)\n",
    "    accuracy_list_val.append(accuracy_val)\n",
    "\n",
    "plt.title('Train x Validation metrics')\n",
    "plt.xlabel('min_samples_split')\n",
    "plt.ylabel('accuracy')\n",
    "plt.xticks(ticks = range(len(min_samples_split_list )),labels=min_samples_split_list)\n",
    "plt.plot(accuracy_list_train)\n",
    "plt.plot(accuracy_list_val)\n",
    "plt.legend(['Train','Validation'])"
   ]
  },
  {
   "cell_type": "code",
   "execution_count": 96,
   "metadata": {},
   "outputs": [
    {
     "data": {
      "text/plain": [
       "<matplotlib.legend.Legend at 0x7f710c5af850>"
      ]
     },
     "execution_count": 96,
     "metadata": {},
     "output_type": "execute_result"
    },
    {
     "data": {
      "image/png": "[encoded data removed]",
      "text/plain": [
       "<Figure size 432x288 with 1 Axes>"
      ]
     },
     "metadata": {
      "needs_background": "light"
     },
     "output_type": "display_data"
    }
   ],
   "source": [
    "accuracy_list_train = []\n",
    "accuracy_list_val = []\n",
    "for max_depth in max_depth_list:\n",
    "    # You can fit the model at the same time you define it, because the fit function returns the fitted estimator.\n",
    "    model = DecisionTreeClassifier(max_depth = max_depth,\n",
    "                                   random_state = RANDOM_STATE).fit(X_train,y_train) \n",
    "    predictions_train = model.predict(X_train) ## The predicted values for the train dataset\n",
    "    predictions_val = model.predict(X_val) ## The predicted values for the test dataset\n",
    "    accuracy_train = accuracy_score(predictions_train,y_train)\n",
    "    accuracy_val = accuracy_score(predictions_val,y_val)\n",
    "    accuracy_list_train.append(accuracy_train)\n",
    "    accuracy_list_val.append(accuracy_val)\n",
    "\n",
    "plt.title('Train x Validation metrics')\n",
    "plt.xlabel('max_depth')\n",
    "plt.ylabel('accuracy')\n",
    "plt.xticks(ticks = range(len(max_depth_list )),labels=max_depth_list)\n",
    "plt.plot(accuracy_list_train)\n",
    "plt.plot(accuracy_list_val)\n",
    "plt.legend(['Train','Validation'])"
   ]
  },
  {
   "cell_type": "code",
   "execution_count": 97,
   "metadata": {},
   "outputs": [
    {
     "name": "stdout",
     "output_type": "stream",
     "text": [
      "Metrics train:\n",
      "\tAccuracy score: 0.8853\n",
      "Metrics validation:\n",
      "\tAccuracy score: 0.8853\n"
     ]
    }
   ],
   "source": [
    "decision_tree_model = DecisionTreeClassifier(min_samples_split = 700,\n",
    "                                             max_depth = 8,\n",
    "                                             random_state = RANDOM_STATE).fit(X_train,y_train)\n",
    "print(f\"Metrics train:\\n\\tAccuracy score: {accuracy_score(decision_tree_model.predict(X_train),y_train):.4f}\")\n",
    "print(f\"Metrics validation:\\n\\tAccuracy score: {accuracy_score(decision_tree_model.predict(X_val),y_val):.4f}\")"
   ]
  },
  {
   "cell_type": "markdown",
   "metadata": {},
   "source": [
    "## Random Forest"
   ]
  },
  {
   "cell_type": "code",
   "execution_count": 98,
   "metadata": {},
   "outputs": [],
   "source": [
    "min_samples_split_list = [2,10, 30, 50, 100, 200, 300, 700]  ## If the number is an integer, then it is the actual quantity of samples,\n",
    "                                             ## If it is a float, then it is the percentage of the dataset\n",
    "max_depth_list = [2, 4, 8, 16, 32, 64, None]\n",
    "n_estimators_list = [10,50,100,500]"
   ]
  },
  {
   "cell_type": "code",
   "execution_count": 99,
   "metadata": {},
   "outputs": [
    {
     "data": {
      "text/plain": [
       "<matplotlib.legend.Legend at 0x7f710c49bfd0>"
      ]
     },
     "execution_count": 99,
     "metadata": {},
     "output_type": "execute_result"
    },
    {
     "data": {
      "image/png": "[encoded data removed]",
      "text/plain": [
       "<Figure size 432x288 with 1 Axes>"
      ]
     },
     "metadata": {
      "needs_background": "light"
     },
     "output_type": "display_data"
    }
   ],
   "source": [
    "accuracy_list_train = []\n",
    "accuracy_list_val = []\n",
    "for min_samples_split in min_samples_split_list:\n",
    "    # You can fit the model at the same time you define it, because the fit function returns the fitted estimator.\n",
    "    model = RandomForestClassifier(min_samples_split = min_samples_split,\n",
    "                                   random_state = RANDOM_STATE).fit(X_train,y_train) \n",
    "    predictions_train = model.predict(X_train) ## The predicted values for the train dataset\n",
    "    predictions_val = model.predict(X_val) ## The predicted values for the test dataset\n",
    "    accuracy_train = accuracy_score(predictions_train,y_train)\n",
    "    accuracy_val = accuracy_score(predictions_val,y_val)\n",
    "    accuracy_list_train.append(accuracy_train)\n",
    "    accuracy_list_val.append(accuracy_val)\n",
    "\n",
    "plt.title('Train x Validation metrics')\n",
    "plt.xlabel('min_samples_split')\n",
    "plt.ylabel('accuracy')\n",
    "plt.xticks(ticks = range(len(min_samples_split_list )),labels=min_samples_split_list) \n",
    "plt.plot(accuracy_list_train)\n",
    "plt.plot(accuracy_list_val)\n",
    "plt.legend(['Train','Validation'])"
   ]
  },
  {
   "cell_type": "code",
   "execution_count": 100,
   "metadata": {},
   "outputs": [
    {
     "data": {
      "text/plain": [
       "<matplotlib.legend.Legend at 0x7f710c4a7050>"
      ]
     },
     "execution_count": 100,
     "metadata": {},
     "output_type": "execute_result"
    },
    {
     "data": {
      "image/png": "[encoded data removed]",
      "text/plain": [
       "<Figure size 432x288 with 1 Axes>"
      ]
     },
     "metadata": {
      "needs_background": "light"
     },
     "output_type": "display_data"
    }
   ],
   "source": [
    "accuracy_list_train = []\n",
    "accuracy_list_val = []\n",
    "for max_depth in max_depth_list:\n",
    "    # You can fit the model at the same time you define it, because the fit function returns the fitted estimator.\n",
    "    model = RandomForestClassifier(max_depth = max_depth,\n",
    "                                   random_state = RANDOM_STATE).fit(X_train,y_train) \n",
    "    predictions_train = model.predict(X_train) ## The predicted values for the train dataset\n",
    "    predictions_val = model.predict(X_val) ## The predicted values for the test dataset\n",
    "    accuracy_train = accuracy_score(predictions_train,y_train)\n",
    "    accuracy_val = accuracy_score(predictions_val,y_val)\n",
    "    accuracy_list_train.append(accuracy_train)\n",
    "    accuracy_list_val.append(accuracy_val)\n",
    "\n",
    "plt.title('Train x Validation metrics')\n",
    "plt.xlabel('max_depth')\n",
    "plt.ylabel('accuracy')\n",
    "plt.xticks(ticks = range(len(max_depth_list )),labels=max_depth_list)\n",
    "plt.plot(accuracy_list_train)\n",
    "plt.plot(accuracy_list_val)\n",
    "plt.legend(['Train','Validation'])"
   ]
  },
  {
   "cell_type": "code",
   "execution_count": 101,
   "metadata": {},
   "outputs": [
    {
     "data": {
      "text/plain": [
       "<matplotlib.legend.Legend at 0x7f710c420190>"
      ]
     },
     "execution_count": 101,
     "metadata": {},
     "output_type": "execute_result"
    },
    {
     "data": {
      "image/png": "[encoded data removed]",
      "text/plain": [
       "<Figure size 432x288 with 1 Axes>"
      ]
     },
     "metadata": {
      "needs_background": "light"
     },
     "output_type": "display_data"
    }
   ],
   "source": [
    "accuracy_list_train = []\n",
    "accuracy_list_val = []\n",
    "for n_estimators in n_estimators_list:\n",
    "    # You can fit the model at the same time you define it, because the fit function returns the fitted estimator.\n",
    "    model = RandomForestClassifier(n_estimators = n_estimators,\n",
    "                                   random_state = RANDOM_STATE).fit(X_train,y_train) \n",
    "    predictions_train = model.predict(X_train) ## The predicted values for the train dataset\n",
    "    predictions_val = model.predict(X_val) ## The predicted values for the test dataset\n",
    "    accuracy_train = accuracy_score(predictions_train,y_train)\n",
    "    accuracy_val = accuracy_score(predictions_val,y_val)\n",
    "    accuracy_list_train.append(accuracy_train)\n",
    "    accuracy_list_val.append(accuracy_val)\n",
    "\n",
    "plt.title('Train x Validation metrics')\n",
    "plt.xlabel('n_estimators')\n",
    "plt.ylabel('accuracy')\n",
    "plt.xticks(ticks = range(len(n_estimators_list )),labels=n_estimators_list)\n",
    "plt.plot(accuracy_list_train)\n",
    "plt.plot(accuracy_list_val)\n",
    "plt.legend(['Train','Validation'])"
   ]
  },
  {
   "cell_type": "code",
   "execution_count": 102,
   "metadata": {},
   "outputs": [
    {
     "name": "stdout",
     "output_type": "stream",
     "text": [
      "Metrics train:\n",
      "\tAccuracy score: 0.8857\n",
      "Metrics test:\n",
      "\tAccuracy score: 0.8855\n"
     ]
    }
   ],
   "source": [
    "random_forest_model = RandomForestClassifier(n_estimators = 500,\n",
    "                                             max_depth = 16, \n",
    "                                             min_samples_split = 200).fit(X_train,y_train)\n",
    "print(f\"Metrics train:\\n\\tAccuracy score: {accuracy_score(random_forest_model.predict(X_train),y_train):.4f}\\nMetrics test:\\n\\tAccuracy score: {accuracy_score(random_forest_model.predict(X_val),y_val):.4f}\")"
   ]
  },
  {
   "cell_type": "markdown",
   "metadata": {},
   "source": [
    "## XGBoost"
   ]
  },
  {
   "cell_type": "code",
   "execution_count": 103,
   "metadata": {},
   "outputs": [
    {
     "name": "stdout",
     "output_type": "stream",
     "text": [
      "[0]\tvalidation_0-logloss:0.63388\n",
      "[1]\tvalidation_0-logloss:0.58543\n",
      "[2]\tvalidation_0-logloss:0.54534\n",
      "[3]\tvalidation_0-logloss:0.51180\n",
      "[4]\tvalidation_0-logloss:0.48355\n",
      "[5]\tvalidation_0-logloss:0.45967\n",
      "[6]\tvalidation_0-logloss:0.43934\n",
      "[7]\tvalidation_0-logloss:0.42207\n",
      "[8]\tvalidation_0-logloss:0.40725\n",
      "[9]\tvalidation_0-logloss:0.39453\n",
      "[10]\tvalidation_0-logloss:0.38368\n",
      "[11]\tvalidation_0-logloss:0.37431\n",
      "[12]\tvalidation_0-logloss:0.36631\n",
      "[13]\tvalidation_0-logloss:0.35932\n",
      "[14]\tvalidation_0-logloss:0.35326\n",
      "[15]\tvalidation_0-logloss:0.34807\n",
      "[16]\tvalidation_0-logloss:0.34369\n",
      "[17]\tvalidation_0-logloss:0.33983\n",
      "[18]\tvalidation_0-logloss:0.33657\n",
      "[19]\tvalidation_0-logloss:0.33369\n",
      "[20]\tvalidation_0-logloss:0.33122\n",
      "[21]\tvalidation_0-logloss:0.32913\n",
      "[22]\tvalidation_0-logloss:0.32728\n",
      "[23]\tvalidation_0-logloss:0.32565\n",
      "[24]\tvalidation_0-logloss:0.32420\n",
      "[25]\tvalidation_0-logloss:0.32302\n",
      "[26]\tvalidation_0-logloss:0.32197\n",
      "[27]\tvalidation_0-logloss:0.32109\n",
      "[28]\tvalidation_0-logloss:0.32028\n",
      "[29]\tvalidation_0-logloss:0.31956\n",
      "[30]\tvalidation_0-logloss:0.31892\n",
      "[31]\tvalidation_0-logloss:0.31836\n",
      "[32]\tvalidation_0-logloss:0.31788\n",
      "[33]\tvalidation_0-logloss:0.31748\n",
      "[34]\tvalidation_0-logloss:0.31708\n",
      "[35]\tvalidation_0-logloss:0.31675\n",
      "[36]\tvalidation_0-logloss:0.31644\n",
      "[37]\tvalidation_0-logloss:0.31619\n",
      "[38]\tvalidation_0-logloss:0.31586\n",
      "[39]\tvalidation_0-logloss:0.31563\n",
      "[40]\tvalidation_0-logloss:0.31546\n",
      "[41]\tvalidation_0-logloss:0.31528\n",
      "[42]\tvalidation_0-logloss:0.31509\n",
      "[43]\tvalidation_0-logloss:0.31499\n",
      "[44]\tvalidation_0-logloss:0.31483\n",
      "[45]\tvalidation_0-logloss:0.31468\n",
      "[46]\tvalidation_0-logloss:0.31456\n",
      "[47]\tvalidation_0-logloss:0.31445\n",
      "[48]\tvalidation_0-logloss:0.31436\n",
      "[49]\tvalidation_0-logloss:0.31429\n",
      "[50]\tvalidation_0-logloss:0.31424\n",
      "[51]\tvalidation_0-logloss:0.31421\n",
      "[52]\tvalidation_0-logloss:0.31416\n",
      "[53]\tvalidation_0-logloss:0.31407\n",
      "[54]\tvalidation_0-logloss:0.31404\n",
      "[55]\tvalidation_0-logloss:0.31402\n",
      "[56]\tvalidation_0-logloss:0.31399\n",
      "[57]\tvalidation_0-logloss:0.31396\n",
      "[58]\tvalidation_0-logloss:0.31394\n",
      "[59]\tvalidation_0-logloss:0.31393\n",
      "[60]\tvalidation_0-logloss:0.31391\n",
      "[61]\tvalidation_0-logloss:0.31390\n",
      "[62]\tvalidation_0-logloss:0.31387\n",
      "[63]\tvalidation_0-logloss:0.31385\n",
      "[64]\tvalidation_0-logloss:0.31383\n",
      "[65]\tvalidation_0-logloss:0.31384\n",
      "[66]\tvalidation_0-logloss:0.31382\n",
      "[67]\tvalidation_0-logloss:0.31380\n",
      "[68]\tvalidation_0-logloss:0.31382\n",
      "[69]\tvalidation_0-logloss:0.31380\n",
      "[70]\tvalidation_0-logloss:0.31377\n",
      "[71]\tvalidation_0-logloss:0.31375\n",
      "[72]\tvalidation_0-logloss:0.31376\n",
      "[73]\tvalidation_0-logloss:0.31375\n",
      "[74]\tvalidation_0-logloss:0.31376\n",
      "[75]\tvalidation_0-logloss:0.31376\n",
      "[76]\tvalidation_0-logloss:0.31381\n",
      "[77]\tvalidation_0-logloss:0.31382\n",
      "[78]\tvalidation_0-logloss:0.31381\n",
      "[79]\tvalidation_0-logloss:0.31380\n",
      "[80]\tvalidation_0-logloss:0.31383\n",
      "[81]\tvalidation_0-logloss:0.31385\n",
      "[82]\tvalidation_0-logloss:0.31386\n"
     ]
    },
    {
     "data": {
      "text/plain": [
       "XGBClassifier(base_score=0.5, booster='gbtree', callbacks=None,\n",
       "              colsample_bylevel=1, colsample_bynode=1, colsample_bytree=1,\n",
       "              early_stopping_rounds=None, enable_categorical=False,\n",
       "              eval_metric=None, gamma=0, gpu_id=-1, grow_policy='depthwise',\n",
       "              importance_type=None, interaction_constraints='',\n",
       "              learning_rate=0.1, max_bin=256, max_cat_to_onehot=4,\n",
       "              max_delta_step=0, max_depth=6, max_leaves=0, min_child_weight=1,\n",
       "              missing=nan, monotone_constraints='()', n_estimators=500,\n",
       "              n_jobs=0, num_parallel_tree=1, objective='binary:logistic',\n",
       "              predictor='auto', random_state=55, reg_alpha=0, ...)"
      ]
     },
     "execution_count": 103,
     "metadata": {},
     "output_type": "execute_result"
    }
   ],
   "source": [
    "from xgboost import XGBClassifier\n",
    "xgb_model = XGBClassifier(n_estimators = 500, learning_rate = 0.1,verbosity = 1, random_state = RANDOM_STATE)\n",
    "xgb_model.fit(X_train,y_train, eval_set = [(X_val,y_val)], early_stopping_rounds = 10)"
   ]
  },
  {
   "cell_type": "code",
   "execution_count": 64,
   "metadata": {},
   "outputs": [
    {
     "data": {
      "text/plain": [
       "73"
      ]
     },
     "execution_count": 64,
     "metadata": {},
     "output_type": "execute_result"
    }
   ],
   "source": [
    "xgb_model.best_iteration"
   ]
  },
  {
   "cell_type": "code",
   "execution_count": 65,
   "metadata": {},
   "outputs": [
    {
     "name": "stdout",
     "output_type": "stream",
     "text": [
      "Metrics train:\n",
      "\tAccuracy score: 0.8886\n",
      "Metrics test:\n",
      "\tAccuracy score: 0.8868\n"
     ]
    }
   ],
   "source": [
    "print(f\"Metrics train:\\n\\tAccuracy score: {accuracy_score(xgb_model.predict(X_train),y_train):.4f}\\nMetrics test:\\n\\tAccuracy score: {accuracy_score(xgb_model.predict(X_val),y_val):.4f}\")"
   ]
  },
  {
   "cell_type": "markdown",
   "metadata": {},
   "source": [
    "## Neural Network"
   ]
  },
  {
   "cell_type": "code",
   "execution_count": 66,
   "metadata": {},
   "outputs": [],
   "source": [
    "from sklearn.model_selection import cross_val_predict, cross_val_score, cross_validate\n",
    "from sklearn.model_selection import StratifiedKFold, StratifiedShuffleSplit\n",
    "from sklearn.metrics import confusion_matrix, roc_curve\n",
    "from sklearn.metrics import precision_score, recall_score, f1_score\n",
    "\n",
    "import tensorflow as tf\n",
    "from tensorflow import keras\n",
    "from tensorflow.keras.wrappers.scikit_learn import KerasClassifier\n",
    "from tensorflow.keras.models import Sequential\n",
    "from tensorflow.keras.utils import plot_model\n",
    "from tensorflow.keras.layers import Input, Dense, Dropout, AlphaDropout, BatchNormalization,Concatenate, concatenate\n",
    "from tensorflow.keras.optimizers import SGD, RMSprop, Adamax, Adagrad, Adam, Nadam, SGD\n",
    "from tensorflow.keras.regularizers import l2\n",
    "from tensorflow.keras.callbacks import ReduceLROnPlateau, EarlyStopping\n",
    "from tensorflow.keras.metrics import *"
   ]
  },
  {
   "cell_type": "code",
   "execution_count": 67,
   "metadata": {},
   "outputs": [],
   "source": [
    "metrics = ['accuracy', \n",
    "           Precision(),\n",
    "           Recall()]"
   ]
  },
  {
   "cell_type": "code",
   "execution_count": 68,
   "metadata": {},
   "outputs": [],
   "source": [
    "def create_model():\n",
    "    model = Sequential()\n",
    "    model.add(Input(shape=X_train.shape[1], name='Input_'))\n",
    "    model.add(Dense(8, activation='relu', kernel_initializer='glorot_normal', kernel_regularizer=l2(0.001)))\n",
    "    model.add(Dense(16, activation='relu', kernel_initializer='glorot_normal', kernel_regularizer=l2(0.1)))\n",
    "    model.add(Dropout(0.5))\n",
    "    model.add(Dense(16, activation='relu', kernel_initializer='glorot_normal', kernel_regularizer=l2(0.1)))\n",
    "    model.add(Dropout(0.5))\n",
    "    model.add(Dense(1, activation='sigmoid', kernel_initializer='glorot_normal'))\n",
    "\n",
    "    model.summary()\n",
    "    optimize = Adam(lr = 0.0001)\n",
    "    model.compile(optimizer = optimize, \n",
    "                       loss = 'binary_crossentropy', \n",
    "                       metrics = metrics)\n",
    "    return model"
   ]
  },
  {
   "cell_type": "code",
   "execution_count": 69,
   "metadata": {},
   "outputs": [
    {
     "name": "stdout",
     "output_type": "stream",
     "text": [
      "Model: \"sequential\"\n",
      "_________________________________________________________________\n",
      "Layer (type)                 Output Shape              Param #   \n",
      "=================================================================\n",
      "dense (Dense)                (None, 8)                 104       \n",
      "_________________________________________________________________\n",
      "dense_1 (Dense)              (None, 16)                144       \n",
      "_________________________________________________________________\n",
      "dropout (Dropout)            (None, 16)                0         \n",
      "_________________________________________________________________\n",
      "dense_2 (Dense)              (None, 16)                272       \n",
      "_________________________________________________________________\n",
      "dropout_1 (Dropout)          (None, 16)                0         \n",
      "_________________________________________________________________\n",
      "dense_3 (Dense)              (None, 1)                 17        \n",
      "=================================================================\n",
      "Total params: 537\n",
      "Trainable params: 537\n",
      "Non-trainable params: 0\n",
      "_________________________________________________________________\n",
      "Train on 170231 samples\n",
      "Epoch 1/70\n",
      "170231/170231 [==============================] - 6s 37us/sample - loss: 1.3905 - accuracy: 0.7983 - precision: 0.1004 - recall: 0.0925\n",
      "Epoch 2/70\n",
      "170231/170231 [==============================] - 6s 35us/sample - loss: 0.3914 - accuracy: 0.8839 - precision: 0.0000e+00 - recall: 0.0000e+00\n",
      "Epoch 3/70\n",
      "170231/170231 [==============================] - 6s 34us/sample - loss: 0.3730 - accuracy: 0.8839 - precision: 0.0000e+00 - recall: 0.0000e+00\n",
      "Epoch 4/70\n",
      "170231/170231 [==============================] - 6s 34us/sample - loss: 0.3700 - accuracy: 0.8839 - precision: 0.0000e+00 - recall: 0.0000e+00\n",
      "Epoch 5/70\n",
      "170231/170231 [==============================] - 6s 34us/sample - loss: 0.3679 - accuracy: 0.8839 - precision: 0.0000e+00 - recall: 0.0000e+00\n",
      "Epoch 6/70\n",
      "170231/170231 [==============================] - 6s 33us/sample - loss: 0.3662 - accuracy: 0.8839 - precision: 0.0000e+00 - recall: 0.0000e+00\n",
      "Epoch 7/70\n",
      "170231/170231 [==============================] - 6s 34us/sample - loss: 0.3649 - accuracy: 0.8839 - precision: 0.0000e+00 - recall: 0.0000e+00\n",
      "Epoch 8/70\n",
      "170231/170231 [==============================] - 6s 33us/sample - loss: 0.3637 - accuracy: 0.8839 - precision: 0.0000e+00 - recall: 0.0000e+00\n",
      "Epoch 9/70\n",
      "170231/170231 [==============================] - 6s 34us/sample - loss: 0.3629 - accuracy: 0.8839 - precision: 0.0000e+00 - recall: 0.0000e+00\n",
      "Epoch 10/70\n",
      "170231/170231 [==============================] - 6s 34us/sample - loss: 0.3626 - accuracy: 0.8839 - precision: 0.0000e+00 - recall: 0.0000e+00\n",
      "Epoch 11/70\n",
      "170231/170231 [==============================] - 6s 33us/sample - loss: 0.3616 - accuracy: 0.8839 - precision: 0.0000e+00 - recall: 0.0000e+00\n",
      "Epoch 12/70\n",
      "170231/170231 [==============================] - 6s 34us/sample - loss: 0.3612 - accuracy: 0.8839 - precision: 0.0000e+00 - recall: 0.0000e+00\n",
      "Epoch 13/70\n",
      "170231/170231 [==============================] - 6s 34us/sample - loss: 0.3611 - accuracy: 0.8839 - precision: 0.0000e+00 - recall: 0.0000e+00\n",
      "Epoch 14/70\n",
      "170231/170231 [==============================] - 6s 33us/sample - loss: 0.3607 - accuracy: 0.8839 - precision: 0.0000e+00 - recall: 0.0000e+00\n",
      "Epoch 15/70\n",
      "170231/170231 [==============================] - 6s 34us/sample - loss: 0.3604 - accuracy: 0.8839 - precision: 0.0000e+00 - recall: 0.0000e+00\n",
      "Epoch 16/70\n",
      "170231/170231 [==============================] - 6s 33us/sample - loss: 0.3602 - accuracy: 0.8839 - precision: 0.0000e+00 - recall: 0.0000e+00\n",
      "Epoch 17/70\n",
      "170231/170231 [==============================] - 6s 33us/sample - loss: 0.3600 - accuracy: 0.8839 - precision: 0.0000e+00 - recall: 0.0000e+00\n",
      "Epoch 18/70\n",
      "170231/170231 [==============================] - 6s 33us/sample - loss: 0.3600 - accuracy: 0.8839 - precision: 0.0000e+00 - recall: 0.0000e+00\n",
      "Epoch 19/70\n",
      "170231/170231 [==============================] - 6s 33us/sample - loss: 0.3597 - accuracy: 0.8839 - precision: 0.0000e+00 - recall: 0.0000e+00\n",
      "Epoch 20/70\n",
      "170231/170231 [==============================] - 6s 33us/sample - loss: 0.3595 - accuracy: 0.8839 - precision: 0.0000e+00 - recall: 0.0000e+00\n",
      "Epoch 21/70\n",
      "170231/170231 [==============================] - 6s 34us/sample - loss: 0.3597 - accuracy: 0.8839 - precision: 0.0000e+00 - recall: 0.0000e+00\n",
      "Epoch 22/70\n",
      "170231/170231 [==============================] - 6s 33us/sample - loss: 0.3597 - accuracy: 0.8839 - precision: 0.0000e+00 - recall: 0.0000e+00\n",
      "Epoch 23/70\n",
      "170231/170231 [==============================] - 6s 33us/sample - loss: 0.3595 - accuracy: 0.8839 - precision: 0.0000e+00 - recall: 0.0000e+00\n",
      "Epoch 24/70\n",
      "170231/170231 [==============================] - 6s 33us/sample - loss: 0.3595 - accuracy: 0.8839 - precision: 0.0000e+00 - recall: 0.0000e+00\n",
      "Epoch 25/70\n",
      "170231/170231 [==============================] - 6s 33us/sample - loss: 0.3594 - accuracy: 0.8839 - precision: 0.0000e+00 - recall: 0.0000e+00\n",
      "Epoch 26/70\n",
      "170231/170231 [==============================] - 6s 34us/sample - loss: 0.3595 - accuracy: 0.8839 - precision: 0.0000e+00 - recall: 0.0000e+00\n",
      "Epoch 27/70\n",
      "170231/170231 [==============================] - 6s 34us/sample - loss: 0.3594 - accuracy: 0.8839 - precision: 0.0000e+00 - recall: 0.0000e+00\n",
      "Epoch 28/70\n",
      "170231/170231 [==============================] - 6s 34us/sample - loss: 0.3594 - accuracy: 0.8839 - precision: 0.0000e+00 - recall: 0.0000e+00\n",
      "Epoch 29/70\n",
      "170231/170231 [==============================] - 6s 33us/sample - loss: 0.3593 - accuracy: 0.8839 - precision: 0.0000e+00 - recall: 0.0000e+00\n",
      "Epoch 30/70\n",
      "170231/170231 [==============================] - 6s 34us/sample - loss: 0.3592 - accuracy: 0.8839 - precision: 0.0000e+00 - recall: 0.0000e+00\n",
      "Epoch 31/70\n",
      "170231/170231 [==============================] - 6s 34us/sample - loss: 0.3592 - accuracy: 0.8839 - precision: 0.0000e+00 - recall: 0.0000e+00\n",
      "Epoch 32/70\n",
      "170231/170231 [==============================] - 6s 33us/sample - loss: 0.3593 - accuracy: 0.8839 - precision: 0.0000e+00 - recall: 0.0000e+00\n",
      "Epoch 33/70\n",
      "170231/170231 [==============================] - 6s 34us/sample - loss: 0.3592 - accuracy: 0.8839 - precision: 0.0000e+00 - recall: 0.0000e+00\n",
      "Epoch 34/70\n",
      "170231/170231 [==============================] - 6s 34us/sample - loss: 0.3593 - accuracy: 0.8839 - precision: 0.0000e+00 - recall: 0.0000e+00\n",
      "Epoch 35/70\n",
      "170231/170231 [==============================] - 6s 34us/sample - loss: 0.3592 - accuracy: 0.8839 - precision: 0.0000e+00 - recall: 0.0000e+00\n",
      "Epoch 36/70\n",
      "170231/170231 [==============================] - 6s 34us/sample - loss: 0.3592 - accuracy: 0.8839 - precision: 0.0000e+00 - recall: 0.0000e+00\n",
      "Epoch 37/70\n",
      "170231/170231 [==============================] - 6s 34us/sample - loss: 0.3592 - accuracy: 0.8839 - precision: 0.0000e+00 - recall: 0.0000e+00\n",
      "Epoch 38/70\n",
      "170231/170231 [==============================] - 6s 33us/sample - loss: 0.3592 - accuracy: 0.8839 - precision: 0.0000e+00 - recall: 0.0000e+00\n",
      "Epoch 39/70\n",
      "170231/170231 [==============================] - 6s 33us/sample - loss: 0.3592 - accuracy: 0.8839 - precision: 0.0000e+00 - recall: 0.0000e+00\n",
      "Epoch 40/70\n",
      "170231/170231 [==============================] - 6s 33us/sample - loss: 0.3592 - accuracy: 0.8839 - precision: 0.0000e+00 - recall: 0.0000e+00\n",
      "Epoch 41/70\n",
      "170231/170231 [==============================] - 6s 33us/sample - loss: 0.3592 - accuracy: 0.8839 - precision: 0.0000e+00 - recall: 0.0000e+00\n",
      "Epoch 42/70\n",
      "170231/170231 [==============================] - 6s 34us/sample - loss: 0.3592 - accuracy: 0.8839 - precision: 0.0000e+00 - recall: 0.0000e+00\n",
      "Epoch 43/70\n",
      "170231/170231 [==============================] - 6s 34us/sample - loss: 0.3592 - accuracy: 0.8839 - precision: 0.0000e+00 - recall: 0.0000e+00\n",
      "Epoch 44/70\n",
      "170231/170231 [==============================] - 6s 34us/sample - loss: 0.3592 - accuracy: 0.8839 - precision: 0.0000e+00 - recall: 0.0000e+00\n",
      "Epoch 45/70\n",
      "170231/170231 [==============================] - 6s 35us/sample - loss: 0.3592 - accuracy: 0.8839 - precision: 0.0000e+00 - recall: 0.0000e+00\n",
      "Epoch 46/70\n",
      "170231/170231 [==============================] - 6s 35us/sample - loss: 0.3592 - accuracy: 0.8839 - precision: 0.0000e+00 - recall: 0.0000e+00\n",
      "Epoch 47/70\n",
      "170231/170231 [==============================] - 6s 36us/sample - loss: 0.3592 - accuracy: 0.8839 - precision: 0.0000e+00 - recall: 0.0000e+00\n",
      "Epoch 48/70\n",
      "170231/170231 [==============================] - 6s 35us/sample - loss: 0.3592 - accuracy: 0.8839 - precision: 0.0000e+00 - recall: 0.0000e+00\n",
      "Epoch 49/70\n",
      "170231/170231 [==============================] - 6s 35us/sample - loss: 0.3592 - accuracy: 0.8839 - precision: 0.0000e+00 - recall: 0.0000e+00\n",
      "Epoch 50/70\n",
      "170231/170231 [==============================] - 6s 35us/sample - loss: 0.3592 - accuracy: 0.8839 - precision: 0.0000e+00 - recall: 0.0000e+00\n",
      "Epoch 51/70\n",
      "170231/170231 [==============================] - 6s 35us/sample - loss: 0.3592 - accuracy: 0.8839 - precision: 0.0000e+00 - recall: 0.0000e+00\n",
      "Epoch 52/70\n",
      "170231/170231 [==============================] - 6s 35us/sample - loss: 0.3591 - accuracy: 0.8839 - precision: 0.0000e+00 - recall: 0.0000e+00\n",
      "Epoch 53/70\n",
      "170231/170231 [==============================] - 6s 35us/sample - loss: 0.3592 - accuracy: 0.8839 - precision: 0.0000e+00 - recall: 0.0000e+00\n",
      "Epoch 54/70\n",
      "170231/170231 [==============================] - 6s 36us/sample - loss: 0.3592 - accuracy: 0.8839 - precision: 0.0000e+00 - recall: 0.0000e+00\n",
      "Epoch 55/70\n",
      "170231/170231 [==============================] - 6s 35us/sample - loss: 0.3592 - accuracy: 0.8839 - precision: 0.0000e+00 - recall: 0.0000e+00\n",
      "Epoch 56/70\n",
      "170231/170231 [==============================] - 6s 35us/sample - loss: 0.3592 - accuracy: 0.8839 - precision: 0.0000e+00 - recall: 0.0000e+00\n",
      "Epoch 57/70\n",
      "170231/170231 [==============================] - 6s 35us/sample - loss: 0.3591 - accuracy: 0.8839 - precision: 0.0000e+00 - recall: 0.0000e+00\n",
      "Epoch 58/70\n",
      "170231/170231 [==============================] - 6s 35us/sample - loss: 0.3592 - accuracy: 0.8839 - precision: 0.0000e+00 - recall: 0.0000e+000s - loss: 0.3589 - accuracy: 0.8840 - precision: 0.0000e+00 - recall:\n",
      "Epoch 59/70\n",
      "170231/170231 [==============================] - 6s 35us/sample - loss: 0.3592 - accuracy: 0.8839 - precision: 0.0000e+00 - recall: 0.0000e+00\n",
      "Epoch 60/70\n",
      "170231/170231 [==============================] - 6s 36us/sample - loss: 0.3591 - accuracy: 0.8839 - precision: 0.0000e+00 - recall: 0.0000e+00\n",
      "Epoch 61/70\n",
      "170231/170231 [==============================] - 6s 35us/sample - loss: 0.3591 - accuracy: 0.8839 - precision: 0.0000e+00 - recall: 0.0000e+00\n",
      "Epoch 62/70\n",
      "170231/170231 [==============================] - 6s 35us/sample - loss: 0.3592 - accuracy: 0.8839 - precision: 0.0000e+00 - recall: 0.0000e+00\n",
      "Epoch 63/70\n",
      "170231/170231 [==============================] - 6s 35us/sample - loss: 0.3591 - accuracy: 0.8839 - precision: 0.0000e+00 - recall: 0.0000e+00\n",
      "Epoch 64/70\n",
      "170231/170231 [==============================] - 6s 35us/sample - loss: 0.3592 - accuracy: 0.8839 - precision: 0.0000e+00 - recall: 0.0000e+00\n",
      "Epoch 65/70\n",
      "170231/170231 [==============================] - 6s 35us/sample - loss: 0.3592 - accuracy: 0.8839 - precision: 0.0000e+00 - recall: 0.0000e+00\n",
      "Epoch 66/70\n",
      "170231/170231 [==============================] - 6s 35us/sample - loss: 0.3591 - accuracy: 0.8839 - precision: 0.0000e+00 - recall: 0.0000e+00\n",
      "Epoch 67/70\n",
      "170231/170231 [==============================] - 6s 35us/sample - loss: 0.3592 - accuracy: 0.8839 - precision: 0.0000e+00 - recall: 0.0000e+00\n",
      "Epoch 68/70\n",
      "170231/170231 [==============================] - 6s 35us/sample - loss: 0.3591 - accuracy: 0.8839 - precision: 0.0000e+00 - recall: 0.0000e+00\n",
      "Epoch 69/70\n",
      "170231/170231 [==============================] - 6s 35us/sample - loss: 0.3591 - accuracy: 0.8839 - precision: 0.0000e+00 - recall: 0.0000e+00\n",
      "Epoch 70/70\n",
      "170231/170231 [==============================] - 6s 35us/sample - loss: 0.3592 - accuracy: 0.8839 - precision: 0.0000e+00 - recall: 0.0000e+00\n",
      "85116/85116 [==============================] - 2s 24us/sample - loss: 0.3591 - accuracy: 0.8839 - precision: 0.0000e+00 - recall: 0.0000e+00\n",
      "Model: \"sequential_1\"\n",
      "_________________________________________________________________\n",
      "Layer (type)                 Output Shape              Param #   \n",
      "=================================================================\n",
      "dense_4 (Dense)              (None, 8)                 104       \n",
      "_________________________________________________________________\n",
      "dense_5 (Dense)              (None, 16)                144       \n",
      "_________________________________________________________________\n",
      "dropout_2 (Dropout)          (None, 16)                0         \n",
      "_________________________________________________________________\n",
      "dense_6 (Dense)              (None, 16)                272       \n",
      "_________________________________________________________________\n",
      "dropout_3 (Dropout)          (None, 16)                0         \n",
      "_________________________________________________________________\n",
      "dense_7 (Dense)              (None, 1)                 17        \n",
      "=================================================================\n",
      "Total params: 537\n",
      "Trainable params: 537\n",
      "Non-trainable params: 0\n",
      "_________________________________________________________________\n",
      "Train on 170231 samples\n",
      "Epoch 1/70\n",
      "170231/170231 [==============================] - 7s 40us/sample - loss: 1.3510 - accuracy: 0.8180 - precision: 0.1145 - recall: 0.0842\n",
      "Epoch 2/70\n",
      "170231/170231 [==============================] - 6s 35us/sample - loss: 0.4012 - accuracy: 0.8839 - precision: 0.0000e+00 - recall: 0.0000e+00\n",
      "Epoch 3/70\n",
      "170231/170231 [==============================] - 6s 35us/sample - loss: 0.3759 - accuracy: 0.8839 - precision: 0.0000e+00 - recall: 0.0000e+00\n",
      "Epoch 4/70\n",
      "170231/170231 [==============================] - 6s 35us/sample - loss: 0.3715 - accuracy: 0.8839 - precision: 0.0000e+00 - recall: 0.0000e+00\n",
      "Epoch 5/70\n",
      "170231/170231 [==============================] - 6s 35us/sample - loss: 0.3687 - accuracy: 0.8839 - precision: 0.0000e+00 - recall: 0.0000e+00\n",
      "Epoch 6/70\n",
      "170231/170231 [==============================] - 6s 35us/sample - loss: 0.3661 - accuracy: 0.8839 - precision: 0.0000e+00 - recall: 0.0000e+00\n",
      "Epoch 7/70\n",
      "170231/170231 [==============================] - 6s 35us/sample - loss: 0.3644 - accuracy: 0.8839 - precision: 0.0000e+00 - recall: 0.0000e+00\n",
      "Epoch 8/70\n",
      "170231/170231 [==============================] - 6s 35us/sample - loss: 0.3631 - accuracy: 0.8839 - precision: 0.0000e+00 - recall: 0.0000e+00\n",
      "Epoch 9/70\n",
      "170231/170231 [==============================] - 6s 35us/sample - loss: 0.3622 - accuracy: 0.8839 - precision: 0.0000e+00 - recall: 0.0000e+00\n",
      "Epoch 10/70\n",
      "170231/170231 [==============================] - 6s 35us/sample - loss: 0.3613 - accuracy: 0.8839 - precision: 0.0000e+00 - recall: 0.0000e+00\n",
      "Epoch 11/70\n",
      "170231/170231 [==============================] - 6s 35us/sample - loss: 0.3611 - accuracy: 0.8839 - precision: 0.0000e+00 - recall: 0.0000e+00\n",
      "Epoch 12/70\n",
      "170231/170231 [==============================] - 6s 35us/sample - loss: 0.3607 - accuracy: 0.8839 - precision: 0.0000e+00 - recall: 0.0000e+00\n",
      "Epoch 13/70\n",
      "170231/170231 [==============================] - 6s 35us/sample - loss: 0.3602 - accuracy: 0.8839 - precision: 0.0000e+00 - recall: 0.0000e+00\n",
      "Epoch 14/70\n",
      "170231/170231 [==============================] - 6s 36us/sample - loss: 0.3600 - accuracy: 0.8839 - precision: 0.0000e+00 - recall: 0.0000e+00\n",
      "Epoch 15/70\n",
      "170231/170231 [==============================] - 6s 35us/sample - loss: 0.3599 - accuracy: 0.8839 - precision: 0.0000e+00 - recall: 0.0000e+00\n",
      "Epoch 16/70\n",
      "170231/170231 [==============================] - 6s 35us/sample - loss: 0.3596 - accuracy: 0.8839 - precision: 0.0000e+00 - recall: 0.0000e+00\n",
      "Epoch 17/70\n",
      "170231/170231 [==============================] - 6s 35us/sample - loss: 0.3594 - accuracy: 0.8839 - precision: 0.0000e+00 - recall: 0.0000e+00\n",
      "Epoch 18/70\n",
      "170231/170231 [==============================] - 6s 35us/sample - loss: 0.3594 - accuracy: 0.8839 - precision: 0.0000e+00 - recall: 0.0000e+00\n",
      "Epoch 19/70\n",
      "170231/170231 [==============================] - 6s 35us/sample - loss: 0.3593 - accuracy: 0.8839 - precision: 0.0000e+00 - recall: 0.0000e+00\n",
      "Epoch 20/70\n",
      "170231/170231 [==============================] - 6s 35us/sample - loss: 0.3594 - accuracy: 0.8839 - precision: 0.0000e+00 - recall: 0.0000e+00\n",
      "Epoch 21/70\n",
      "170231/170231 [==============================] - 6s 35us/sample - loss: 0.3593 - accuracy: 0.8839 - precision: 0.0000e+00 - recall: 0.0000e+00\n",
      "Epoch 22/70\n",
      "170231/170231 [==============================] - 6s 36us/sample - loss: 0.3593 - accuracy: 0.8839 - precision: 0.0000e+00 - recall: 0.0000e+00\n",
      "Epoch 23/70\n",
      "170231/170231 [==============================] - 6s 35us/sample - loss: 0.3593 - accuracy: 0.8839 - precision: 0.0000e+00 - recall: 0.0000e+00\n",
      "Epoch 24/70\n",
      "170231/170231 [==============================] - 6s 35us/sample - loss: 0.3592 - accuracy: 0.8839 - precision: 0.0000e+00 - recall: 0.0000e+00\n",
      "Epoch 25/70\n",
      "170231/170231 [==============================] - 6s 35us/sample - loss: 0.3592 - accuracy: 0.8839 - precision: 0.0000e+00 - recall: 0.0000e+00\n",
      "Epoch 26/70\n",
      "170231/170231 [==============================] - 6s 35us/sample - loss: 0.3592 - accuracy: 0.8839 - precision: 0.0000e+00 - recall: 0.0000e+00\n",
      "Epoch 27/70\n",
      "170231/170231 [==============================] - 6s 35us/sample - loss: 0.3592 - accuracy: 0.8839 - precision: 0.0000e+00 - recall: 0.0000e+00\n",
      "Epoch 28/70\n",
      "170231/170231 [==============================] - 6s 35us/sample - loss: 0.3592 - accuracy: 0.8839 - precision: 0.0000e+00 - recall: 0.0000e+00\n",
      "Epoch 29/70\n",
      "170231/170231 [==============================] - 6s 35us/sample - loss: 0.3592 - accuracy: 0.8839 - precision: 0.0000e+00 - recall: 0.0000e+00\n",
      "Epoch 30/70\n",
      "170231/170231 [==============================] - 6s 35us/sample - loss: 0.3592 - accuracy: 0.8839 - precision: 0.0000e+00 - recall: 0.0000e+00\n",
      "Epoch 31/70\n",
      "170231/170231 [==============================] - 6s 35us/sample - loss: 0.3592 - accuracy: 0.8839 - precision: 0.0000e+00 - recall: 0.0000e+00\n",
      "Epoch 32/70\n",
      "170231/170231 [==============================] - 6s 35us/sample - loss: 0.3592 - accuracy: 0.8839 - precision: 0.0000e+00 - recall: 0.0000e+00\n",
      "Epoch 33/70\n",
      "170231/170231 [==============================] - 6s 35us/sample - loss: 0.3592 - accuracy: 0.8839 - precision: 0.0000e+00 - recall: 0.0000e+00\n",
      "Epoch 34/70\n",
      "170231/170231 [==============================] - 6s 36us/sample - loss: 0.3592 - accuracy: 0.8839 - precision: 0.0000e+00 - recall: 0.0000e+00\n",
      "Epoch 35/70\n",
      "170231/170231 [==============================] - 6s 37us/sample - loss: 0.3591 - accuracy: 0.8839 - precision: 0.0000e+00 - recall: 0.0000e+00\n",
      "Epoch 36/70\n",
      "170231/170231 [==============================] - 6s 36us/sample - loss: 0.3592 - accuracy: 0.8839 - precision: 0.0000e+00 - recall: 0.0000e+00\n",
      "Epoch 37/70\n",
      "170231/170231 [==============================] - 6s 36us/sample - loss: 0.3592 - accuracy: 0.8839 - precision: 0.0000e+00 - recall: 0.0000e+00\n",
      "Epoch 38/70\n",
      "170231/170231 [==============================] - 6s 35us/sample - loss: 0.3592 - accuracy: 0.8839 - precision: 0.0000e+00 - recall: 0.0000e+00\n",
      "Epoch 39/70\n",
      "170231/170231 [==============================] - 6s 35us/sample - loss: 0.3591 - accuracy: 0.8839 - precision: 0.0000e+00 - recall: 0.0000e+00\n",
      "Epoch 40/70\n",
      "170231/170231 [==============================] - 6s 35us/sample - loss: 0.3592 - accuracy: 0.8839 - precision: 0.0000e+00 - recall: 0.0000e+00\n",
      "Epoch 41/70\n",
      "170231/170231 [==============================] - 6s 35us/sample - loss: 0.3592 - accuracy: 0.8839 - precision: 0.0000e+00 - recall: 0.0000e+00\n",
      "Epoch 42/70\n",
      "170231/170231 [==============================] - 6s 35us/sample - loss: 0.3591 - accuracy: 0.8839 - precision: 0.0000e+00 - recall: 0.0000e+00\n",
      "Epoch 43/70\n",
      "170231/170231 [==============================] - 6s 35us/sample - loss: 0.3591 - accuracy: 0.8839 - precision: 0.0000e+00 - recall: 0.0000e+00\n",
      "Epoch 44/70\n",
      "170231/170231 [==============================] - 6s 36us/sample - loss: 0.3591 - accuracy: 0.8839 - precision: 0.0000e+00 - recall: 0.0000e+00\n",
      "Epoch 45/70\n",
      "170231/170231 [==============================] - 6s 35us/sample - loss: 0.3591 - accuracy: 0.8839 - precision: 0.0000e+00 - recall: 0.0000e+00\n",
      "Epoch 46/70\n",
      "170231/170231 [==============================] - 6s 35us/sample - loss: 0.3591 - accuracy: 0.8839 - precision: 0.0000e+00 - recall: 0.0000e+00\n",
      "Epoch 47/70\n",
      "170231/170231 [==============================] - 6s 35us/sample - loss: 0.3591 - accuracy: 0.8839 - precision: 0.0000e+00 - recall: 0.0000e+00\n",
      "Epoch 48/70\n",
      "170231/170231 [==============================] - 6s 35us/sample - loss: 0.3591 - accuracy: 0.8839 - precision: 0.0000e+00 - recall: 0.0000e+00\n",
      "Epoch 49/70\n",
      "170231/170231 [==============================] - 6s 35us/sample - loss: 0.3591 - accuracy: 0.8839 - precision: 0.0000e+00 - recall: 0.0000e+00\n",
      "Epoch 50/70\n",
      "170231/170231 [==============================] - 6s 35us/sample - loss: 0.3591 - accuracy: 0.8839 - precision: 0.0000e+00 - recall: 0.0000e+00\n",
      "Epoch 51/70\n",
      "170231/170231 [==============================] - 6s 34us/sample - loss: 0.3591 - accuracy: 0.8839 - precision: 0.0000e+00 - recall: 0.0000e+00\n",
      "Epoch 52/70\n",
      "170231/170231 [==============================] - 6s 35us/sample - loss: 0.3591 - accuracy: 0.8839 - precision: 0.0000e+00 - recall: 0.0000e+00\n",
      "Epoch 53/70\n",
      "170231/170231 [==============================] - 6s 34us/sample - loss: 0.3591 - accuracy: 0.8839 - precision: 0.0000e+00 - recall: 0.0000e+00\n",
      "Epoch 54/70\n",
      "170231/170231 [==============================] - 6s 35us/sample - loss: 0.3591 - accuracy: 0.8839 - precision: 0.0000e+00 - recall: 0.0000e+00\n",
      "Epoch 55/70\n",
      "170231/170231 [==============================] - 6s 33us/sample - loss: 0.3591 - accuracy: 0.8839 - precision: 0.0000e+00 - recall: 0.0000e+00\n",
      "Epoch 56/70\n",
      "170231/170231 [==============================] - 6s 33us/sample - loss: 0.3591 - accuracy: 0.8839 - precision: 0.0000e+00 - recall: 0.0000e+00\n",
      "Epoch 57/70\n",
      "170231/170231 [==============================] - 6s 34us/sample - loss: 0.3591 - accuracy: 0.8839 - precision: 0.0000e+00 - recall: 0.0000e+00\n",
      "Epoch 58/70\n",
      "170231/170231 [==============================] - 6s 33us/sample - loss: 0.3591 - accuracy: 0.8839 - precision: 0.0000e+00 - recall: 0.0000e+00\n",
      "Epoch 59/70\n",
      "170231/170231 [==============================] - 6s 34us/sample - loss: 0.3591 - accuracy: 0.8839 - precision: 0.0000e+00 - recall: 0.0000e+00\n",
      "Epoch 60/70\n",
      "170231/170231 [==============================] - 6s 35us/sample - loss: 0.3591 - accuracy: 0.8839 - precision: 0.0000e+00 - recall: 0.0000e+00\n",
      "Epoch 61/70\n",
      "170231/170231 [==============================] - 6s 36us/sample - loss: 0.3591 - accuracy: 0.8839 - precision: 0.0000e+00 - recall: 0.0000e+00\n",
      "Epoch 62/70\n",
      "170231/170231 [==============================] - 6s 35us/sample - loss: 0.3591 - accuracy: 0.8839 - precision: 0.0000e+00 - recall: 0.0000e+00\n",
      "Epoch 63/70\n",
      "170231/170231 [==============================] - 6s 35us/sample - loss: 0.3591 - accuracy: 0.8839 - precision: 0.0000e+00 - recall: 0.0000e+00\n",
      "Epoch 64/70\n",
      "170231/170231 [==============================] - 6s 35us/sample - loss: 0.3591 - accuracy: 0.8839 - precision: 0.0000e+00 - recall: 0.0000e+00\n",
      "Epoch 65/70\n",
      "170231/170231 [==============================] - 6s 35us/sample - loss: 0.3591 - accuracy: 0.8839 - precision: 0.0000e+00 - recall: 0.0000e+00\n",
      "Epoch 66/70\n",
      "170231/170231 [==============================] - 6s 35us/sample - loss: 0.3591 - accuracy: 0.8839 - precision: 0.0000e+00 - recall: 0.0000e+00\n",
      "Epoch 67/70\n",
      "170231/170231 [==============================] - 6s 36us/sample - loss: 0.3591 - accuracy: 0.8839 - precision: 0.0000e+00 - recall: 0.0000e+00\n",
      "Epoch 68/70\n",
      "170231/170231 [==============================] - 6s 37us/sample - loss: 0.3591 - accuracy: 0.8839 - precision: 0.0000e+00 - recall: 0.0000e+00\n",
      "Epoch 69/70\n",
      "170231/170231 [==============================] - 6s 36us/sample - loss: 0.3591 - accuracy: 0.8839 - precision: 0.0000e+00 - recall: 0.0000e+00\n",
      "Epoch 70/70\n",
      "170231/170231 [==============================] - 6s 36us/sample - loss: 0.3591 - accuracy: 0.8839 - precision: 0.0000e+00 - recall: 0.0000e+00\n",
      "85116/85116 [==============================] - 2s 24us/sample - loss: 0.3592 - accuracy: 0.8839 - precision: 0.0000e+00 - recall: 0.0000e+00\n",
      "Model: \"sequential_2\"\n",
      "_________________________________________________________________\n",
      "Layer (type)                 Output Shape              Param #   \n",
      "=================================================================\n",
      "dense_8 (Dense)              (None, 8)                 104       \n",
      "_________________________________________________________________\n",
      "dense_9 (Dense)              (None, 16)                144       \n",
      "_________________________________________________________________\n",
      "dropout_4 (Dropout)          (None, 16)                0         \n",
      "_________________________________________________________________\n",
      "dense_10 (Dense)             (None, 16)                272       \n",
      "_________________________________________________________________\n",
      "dropout_5 (Dropout)          (None, 16)                0         \n",
      "_________________________________________________________________\n",
      "dense_11 (Dense)             (None, 1)                 17        \n",
      "=================================================================\n",
      "Total params: 537\n",
      "Trainable params: 537\n",
      "Non-trainable params: 0\n",
      "_________________________________________________________________\n",
      "Train on 170232 samples\n",
      "Epoch 1/70\n",
      "170232/170232 [==============================] - 7s 39us/sample - loss: 1.1582 - accuracy: 0.8467 - precision: 0.1137 - recall: 0.0471\n",
      "Epoch 2/70\n",
      "170232/170232 [==============================] - 6s 35us/sample - loss: 0.3854 - accuracy: 0.8839 - precision: 0.0000e+00 - recall: 0.0000e+00\n",
      "Epoch 3/70\n",
      "170232/170232 [==============================] - 6s 35us/sample - loss: 0.3719 - accuracy: 0.8839 - precision: 0.0000e+00 - recall: 0.0000e+00\n",
      "Epoch 4/70\n",
      "170232/170232 [==============================] - 6s 35us/sample - loss: 0.3695 - accuracy: 0.8839 - precision: 0.0000e+00 - recall: 0.0000e+00\n",
      "Epoch 5/70\n",
      "170232/170232 [==============================] - 6s 35us/sample - loss: 0.3680 - accuracy: 0.8839 - precision: 0.0000e+00 - recall: 0.0000e+00\n",
      "Epoch 6/70\n",
      "170232/170232 [==============================] - 6s 35us/sample - loss: 0.3663 - accuracy: 0.8839 - precision: 0.0000e+00 - recall: 0.0000e+00\n",
      "Epoch 7/70\n",
      "170232/170232 [==============================] - 6s 35us/sample - loss: 0.3651 - accuracy: 0.8839 - precision: 0.0000e+00 - recall: 0.0000e+00\n",
      "Epoch 8/70\n",
      "170232/170232 [==============================] - 6s 35us/sample - loss: 0.3638 - accuracy: 0.8839 - precision: 0.0000e+00 - recall: 0.0000e+00\n",
      "Epoch 9/70\n",
      "170232/170232 [==============================] - 6s 35us/sample - loss: 0.3633 - accuracy: 0.8839 - precision: 0.0000e+00 - recall: 0.0000e+00\n",
      "Epoch 10/70\n",
      "170232/170232 [==============================] - 6s 35us/sample - loss: 0.3627 - accuracy: 0.8839 - precision: 0.0000e+00 - recall: 0.0000e+00\n",
      "Epoch 11/70\n",
      "170232/170232 [==============================] - 6s 35us/sample - loss: 0.3620 - accuracy: 0.8839 - precision: 0.0000e+00 - recall: 0.0000e+00\n",
      "Epoch 12/70\n",
      "170232/170232 [==============================] - 6s 35us/sample - loss: 0.3616 - accuracy: 0.8839 - precision: 0.0000e+00 - recall: 0.0000e+00\n",
      "Epoch 13/70\n",
      "170232/170232 [==============================] - 6s 36us/sample - loss: 0.3612 - accuracy: 0.8839 - precision: 0.0000e+00 - recall: 0.0000e+00\n",
      "Epoch 14/70\n",
      "170232/170232 [==============================] - 6s 36us/sample - loss: 0.3611 - accuracy: 0.8839 - precision: 0.0000e+00 - recall: 0.0000e+00\n",
      "Epoch 15/70\n",
      "170232/170232 [==============================] - 6s 36us/sample - loss: 0.3606 - accuracy: 0.8839 - precision: 0.0000e+00 - recall: 0.0000e+00\n",
      "Epoch 16/70\n",
      "170232/170232 [==============================] - 6s 35us/sample - loss: 0.3604 - accuracy: 0.8839 - precision: 0.0000e+00 - recall: 0.0000e+00\n",
      "Epoch 17/70\n",
      "170232/170232 [==============================] - 6s 36us/sample - loss: 0.3602 - accuracy: 0.8839 - precision: 0.0000e+00 - recall: 0.0000e+00\n",
      "Epoch 18/70\n",
      "170232/170232 [==============================] - 6s 35us/sample - loss: 0.3600 - accuracy: 0.8839 - precision: 0.0000e+00 - recall: 0.0000e+00\n",
      "Epoch 19/70\n",
      "170232/170232 [==============================] - 6s 36us/sample - loss: 0.3600 - accuracy: 0.8839 - precision: 0.0000e+00 - recall: 0.0000e+00\n",
      "Epoch 20/70\n",
      "170232/170232 [==============================] - 6s 35us/sample - loss: 0.3599 - accuracy: 0.8839 - precision: 0.0000e+00 - recall: 0.0000e+00\n",
      "Epoch 21/70\n",
      "170232/170232 [==============================] - 6s 35us/sample - loss: 0.3597 - accuracy: 0.8839 - precision: 0.0000e+00 - recall: 0.0000e+00\n",
      "Epoch 22/70\n",
      "170232/170232 [==============================] - 6s 35us/sample - loss: 0.3597 - accuracy: 0.8839 - precision: 0.0000e+00 - recall: 0.0000e+00\n",
      "Epoch 23/70\n",
      "170232/170232 [==============================] - 6s 35us/sample - loss: 0.3595 - accuracy: 0.8839 - precision: 0.0000e+00 - recall: 0.0000e+00\n",
      "Epoch 24/70\n",
      "170232/170232 [==============================] - 6s 36us/sample - loss: 0.3595 - accuracy: 0.8839 - precision: 0.0000e+00 - recall: 0.0000e+00\n",
      "Epoch 25/70\n",
      "170232/170232 [==============================] - 6s 35us/sample - loss: 0.3594 - accuracy: 0.8839 - precision: 0.0000e+00 - recall: 0.0000e+00\n",
      "Epoch 26/70\n",
      "170232/170232 [==============================] - 6s 36us/sample - loss: 0.3594 - accuracy: 0.8839 - precision: 0.0000e+00 - recall: 0.0000e+00\n",
      "Epoch 27/70\n",
      "170232/170232 [==============================] - 6s 35us/sample - loss: 0.3594 - accuracy: 0.8839 - precision: 0.0000e+00 - recall: 0.0000e+00\n",
      "Epoch 28/70\n",
      "170232/170232 [==============================] - 6s 35us/sample - loss: 0.3594 - accuracy: 0.8839 - precision: 0.0000e+00 - recall: 0.0000e+00\n",
      "Epoch 29/70\n",
      "170232/170232 [==============================] - 6s 36us/sample - loss: 0.3594 - accuracy: 0.8839 - precision: 0.0000e+00 - recall: 0.0000e+00\n",
      "Epoch 30/70\n",
      "170232/170232 [==============================] - 6s 36us/sample - loss: 0.3594 - accuracy: 0.8839 - precision: 0.0000e+00 - recall: 0.0000e+00\n",
      "Epoch 31/70\n",
      "170232/170232 [==============================] - 6s 35us/sample - loss: 0.3593 - accuracy: 0.8839 - precision: 0.0000e+00 - recall: 0.0000e+00\n",
      "Epoch 32/70\n",
      "170232/170232 [==============================] - 6s 35us/sample - loss: 0.3593 - accuracy: 0.8839 - precision: 0.0000e+00 - recall: 0.0000e+00\n",
      "Epoch 33/70\n",
      "170232/170232 [==============================] - 6s 35us/sample - loss: 0.3593 - accuracy: 0.8839 - precision: 0.0000e+00 - recall: 0.0000e+00\n",
      "Epoch 34/70\n",
      "170232/170232 [==============================] - 6s 35us/sample - loss: 0.3592 - accuracy: 0.8839 - precision: 0.0000e+00 - recall: 0.0000e+00\n",
      "Epoch 35/70\n",
      "170232/170232 [==============================] - 6s 35us/sample - loss: 0.3592 - accuracy: 0.8839 - precision: 0.0000e+00 - recall: 0.0000e+00\n",
      "Epoch 36/70\n",
      "170232/170232 [==============================] - 6s 35us/sample - loss: 0.3592 - accuracy: 0.8839 - precision: 0.0000e+00 - recall: 0.0000e+00\n",
      "Epoch 37/70\n",
      "170232/170232 [==============================] - 6s 35us/sample - loss: 0.3592 - accuracy: 0.8839 - precision: 0.0000e+00 - recall: 0.0000e+00\n",
      "Epoch 38/70\n",
      "170232/170232 [==============================] - 6s 35us/sample - loss: 0.3592 - accuracy: 0.8839 - precision: 0.0000e+00 - recall: 0.0000e+00\n",
      "Epoch 39/70\n",
      "170232/170232 [==============================] - 6s 35us/sample - loss: 0.3592 - accuracy: 0.8839 - precision: 0.0000e+00 - recall: 0.0000e+00\n",
      "Epoch 40/70\n",
      "170232/170232 [==============================] - 6s 35us/sample - loss: 0.3592 - accuracy: 0.8839 - precision: 0.0000e+00 - recall: 0.0000e+00\n",
      "Epoch 41/70\n",
      "170232/170232 [==============================] - 6s 35us/sample - loss: 0.3592 - accuracy: 0.8839 - precision: 0.0000e+00 - recall: 0.0000e+00\n",
      "Epoch 42/70\n",
      "170232/170232 [==============================] - 6s 35us/sample - loss: 0.3592 - accuracy: 0.8839 - precision: 0.0000e+00 - recall: 0.0000e+00\n",
      "Epoch 43/70\n",
      "170232/170232 [==============================] - 6s 36us/sample - loss: 0.3592 - accuracy: 0.8839 - precision: 0.0000e+00 - recall: 0.0000e+00\n",
      "Epoch 44/70\n",
      "170232/170232 [==============================] - 6s 36us/sample - loss: 0.3592 - accuracy: 0.8839 - precision: 0.0000e+00 - recall: 0.0000e+00\n",
      "Epoch 45/70\n",
      "170232/170232 [==============================] - 6s 35us/sample - loss: 0.3592 - accuracy: 0.8839 - precision: 0.0000e+00 - recall: 0.0000e+00\n",
      "Epoch 46/70\n",
      "170232/170232 [==============================] - 6s 36us/sample - loss: 0.3592 - accuracy: 0.8839 - precision: 0.0000e+00 - recall: 0.0000e+00\n",
      "Epoch 47/70\n",
      "170232/170232 [==============================] - 6s 35us/sample - loss: 0.3592 - accuracy: 0.8839 - precision: 0.0000e+00 - recall: 0.0000e+00\n",
      "Epoch 48/70\n",
      "170232/170232 [==============================] - 6s 35us/sample - loss: 0.3592 - accuracy: 0.8839 - precision: 0.0000e+00 - recall: 0.0000e+00\n",
      "Epoch 49/70\n",
      "170232/170232 [==============================] - 6s 36us/sample - loss: 0.3592 - accuracy: 0.8839 - precision: 0.0000e+00 - recall: 0.0000e+00\n",
      "Epoch 50/70\n",
      "170232/170232 [==============================] - 6s 35us/sample - loss: 0.3591 - accuracy: 0.8839 - precision: 0.0000e+00 - recall: 0.0000e+00\n",
      "Epoch 51/70\n",
      "170232/170232 [==============================] - 6s 36us/sample - loss: 0.3592 - accuracy: 0.8839 - precision: 0.0000e+00 - recall: 0.0000e+00\n",
      "Epoch 52/70\n",
      "170232/170232 [==============================] - 6s 35us/sample - loss: 0.3592 - accuracy: 0.8839 - precision: 0.0000e+00 - recall: 0.0000e+00\n",
      "Epoch 53/70\n",
      "170232/170232 [==============================] - 6s 35us/sample - loss: 0.3592 - accuracy: 0.8839 - precision: 0.0000e+00 - recall: 0.0000e+00\n",
      "Epoch 54/70\n",
      "170232/170232 [==============================] - 6s 35us/sample - loss: 0.3592 - accuracy: 0.8839 - precision: 0.0000e+00 - recall: 0.0000e+00\n",
      "Epoch 55/70\n",
      "170232/170232 [==============================] - 6s 36us/sample - loss: 0.3591 - accuracy: 0.8839 - precision: 0.0000e+00 - recall: 0.0000e+00\n",
      "Epoch 56/70\n",
      "170232/170232 [==============================] - 6s 35us/sample - loss: 0.3592 - accuracy: 0.8839 - precision: 0.0000e+00 - recall: 0.0000e+00\n",
      "Epoch 57/70\n",
      "170232/170232 [==============================] - 6s 35us/sample - loss: 0.3591 - accuracy: 0.8839 - precision: 0.0000e+00 - recall: 0.0000e+00\n",
      "Epoch 58/70\n",
      "170232/170232 [==============================] - 6s 35us/sample - loss: 0.3591 - accuracy: 0.8839 - precision: 0.0000e+00 - recall: 0.0000e+00\n",
      "Epoch 59/70\n",
      "170232/170232 [==============================] - 6s 35us/sample - loss: 0.3591 - accuracy: 0.8839 - precision: 0.0000e+00 - recall: 0.0000e+00\n",
      "Epoch 60/70\n",
      "170232/170232 [==============================] - 6s 35us/sample - loss: 0.3591 - accuracy: 0.8839 - precision: 0.0000e+00 - recall: 0.0000e+00\n",
      "Epoch 61/70\n",
      "170232/170232 [==============================] - 6s 35us/sample - loss: 0.3592 - accuracy: 0.8839 - precision: 0.0000e+00 - recall: 0.0000e+00\n",
      "Epoch 62/70\n",
      "170232/170232 [==============================] - 6s 35us/sample - loss: 0.3591 - accuracy: 0.8839 - precision: 0.0000e+00 - recall: 0.0000e+00\n",
      "Epoch 63/70\n",
      "170232/170232 [==============================] - 6s 35us/sample - loss: 0.3592 - accuracy: 0.8839 - precision: 0.0000e+00 - recall: 0.0000e+00\n",
      "Epoch 64/70\n",
      "170232/170232 [==============================] - 6s 36us/sample - loss: 0.3592 - accuracy: 0.8839 - precision: 0.0000e+00 - recall: 0.0000e+00\n",
      "Epoch 65/70\n",
      "170232/170232 [==============================] - 6s 36us/sample - loss: 0.3591 - accuracy: 0.8839 - precision: 0.0000e+00 - recall: 0.0000e+00\n",
      "Epoch 66/70\n",
      "170232/170232 [==============================] - 6s 36us/sample - loss: 0.3592 - accuracy: 0.8839 - precision: 0.0000e+00 - recall: 0.0000e+00\n",
      "Epoch 67/70\n",
      "170232/170232 [==============================] - 6s 36us/sample - loss: 0.3592 - accuracy: 0.8839 - precision: 0.0000e+00 - recall: 0.0000e+00\n",
      "Epoch 68/70\n",
      "170232/170232 [==============================] - 6s 35us/sample - loss: 0.3591 - accuracy: 0.8839 - precision: 0.0000e+00 - recall: 0.0000e+00\n",
      "Epoch 69/70\n",
      "170232/170232 [==============================] - 6s 36us/sample - loss: 0.3591 - accuracy: 0.8839 - precision: 0.0000e+00 - recall: 0.0000e+00\n",
      "Epoch 70/70\n",
      "170232/170232 [==============================] - 6s 35us/sample - loss: 0.3591 - accuracy: 0.8839 - precision: 0.0000e+00 - recall: 0.0000e+00\n",
      "85115/85115 [==============================] - 2s 24us/sample - loss: 0.3591 - accuracy: 0.8839 - precision: 0.0000e+00 - recall: 0.0000e+00\n"
     ]
    }
   ],
   "source": [
    "estimator = KerasClassifier(build_fn = create_model, epochs = 70, batch_size = 32, verbose = 1)\n",
    "kfold = StratifiedKFold(n_splits = 3)\n",
    "results = cross_val_score(estimator, X, y, cv = kfold)"
   ]
  },
  {
   "cell_type": "code",
   "execution_count": 72,
   "metadata": {},
   "outputs": [
    {
     "name": "stdout",
     "output_type": "stream",
     "text": [
      "Model: \"sequential_5\"\n",
      "_________________________________________________________________\n",
      "Layer (type)                 Output Shape              Param #   \n",
      "=================================================================\n",
      "dense_20 (Dense)             (None, 8)                 104       \n",
      "_________________________________________________________________\n",
      "dense_21 (Dense)             (None, 16)                144       \n",
      "_________________________________________________________________\n",
      "dropout_10 (Dropout)         (None, 16)                0         \n",
      "_________________________________________________________________\n",
      "dense_22 (Dense)             (None, 16)                272       \n",
      "_________________________________________________________________\n",
      "dropout_11 (Dropout)         (None, 16)                0         \n",
      "_________________________________________________________________\n",
      "dense_23 (Dense)             (None, 1)                 17        \n",
      "=================================================================\n",
      "Total params: 537\n",
      "Trainable params: 537\n",
      "Non-trainable params: 0\n",
      "_________________________________________________________________\n",
      "Train on 255347 samples\n",
      "Epoch 1/35\n",
      "255347/255347 [==============================] - 10s 38us/sample - loss: 0.9196 - accuracy: 0.8630 - precision: 0.0969 - recall: 0.0216\n",
      "Epoch 2/35\n",
      "255347/255347 [==============================] - 9s 36us/sample - loss: 0.3724 - accuracy: 0.8839 - precision: 0.0000e+00 - recall: 0.0000e+00\n",
      "Epoch 3/35\n",
      "255347/255347 [==============================] - 10s 38us/sample - loss: 0.3689 - accuracy: 0.8839 - precision: 0.0000e+00 - recall: 0.0000e+00\n",
      "Epoch 4/35\n",
      "255347/255347 [==============================] - 9s 37us/sample - loss: 0.3666 - accuracy: 0.8839 - precision: 0.0000e+00 - recall: 0.0000e+00\n",
      "Epoch 5/35\n",
      "255347/255347 [==============================] - 9s 37us/sample - loss: 0.3642 - accuracy: 0.8839 - precision: 0.0000e+00 - recall: 0.0000e+00\n",
      "Epoch 6/35\n",
      "255347/255347 [==============================] - 9s 36us/sample - loss: 0.3636 - accuracy: 0.8839 - precision: 0.0000e+00 - recall: 0.0000e+00\n",
      "Epoch 7/35\n",
      "255347/255347 [==============================] - 9s 37us/sample - loss: 0.3627 - accuracy: 0.8839 - precision: 0.0000e+00 - recall: 0.0000e+00\n",
      "Epoch 8/35\n",
      "255347/255347 [==============================] - 10s 38us/sample - loss: 0.3620 - accuracy: 0.8839 - precision: 0.0000e+00 - recall: 0.0000e+00\n",
      "Epoch 9/35\n",
      "255347/255347 [==============================] - 10s 38us/sample - loss: 0.3613 - accuracy: 0.8839 - precision: 0.0000e+00 - recall: 0.0000e+00\n",
      "Epoch 10/35\n",
      "255347/255347 [==============================] - 10s 38us/sample - loss: 0.3609 - accuracy: 0.8839 - precision: 0.0000e+00 - recall: 0.0000e+00\n",
      "Epoch 11/35\n",
      "255347/255347 [==============================] - 10s 38us/sample - loss: 0.3607 - accuracy: 0.8839 - precision: 0.0000e+00 - recall: 0.0000e+00\n",
      "Epoch 12/35\n",
      "255347/255347 [==============================] - 10s 39us/sample - loss: 0.3602 - accuracy: 0.8839 - precision: 0.0000e+00 - recall: 0.0000e+00\n",
      "Epoch 13/35\n",
      "255347/255347 [==============================] - 10s 38us/sample - loss: 0.3601 - accuracy: 0.8839 - precision: 0.0000e+00 - recall: 0.0000e+00\n",
      "Epoch 14/35\n",
      "255347/255347 [==============================] - 10s 39us/sample - loss: 0.3598 - accuracy: 0.8839 - precision: 0.0000e+00 - recall: 0.0000e+00\n",
      "Epoch 15/35\n",
      "255347/255347 [==============================] - 10s 38us/sample - loss: 0.3597 - accuracy: 0.8839 - precision: 0.0000e+00 - recall: 0.0000e+00\n",
      "Epoch 16/35\n",
      "255347/255347 [==============================] - 10s 38us/sample - loss: 0.3597 - accuracy: 0.8839 - precision: 0.0000e+00 - recall: 0.0000e+00\n",
      "Epoch 17/35\n",
      "255347/255347 [==============================] - 10s 39us/sample - loss: 0.3595 - accuracy: 0.8839 - precision: 0.0000e+00 - recall: 0.0000e+00\n",
      "Epoch 18/35\n",
      "255347/255347 [==============================] - 10s 38us/sample - loss: 0.3594 - accuracy: 0.8839 - precision: 0.0000e+00 - recall: 0.0000e+00\n",
      "Epoch 19/35\n",
      "255347/255347 [==============================] - 10s 38us/sample - loss: 0.3594 - accuracy: 0.8839 - precision: 0.0000e+00 - recall: 0.0000e+00\n",
      "Epoch 20/35\n",
      "255347/255347 [==============================] - 10s 39us/sample - loss: 0.3594 - accuracy: 0.8839 - precision: 0.0000e+00 - recall: 0.0000e+00\n",
      "Epoch 21/35\n",
      "255347/255347 [==============================] - 10s 38us/sample - loss: 0.3594 - accuracy: 0.8839 - precision: 0.0000e+00 - recall: 0.0000e+00\n",
      "Epoch 22/35\n",
      "255347/255347 [==============================] - 10s 38us/sample - loss: 0.3593 - accuracy: 0.8839 - precision: 0.0000e+00 - recall: 0.0000e+00\n",
      "Epoch 23/35\n",
      "255347/255347 [==============================] - 9s 36us/sample - loss: 0.3593 - accuracy: 0.8839 - precision: 0.0000e+00 - recall: 0.0000e+00\n",
      "Epoch 24/35\n",
      "255347/255347 [==============================] - 9s 36us/sample - loss: 0.3593 - accuracy: 0.8839 - precision: 0.0000e+00 - recall: 0.0000e+00\n",
      "Epoch 25/35\n",
      "255347/255347 [==============================] - 10s 38us/sample - loss: 0.3593 - accuracy: 0.8839 - precision: 0.0000e+00 - recall: 0.0000e+00\n",
      "Epoch 26/35\n",
      "255347/255347 [==============================] - 10s 37us/sample - loss: 0.3592 - accuracy: 0.8839 - precision: 0.0000e+00 - recall: 0.0000e+00\n",
      "Epoch 27/35\n",
      "255347/255347 [==============================] - 9s 37us/sample - loss: 0.3592 - accuracy: 0.8839 - precision: 0.0000e+00 - recall: 0.0000e+00\n",
      "Epoch 28/35\n",
      "255347/255347 [==============================] - 10s 38us/sample - loss: 0.3592 - accuracy: 0.8839 - precision: 0.0000e+00 - recall: 0.0000e+00\n",
      "Epoch 29/35\n",
      "255347/255347 [==============================] - 9s 37us/sample - loss: 0.3592 - accuracy: 0.8839 - precision: 0.0000e+00 - recall: 0.0000e+00\n",
      "Epoch 30/35\n",
      "255347/255347 [==============================] - 9s 36us/sample - loss: 0.3592 - accuracy: 0.8839 - precision: 0.0000e+00 - recall: 0.0000e+00\n",
      "Epoch 31/35\n",
      "255347/255347 [==============================] - 9s 36us/sample - loss: 0.3592 - accuracy: 0.8839 - precision: 0.0000e+00 - recall: 0.0000e+00\n",
      "Epoch 32/35\n",
      "255347/255347 [==============================] - 9s 36us/sample - loss: 0.3592 - accuracy: 0.8839 - precision: 0.0000e+00 - recall: 0.0000e+00\n",
      "Epoch 33/35\n",
      "255347/255347 [==============================] - 9s 36us/sample - loss: 0.3592 - accuracy: 0.8839 - precision: 0.0000e+00 - recall: 0.0000e+00\n",
      "Epoch 34/35\n",
      "255347/255347 [==============================] - 9s 36us/sample - loss: 0.3592 - accuracy: 0.8839 - precision: 0.0000e+00 - recall: 0.0000e+00\n",
      "Epoch 35/35\n",
      "255347/255347 [==============================] - 9s 35us/sample - loss: 0.3592 - accuracy: 0.8839 - precision: 0.0000e+00 - recall: 0.0000e+00\n"
     ]
    }
   ],
   "source": [
    "train_history = estimator.fit(X, y, epochs = 35, batch_size = 32)"
   ]
  },
  {
   "cell_type": "code",
   "execution_count": 73,
   "metadata": {},
   "outputs": [
    {
     "name": "stdout",
     "output_type": "stream",
     "text": [
      "dict_keys(['loss', 'accuracy', 'precision', 'recall'])\n"
     ]
    }
   ],
   "source": [
    "print(train_history.history.keys())"
   ]
  },
  {
   "cell_type": "code",
   "execution_count": 105,
   "metadata": {},
   "outputs": [],
   "source": [
    "### PLEASE CHANGE THIS CODE TO IMPLEMENT YOUR OWN PREDICTIONS\n",
    "predicted_probability = xgb_model.predict(test_t)\n",
    "# Combine predictions with label column into a dataframe\n",
    "prediction_df = pd.DataFrame({'LoanID': test_df[['LoanID']].values[:, 0],\n",
    "                             'predicted_probability': predicted_probability})"
   ]
  },
  {
   "cell_type": "code",
   "execution_count": 106,
   "metadata": {},
   "outputs": [
    {
     "name": "stdout",
     "output_type": "stream",
     "text": [
      "(109435, 2)\n"
     ]
    },
    {
     "data": {
      "text/html": [
       "<div>\n",
       "<style scoped>\n",
       "    .dataframe tbody tr th:only-of-type {\n",
       "        vertical-align: middle;\n",
       "    }\n",
       "\n",
       "    .dataframe tbody tr th {\n",
       "        vertical-align: top;\n",
       "    }\n",
       "\n",
       "    .dataframe thead th {\n",
       "        text-align: right;\n",
       "    }\n",
       "</style>\n",
       "<table border=\"1\" class=\"dataframe\">\n",
       "  <thead>\n",
       "    <tr style=\"text-align: right;\">\n",
       "      <th></th>\n",
       "      <th>LoanID</th>\n",
       "      <th>predicted_probability</th>\n",
       "    </tr>\n",
       "  </thead>\n",
       "  <tbody>\n",
       "    <tr>\n",
       "      <th>0</th>\n",
       "      <td>7RYZGMKJIR</td>\n",
       "      <td>0</td>\n",
       "    </tr>\n",
       "    <tr>\n",
       "      <th>1</th>\n",
       "      <td>JDL5RH07AM</td>\n",
       "      <td>0</td>\n",
       "    </tr>\n",
       "    <tr>\n",
       "      <th>2</th>\n",
       "      <td>STAL716Y79</td>\n",
       "      <td>0</td>\n",
       "    </tr>\n",
       "    <tr>\n",
       "      <th>3</th>\n",
       "      <td>SO0KKJ3IQB</td>\n",
       "      <td>0</td>\n",
       "    </tr>\n",
       "    <tr>\n",
       "      <th>4</th>\n",
       "      <td>T99CWTYDCP</td>\n",
       "      <td>0</td>\n",
       "    </tr>\n",
       "    <tr>\n",
       "      <th>5</th>\n",
       "      <td>0SNHFWV4UP</td>\n",
       "      <td>0</td>\n",
       "    </tr>\n",
       "    <tr>\n",
       "      <th>6</th>\n",
       "      <td>S6ITP6LGYS</td>\n",
       "      <td>0</td>\n",
       "    </tr>\n",
       "    <tr>\n",
       "      <th>7</th>\n",
       "      <td>A6I7U12IRJ</td>\n",
       "      <td>0</td>\n",
       "    </tr>\n",
       "    <tr>\n",
       "      <th>8</th>\n",
       "      <td>8W6KY50JU4</td>\n",
       "      <td>0</td>\n",
       "    </tr>\n",
       "    <tr>\n",
       "      <th>9</th>\n",
       "      <td>THFQ08OLMU</td>\n",
       "      <td>0</td>\n",
       "    </tr>\n",
       "  </tbody>\n",
       "</table>\n",
       "</div>"
      ],
      "text/plain": [
       "       LoanID  predicted_probability\n",
       "0  7RYZGMKJIR                      0\n",
       "1  JDL5RH07AM                      0\n",
       "2  STAL716Y79                      0\n",
       "3  SO0KKJ3IQB                      0\n",
       "4  T99CWTYDCP                      0\n",
       "5  0SNHFWV4UP                      0\n",
       "6  S6ITP6LGYS                      0\n",
       "7  A6I7U12IRJ                      0\n",
       "8  8W6KY50JU4                      0\n",
       "9  THFQ08OLMU                      0"
      ]
     },
     "execution_count": 106,
     "metadata": {},
     "output_type": "execute_result"
    }
   ],
   "source": [
    "### PLEASE CHANGE THIS CODE TO IMPLEMENT YOUR OWN PREDICTIONS\n",
    "\n",
    "# View our 'prediction_df' dataframe as required for submission.\n",
    "# Ensure it should contain 104,480 rows and 2 columns 'CustomerID' and 'predicted_probaility'\n",
    "print(prediction_df.shape)\n",
    "prediction_df.head(10)"
   ]
  },
  {
   "cell_type": "markdown",
   "metadata": {},
   "source": [
    "**PLEASE CHANGE CODE ABOVE TO IMPLEMENT YOUR OWN PREDICTIONS**"
   ]
  },
  {
   "cell_type": "markdown",
   "metadata": {},
   "source": [
    "## Final Tests - **IMPORTANT** - the cells below must be run prior to submission\n",
    "\n",
    "Below are some tests to ensure your submission is in the correct format for autograding. The autograding process accepts a csv `prediction_submission.csv` which we will generate from our `prediction_df` below. Please run the tests below an ensure no assertion errors are thrown."
   ]
  },
  {
   "cell_type": "code",
   "execution_count": 107,
   "metadata": {},
   "outputs": [],
   "source": [
    "# FINAL TEST CELLS - please make sure all of your code is above these test cells\n",
    "\n",
    "# Writing to csv for autograding purposes\n",
    "prediction_df.to_csv(\"prediction_submission.csv\", index=False)\n",
    "submission = pd.read_csv(\"prediction_submission.csv\")\n",
    "\n",
    "assert isinstance(submission, pd.DataFrame), 'You should have a dataframe named prediction_df.'"
   ]
  },
  {
   "cell_type": "code",
   "execution_count": 108,
   "metadata": {},
   "outputs": [],
   "source": [
    "# FINAL TEST CELLS - please make sure all of your code is above these test cells\n",
    "\n",
    "assert submission.columns[0] == 'LoanID', 'The first column name should be CustomerID.'\n",
    "assert submission.columns[1] == 'predicted_probability', 'The second column name should be predicted_probability.'"
   ]
  },
  {
   "cell_type": "code",
   "execution_count": 109,
   "metadata": {},
   "outputs": [],
   "source": [
    "# FINAL TEST CELLS - please make sure all of your code is above these test cells\n",
    "\n",
    "assert submission.shape[0] == 109435, 'The dataframe prediction_df should have 109435 rows.'"
   ]
  },
  {
   "cell_type": "code",
   "execution_count": 110,
   "metadata": {},
   "outputs": [
    {
     "data": {
      "text/plain": [
       "(109435, 2)"
      ]
     },
     "execution_count": 110,
     "metadata": {},
     "output_type": "execute_result"
    }
   ],
   "source": [
    "# FINAL TEST CELLS - please make sure all of your code is above these test cells\n",
    "\n",
    "assert submission.shape[1] == 2, 'The dataframe prediction_df should have 2 columns.'\n",
    "submission.shape"
   ]
  },
  {
   "cell_type": "code",
   "execution_count": 111,
   "metadata": {},
   "outputs": [],
   "source": [
    "# FINAL TEST CELLS - please make sure all of your code is above these test cells\n",
    "\n",
    "## This cell calculates the auc score and is hidden. Submit Assignment to see AUC score."
   ]
  },
  {
   "cell_type": "markdown",
   "metadata": {},
   "source": [
    "## SUBMIT YOUR WORK!\n",
    "\n",
    "Once we are happy with our `prediction_df` and `prediction_submission.csv` we can now submit for autograding! Submit by using the blue **Submit Assignment** at the top of your notebook. Don't worry if your initial submission isn't perfect as you have multiple submission attempts and will obtain some feedback after each submission!"
   ]
  }
 ],
 "metadata": {
  "kernelspec": {
   "display_name": "Python 3",
   "language": "python",
   "name": "python3"
  },
  "language_info": {
   "codemirror_mode": {
    "name": "ipython",
    "version": 3
   },
   "file_extension": ".py",
   "mimetype": "text/x-python",
   "name": "python",
   "nbconvert_exporter": "python",
   "pygments_lexer": "ipython3",
   "version": "3.7.6"
  }
 },
 "nbformat": 4,
 "nbformat_minor": 4
}
